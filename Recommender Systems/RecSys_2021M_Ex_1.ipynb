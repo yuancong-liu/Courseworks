{
  "nbformat": 4,
  "nbformat_minor": 0,
  "metadata": {
    "colab": {
      "name": "RecSys 2021M - Ex 1",
      "provenance": [],
      "collapsed_sections": []
    },
    "kernelspec": {
      "name": "python3",
      "display_name": "Python 3"
    }
  },
  "cells": [
    {
      "cell_type": "markdown",
      "metadata": {
        "id": "zMRJzJXdfkNv"
      },
      "source": [
        "# Exercise 1\n",
        "\n",
        "The **aims** of this exercise are:\n",
        "\n",
        "*   Allow you practice slicing and analysing data with Pandas\n",
        "*   Introduce you to the MovieLens dataset\n",
        "*   Demonstrate use of Pandas to perform non-personalised and personalised recommendations\n",
        "\n",
        "This exercise is worth 5% of the contribution to your final mark for RecSys, and is expected to take approximately 5-7 hours of your time. NB: This is an individual exercise.\n",
        "\n"
      ]
    },
    {
      "cell_type": "code",
      "metadata": {
        "id": "D0FCwi-bIytL"
      },
      "source": [
        "#Standard setup\n",
        "import pandas as pd\n",
        "import numpy as np\n",
        "import matplotlib.pyplot as plt"
      ],
      "execution_count": 1,
      "outputs": []
    },
    {
      "cell_type": "markdown",
      "metadata": {
        "id": "uTkyfA-p51Oi"
      },
      "source": [
        "#Part A. MovieLens Exploration using Pandas\n",
        "\n",
        "This exercise will use the [Movielens](https://grouplens.org/datasets/movielens/) data. There is a large dataset with 25M ratings, however we will focus on the smallest one, that has only 100k ratings.  \n",
        "\n",
        "**Hint** : If you are using Colab, it might be good if you open these files, either on your own machine, or using Colab's inbuilt CSV viewer (via folder icon on the left hand sidebar). The CSV files are small enough to be searched using your favourite editor."
      ]
    },
    {
      "cell_type": "code",
      "metadata": {
        "id": "Hq-oSeM344Ca",
        "colab": {
          "base_uri": "https://localhost:8080/"
        },
        "outputId": "7412012b-7403-4b63-c18b-1e85581039c9"
      },
      "source": [
        "!curl -o ml-latest-small.zip http://files.grouplens.org/datasets/movielens/ml-latest-small.zip\n",
        "# backup location\n",
        "#!curl -o ml-latest-small.zip http://www.dcs.gla.ac.uk/~craigm/recsysHM/ml-latest-small.zip\n",
        "\n",
        "!unzip -o ml-latest-small.zip"
      ],
      "execution_count": 2,
      "outputs": [
        {
          "output_type": "stream",
          "text": [
            "  % Total    % Received % Xferd  Average Speed   Time    Time     Time  Current\n",
            "                                 Dload  Upload   Total   Spent    Left  Speed\n",
            "100  955k  100  955k    0     0  2793k      0 --:--:-- --:--:-- --:--:-- 2793k\n",
            "Archive:  ml-latest-small.zip\n",
            "  inflating: ml-latest-small/links.csv  \n",
            "  inflating: ml-latest-small/tags.csv  \n",
            "  inflating: ml-latest-small/ratings.csv  \n",
            "  inflating: ml-latest-small/README.txt  \n",
            "  inflating: ml-latest-small/movies.csv  \n"
          ],
          "name": "stdout"
        }
      ]
    },
    {
      "cell_type": "markdown",
      "metadata": {
        "id": "idTYNpH-6Pr3"
      },
      "source": [
        "Let's look into the files using Pandas:"
      ]
    },
    {
      "cell_type": "code",
      "metadata": {
        "id": "-PWv4cz-4_7B"
      },
      "source": [
        "ratings_df = pd.read_csv(\"ml-latest-small/ratings.csv\")\n",
        "movies_df = pd.read_csv(\"ml-latest-small/movies.csv\")\n",
        "\n",
        "# we're going to treat userId as strings, and similarly as movies. This will prevent confusion later on.\n",
        "ratings_df['userId'] = \"u\" + ratings_df['userId'].astype(str)\n",
        "ratings_df['movieId'] = \"m\" + ratings_df['movieId'].astype(str)\n",
        "movies_df['movieId'] = \"m\" +  movies_df['movieId'].astype(str)"
      ],
      "execution_count": 3,
      "outputs": []
    },
    {
      "cell_type": "code",
      "metadata": {
        "id": "0R-tZogo5Uhn",
        "colab": {
          "base_uri": "https://localhost:8080/",
          "height": 419
        },
        "outputId": "2eaaae32-0053-45e3-e57a-393d5d3e2d7f"
      },
      "source": [
        "ratings_df"
      ],
      "execution_count": 4,
      "outputs": [
        {
          "output_type": "execute_result",
          "data": {
            "text/html": [
              "<div>\n",
              "<style scoped>\n",
              "    .dataframe tbody tr th:only-of-type {\n",
              "        vertical-align: middle;\n",
              "    }\n",
              "\n",
              "    .dataframe tbody tr th {\n",
              "        vertical-align: top;\n",
              "    }\n",
              "\n",
              "    .dataframe thead th {\n",
              "        text-align: right;\n",
              "    }\n",
              "</style>\n",
              "<table border=\"1\" class=\"dataframe\">\n",
              "  <thead>\n",
              "    <tr style=\"text-align: right;\">\n",
              "      <th></th>\n",
              "      <th>userId</th>\n",
              "      <th>movieId</th>\n",
              "      <th>rating</th>\n",
              "      <th>timestamp</th>\n",
              "    </tr>\n",
              "  </thead>\n",
              "  <tbody>\n",
              "    <tr>\n",
              "      <th>0</th>\n",
              "      <td>u1</td>\n",
              "      <td>m1</td>\n",
              "      <td>4.0</td>\n",
              "      <td>964982703</td>\n",
              "    </tr>\n",
              "    <tr>\n",
              "      <th>1</th>\n",
              "      <td>u1</td>\n",
              "      <td>m3</td>\n",
              "      <td>4.0</td>\n",
              "      <td>964981247</td>\n",
              "    </tr>\n",
              "    <tr>\n",
              "      <th>2</th>\n",
              "      <td>u1</td>\n",
              "      <td>m6</td>\n",
              "      <td>4.0</td>\n",
              "      <td>964982224</td>\n",
              "    </tr>\n",
              "    <tr>\n",
              "      <th>3</th>\n",
              "      <td>u1</td>\n",
              "      <td>m47</td>\n",
              "      <td>5.0</td>\n",
              "      <td>964983815</td>\n",
              "    </tr>\n",
              "    <tr>\n",
              "      <th>4</th>\n",
              "      <td>u1</td>\n",
              "      <td>m50</td>\n",
              "      <td>5.0</td>\n",
              "      <td>964982931</td>\n",
              "    </tr>\n",
              "    <tr>\n",
              "      <th>...</th>\n",
              "      <td>...</td>\n",
              "      <td>...</td>\n",
              "      <td>...</td>\n",
              "      <td>...</td>\n",
              "    </tr>\n",
              "    <tr>\n",
              "      <th>100831</th>\n",
              "      <td>u610</td>\n",
              "      <td>m166534</td>\n",
              "      <td>4.0</td>\n",
              "      <td>1493848402</td>\n",
              "    </tr>\n",
              "    <tr>\n",
              "      <th>100832</th>\n",
              "      <td>u610</td>\n",
              "      <td>m168248</td>\n",
              "      <td>5.0</td>\n",
              "      <td>1493850091</td>\n",
              "    </tr>\n",
              "    <tr>\n",
              "      <th>100833</th>\n",
              "      <td>u610</td>\n",
              "      <td>m168250</td>\n",
              "      <td>5.0</td>\n",
              "      <td>1494273047</td>\n",
              "    </tr>\n",
              "    <tr>\n",
              "      <th>100834</th>\n",
              "      <td>u610</td>\n",
              "      <td>m168252</td>\n",
              "      <td>5.0</td>\n",
              "      <td>1493846352</td>\n",
              "    </tr>\n",
              "    <tr>\n",
              "      <th>100835</th>\n",
              "      <td>u610</td>\n",
              "      <td>m170875</td>\n",
              "      <td>3.0</td>\n",
              "      <td>1493846415</td>\n",
              "    </tr>\n",
              "  </tbody>\n",
              "</table>\n",
              "<p>100836 rows × 4 columns</p>\n",
              "</div>"
            ],
            "text/plain": [
              "       userId  movieId  rating   timestamp\n",
              "0          u1       m1     4.0   964982703\n",
              "1          u1       m3     4.0   964981247\n",
              "2          u1       m6     4.0   964982224\n",
              "3          u1      m47     5.0   964983815\n",
              "4          u1      m50     5.0   964982931\n",
              "...       ...      ...     ...         ...\n",
              "100831   u610  m166534     4.0  1493848402\n",
              "100832   u610  m168248     5.0  1493850091\n",
              "100833   u610  m168250     5.0  1494273047\n",
              "100834   u610  m168252     5.0  1493846352\n",
              "100835   u610  m170875     3.0  1493846415\n",
              "\n",
              "[100836 rows x 4 columns]"
            ]
          },
          "metadata": {
            "tags": []
          },
          "execution_count": 4
        }
      ]
    },
    {
      "cell_type": "markdown",
      "metadata": {
        "id": "MDR2Wx1qvddn"
      },
      "source": [
        "`ratings_df` is a [Pandas DataFrame](https://pandas.pydata.org/pandas-docs/stable/reference/api/pandas.DataFrame.html). Viewing it, we can see users (identified by userId) are rating various movies (cf. movieId).\n",
        "\n",
        "We can slice and dice the dataframes, e.g.\n",
        "\n",
        " * project a single column (this returns a [Pandas Series](https://pandas.pydata.org/pandas-docs/stable/reference/api/pandas.Series.html))."
      ]
    },
    {
      "cell_type": "code",
      "metadata": {
        "id": "55fuLJUXvl7z",
        "colab": {
          "base_uri": "https://localhost:8080/"
        },
        "outputId": "e605d4ab-d8bf-4ee5-d2ab-5f005c2c285c"
      },
      "source": [
        "movies_df[\"title\"]"
      ],
      "execution_count": 5,
      "outputs": [
        {
          "output_type": "execute_result",
          "data": {
            "text/plain": [
              "0                                Toy Story (1995)\n",
              "1                                  Jumanji (1995)\n",
              "2                         Grumpier Old Men (1995)\n",
              "3                        Waiting to Exhale (1995)\n",
              "4              Father of the Bride Part II (1995)\n",
              "                          ...                    \n",
              "9737    Black Butler: Book of the Atlantic (2017)\n",
              "9738                 No Game No Life: Zero (2017)\n",
              "9739                                 Flint (2017)\n",
              "9740          Bungo Stray Dogs: Dead Apple (2018)\n",
              "9741          Andrew Dice Clay: Dice Rules (1991)\n",
              "Name: title, Length: 9742, dtype: object"
            ]
          },
          "metadata": {
            "tags": []
          },
          "execution_count": 5
        }
      ]
    },
    {
      "cell_type": "markdown",
      "metadata": {
        "id": "fbFbiqKewD5p"
      },
      "source": [
        " - project multiple columns (this returns a view of the original DataFrame, as another DataFrame object)."
      ]
    },
    {
      "cell_type": "code",
      "metadata": {
        "id": "Jcve9Xpgv_E0",
        "colab": {
          "base_uri": "https://localhost:8080/",
          "height": 419
        },
        "outputId": "d2219878-2e61-4e5f-8831-05e3e1eab676"
      },
      "source": [
        "movies_df[[\"movieId\", \"title\"]]"
      ],
      "execution_count": 6,
      "outputs": [
        {
          "output_type": "execute_result",
          "data": {
            "text/html": [
              "<div>\n",
              "<style scoped>\n",
              "    .dataframe tbody tr th:only-of-type {\n",
              "        vertical-align: middle;\n",
              "    }\n",
              "\n",
              "    .dataframe tbody tr th {\n",
              "        vertical-align: top;\n",
              "    }\n",
              "\n",
              "    .dataframe thead th {\n",
              "        text-align: right;\n",
              "    }\n",
              "</style>\n",
              "<table border=\"1\" class=\"dataframe\">\n",
              "  <thead>\n",
              "    <tr style=\"text-align: right;\">\n",
              "      <th></th>\n",
              "      <th>movieId</th>\n",
              "      <th>title</th>\n",
              "    </tr>\n",
              "  </thead>\n",
              "  <tbody>\n",
              "    <tr>\n",
              "      <th>0</th>\n",
              "      <td>m1</td>\n",
              "      <td>Toy Story (1995)</td>\n",
              "    </tr>\n",
              "    <tr>\n",
              "      <th>1</th>\n",
              "      <td>m2</td>\n",
              "      <td>Jumanji (1995)</td>\n",
              "    </tr>\n",
              "    <tr>\n",
              "      <th>2</th>\n",
              "      <td>m3</td>\n",
              "      <td>Grumpier Old Men (1995)</td>\n",
              "    </tr>\n",
              "    <tr>\n",
              "      <th>3</th>\n",
              "      <td>m4</td>\n",
              "      <td>Waiting to Exhale (1995)</td>\n",
              "    </tr>\n",
              "    <tr>\n",
              "      <th>4</th>\n",
              "      <td>m5</td>\n",
              "      <td>Father of the Bride Part II (1995)</td>\n",
              "    </tr>\n",
              "    <tr>\n",
              "      <th>...</th>\n",
              "      <td>...</td>\n",
              "      <td>...</td>\n",
              "    </tr>\n",
              "    <tr>\n",
              "      <th>9737</th>\n",
              "      <td>m193581</td>\n",
              "      <td>Black Butler: Book of the Atlantic (2017)</td>\n",
              "    </tr>\n",
              "    <tr>\n",
              "      <th>9738</th>\n",
              "      <td>m193583</td>\n",
              "      <td>No Game No Life: Zero (2017)</td>\n",
              "    </tr>\n",
              "    <tr>\n",
              "      <th>9739</th>\n",
              "      <td>m193585</td>\n",
              "      <td>Flint (2017)</td>\n",
              "    </tr>\n",
              "    <tr>\n",
              "      <th>9740</th>\n",
              "      <td>m193587</td>\n",
              "      <td>Bungo Stray Dogs: Dead Apple (2018)</td>\n",
              "    </tr>\n",
              "    <tr>\n",
              "      <th>9741</th>\n",
              "      <td>m193609</td>\n",
              "      <td>Andrew Dice Clay: Dice Rules (1991)</td>\n",
              "    </tr>\n",
              "  </tbody>\n",
              "</table>\n",
              "<p>9742 rows × 2 columns</p>\n",
              "</div>"
            ],
            "text/plain": [
              "      movieId                                      title\n",
              "0          m1                           Toy Story (1995)\n",
              "1          m2                             Jumanji (1995)\n",
              "2          m3                    Grumpier Old Men (1995)\n",
              "3          m4                   Waiting to Exhale (1995)\n",
              "4          m5         Father of the Bride Part II (1995)\n",
              "...       ...                                        ...\n",
              "9737  m193581  Black Butler: Book of the Atlantic (2017)\n",
              "9738  m193583               No Game No Life: Zero (2017)\n",
              "9739  m193585                               Flint (2017)\n",
              "9740  m193587        Bungo Stray Dogs: Dead Apple (2018)\n",
              "9741  m193609        Andrew Dice Clay: Dice Rules (1991)\n",
              "\n",
              "[9742 rows x 2 columns]"
            ]
          },
          "metadata": {
            "tags": []
          },
          "execution_count": 6
        }
      ]
    },
    {
      "cell_type": "markdown",
      "metadata": {
        "id": "sm0zU1rywGzv"
      },
      "source": [
        " - Select rows based on one or more conditions"
      ]
    },
    {
      "cell_type": "code",
      "metadata": {
        "id": "0jnBvzK1wPE5",
        "colab": {
          "base_uri": "https://localhost:8080/",
          "height": 48
        },
        "outputId": "105608be-91b3-4cb1-ed8d-8829b743fa43"
      },
      "source": [
        "ratings_df[(ratings_df[\"userId\"] == 'm500') & (ratings_df[\"rating\"] == 1)]"
      ],
      "execution_count": 7,
      "outputs": [
        {
          "output_type": "execute_result",
          "data": {
            "text/html": [
              "<div>\n",
              "<style scoped>\n",
              "    .dataframe tbody tr th:only-of-type {\n",
              "        vertical-align: middle;\n",
              "    }\n",
              "\n",
              "    .dataframe tbody tr th {\n",
              "        vertical-align: top;\n",
              "    }\n",
              "\n",
              "    .dataframe thead th {\n",
              "        text-align: right;\n",
              "    }\n",
              "</style>\n",
              "<table border=\"1\" class=\"dataframe\">\n",
              "  <thead>\n",
              "    <tr style=\"text-align: right;\">\n",
              "      <th></th>\n",
              "      <th>userId</th>\n",
              "      <th>movieId</th>\n",
              "      <th>rating</th>\n",
              "      <th>timestamp</th>\n",
              "    </tr>\n",
              "  </thead>\n",
              "  <tbody>\n",
              "  </tbody>\n",
              "</table>\n",
              "</div>"
            ],
            "text/plain": [
              "Empty DataFrame\n",
              "Columns: [userId, movieId, rating, timestamp]\n",
              "Index: []"
            ]
          },
          "metadata": {
            "tags": []
          },
          "execution_count": 7
        }
      ]
    },
    {
      "cell_type": "markdown",
      "metadata": {
        "id": "P8LI-cDv6cqI"
      },
      "source": [
        "\n",
        "\n",
        "Lets practice a bit more with Pandas. You can also refer to the [Pandas Dataframe API documentation.](https://pandas.pydata.org/pandas-docs/stable/reference/api/pandas.DataFrame.html)\n",
        "\n",
        "Write code to answer the following questions:\n",
        "\n",
        "## Task 1. How many users are there in this dataset?\n"
      ]
    },
    {
      "cell_type": "code",
      "metadata": {
        "id": "5uJ8vWIYyJed",
        "colab": {
          "base_uri": "https://localhost:8080/"
        },
        "outputId": "72c9468a-95e8-41ae-f53e-f9fc377923e2"
      },
      "source": [
        "# add your solution here\n",
        "ratings_df[\"userId\"].nunique()"
      ],
      "execution_count": 8,
      "outputs": [
        {
          "output_type": "execute_result",
          "data": {
            "text/plain": [
              "610"
            ]
          },
          "metadata": {
            "tags": []
          },
          "execution_count": 8
        }
      ]
    },
    {
      "cell_type": "markdown",
      "metadata": {
        "id": "9RgRiMEiJBzJ"
      },
      "source": [
        "## Task 2. What is the average rating of *each user*?\n",
        "\n",
        "The output should be a Pandas Series containing an average rating for each of the users.\n",
        "\n",
        "Hint: Use a [groupby()](https://pandas.pydata.org/pandas-docs/stable/reference/api/pandas.DataFrame.groupby.html) on the ratings_df dataframe. [Aggregation](https://pandas.pydata.org/pandas-docs/stable/user_guide/groupby.html#aggregation) will also be useful.\n"
      ]
    },
    {
      "cell_type": "code",
      "metadata": {
        "id": "i-qEgTiEOg6Z",
        "colab": {
          "base_uri": "https://localhost:8080/",
          "height": 450
        },
        "outputId": "21391af5-8969-443a-9eb8-bfc161771c49"
      },
      "source": [
        "# add your solutions here\n",
        "grouped = ratings_df[[\"userId\", \"rating\"]].groupby([\"userId\"])\n",
        "grouped.agg(np.mean)"
      ],
      "execution_count": 9,
      "outputs": [
        {
          "output_type": "execute_result",
          "data": {
            "text/html": [
              "<div>\n",
              "<style scoped>\n",
              "    .dataframe tbody tr th:only-of-type {\n",
              "        vertical-align: middle;\n",
              "    }\n",
              "\n",
              "    .dataframe tbody tr th {\n",
              "        vertical-align: top;\n",
              "    }\n",
              "\n",
              "    .dataframe thead th {\n",
              "        text-align: right;\n",
              "    }\n",
              "</style>\n",
              "<table border=\"1\" class=\"dataframe\">\n",
              "  <thead>\n",
              "    <tr style=\"text-align: right;\">\n",
              "      <th></th>\n",
              "      <th>rating</th>\n",
              "    </tr>\n",
              "    <tr>\n",
              "      <th>userId</th>\n",
              "      <th></th>\n",
              "    </tr>\n",
              "  </thead>\n",
              "  <tbody>\n",
              "    <tr>\n",
              "      <th>u1</th>\n",
              "      <td>4.366379</td>\n",
              "    </tr>\n",
              "    <tr>\n",
              "      <th>u10</th>\n",
              "      <td>3.278571</td>\n",
              "    </tr>\n",
              "    <tr>\n",
              "      <th>u100</th>\n",
              "      <td>3.945946</td>\n",
              "    </tr>\n",
              "    <tr>\n",
              "      <th>u101</th>\n",
              "      <td>3.557377</td>\n",
              "    </tr>\n",
              "    <tr>\n",
              "      <th>u102</th>\n",
              "      <td>3.357143</td>\n",
              "    </tr>\n",
              "    <tr>\n",
              "      <th>...</th>\n",
              "      <td>...</td>\n",
              "    </tr>\n",
              "    <tr>\n",
              "      <th>u95</th>\n",
              "      <td>4.062500</td>\n",
              "    </tr>\n",
              "    <tr>\n",
              "      <th>u96</th>\n",
              "      <td>3.884615</td>\n",
              "    </tr>\n",
              "    <tr>\n",
              "      <th>u97</th>\n",
              "      <td>4.194444</td>\n",
              "    </tr>\n",
              "    <tr>\n",
              "      <th>u98</th>\n",
              "      <td>3.913043</td>\n",
              "    </tr>\n",
              "    <tr>\n",
              "      <th>u99</th>\n",
              "      <td>3.867925</td>\n",
              "    </tr>\n",
              "  </tbody>\n",
              "</table>\n",
              "<p>610 rows × 1 columns</p>\n",
              "</div>"
            ],
            "text/plain": [
              "          rating\n",
              "userId          \n",
              "u1      4.366379\n",
              "u10     3.278571\n",
              "u100    3.945946\n",
              "u101    3.557377\n",
              "u102    3.357143\n",
              "...          ...\n",
              "u95     4.062500\n",
              "u96     3.884615\n",
              "u97     4.194444\n",
              "u98     3.913043\n",
              "u99     3.867925\n",
              "\n",
              "[610 rows x 1 columns]"
            ]
          },
          "metadata": {
            "tags": []
          },
          "execution_count": 9
        }
      ]
    },
    {
      "cell_type": "code",
      "metadata": {
        "colab": {
          "base_uri": "https://localhost:8080/"
        },
        "id": "zmarrk0zePRB",
        "outputId": "a097c9d5-c3e0-420b-e921-dcc871f78b63"
      },
      "source": [
        "ratings_df.groupby([\"userId\"]).mean()[\"rating\"].loc[\"u200\"]"
      ],
      "execution_count": 10,
      "outputs": [
        {
          "output_type": "execute_result",
          "data": {
            "text/plain": [
              "3.809880239520958"
            ]
          },
          "metadata": {
            "tags": []
          },
          "execution_count": 10
        }
      ]
    },
    {
      "cell_type": "markdown",
      "metadata": {
        "id": "0p0HKlOBJA21"
      },
      "source": [
        "## Task 3. What is the average number of ratings per-user? \n",
        "\n",
        "In contrast to Task 2, the solution is a single number.\n",
        "\n",
        "Many solutions will involve [GroupBy.count()](https://pandas.pydata.org/pandas-docs/stable/user_guide/groupby.html#aggregation)."
      ]
    },
    {
      "cell_type": "code",
      "metadata": {
        "id": "1dkaoscfyKXx",
        "colab": {
          "base_uri": "https://localhost:8080/"
        },
        "outputId": "e9a4df5e-677d-4d19-dffb-ba432d27f8d4"
      },
      "source": [
        "# add your solution here\n",
        "grouped_1 = ratings_df[[\"userId\", \"rating\"]].groupby([\"userId\"]).count()\n",
        "grouped_1.mean()"
      ],
      "execution_count": 11,
      "outputs": [
        {
          "output_type": "execute_result",
          "data": {
            "text/plain": [
              "rating    165.304918\n",
              "dtype: float64"
            ]
          },
          "metadata": {
            "tags": []
          },
          "execution_count": 11
        }
      ]
    },
    {
      "cell_type": "markdown",
      "metadata": {
        "id": "gH2uqwgwNWu0"
      },
      "source": [
        "## Analysing users's preferences."
      ]
    },
    {
      "cell_type": "markdown",
      "metadata": {
        "id": "UOrEA21uN1zL"
      },
      "source": [
        "Lets try something else. We can see what movies a given user has rated by \"merging\" the two dataframes - this equates to a JOIN in SQL. Lets do this for userId 556.\n"
      ]
    },
    {
      "cell_type": "code",
      "metadata": {
        "id": "M73Di67MN2Jk",
        "colab": {
          "base_uri": "https://localhost:8080/",
          "height": 1000
        },
        "outputId": "04cd359f-e64d-4ecb-f7f5-a511851dad34"
      },
      "source": [
        "pd.merge(\n",
        "    ratings_df[ratings_df[\"userId\"]=='u556'], \n",
        "    movies_df, \n",
        "    on=[\"movieId\"]).sort_values(by=\"rating\", ascending=False)"
      ],
      "execution_count": 12,
      "outputs": [
        {
          "output_type": "execute_result",
          "data": {
            "text/html": [
              "<div>\n",
              "<style scoped>\n",
              "    .dataframe tbody tr th:only-of-type {\n",
              "        vertical-align: middle;\n",
              "    }\n",
              "\n",
              "    .dataframe tbody tr th {\n",
              "        vertical-align: top;\n",
              "    }\n",
              "\n",
              "    .dataframe thead th {\n",
              "        text-align: right;\n",
              "    }\n",
              "</style>\n",
              "<table border=\"1\" class=\"dataframe\">\n",
              "  <thead>\n",
              "    <tr style=\"text-align: right;\">\n",
              "      <th></th>\n",
              "      <th>userId</th>\n",
              "      <th>movieId</th>\n",
              "      <th>rating</th>\n",
              "      <th>timestamp</th>\n",
              "      <th>title</th>\n",
              "      <th>genres</th>\n",
              "    </tr>\n",
              "  </thead>\n",
              "  <tbody>\n",
              "    <tr>\n",
              "      <th>0</th>\n",
              "      <td>u556</td>\n",
              "      <td>m588</td>\n",
              "      <td>5.0</td>\n",
              "      <td>1534321062</td>\n",
              "      <td>Aladdin (1992)</td>\n",
              "      <td>Adventure|Animation|Children|Comedy|Musical</td>\n",
              "    </tr>\n",
              "    <tr>\n",
              "      <th>2</th>\n",
              "      <td>u556</td>\n",
              "      <td>m4896</td>\n",
              "      <td>5.0</td>\n",
              "      <td>1534320962</td>\n",
              "      <td>Harry Potter and the Sorcerer's Stone (a.k.a. ...</td>\n",
              "      <td>Adventure|Children|Fantasy</td>\n",
              "    </tr>\n",
              "    <tr>\n",
              "      <th>27</th>\n",
              "      <td>u556</td>\n",
              "      <td>m112852</td>\n",
              "      <td>5.0</td>\n",
              "      <td>1534321287</td>\n",
              "      <td>Guardians of the Galaxy (2014)</td>\n",
              "      <td>Action|Adventure|Sci-Fi</td>\n",
              "    </tr>\n",
              "    <tr>\n",
              "      <th>21</th>\n",
              "      <td>u556</td>\n",
              "      <td>m76093</td>\n",
              "      <td>5.0</td>\n",
              "      <td>1534320965</td>\n",
              "      <td>How to Train Your Dragon (2010)</td>\n",
              "      <td>Adventure|Animation|Children|Fantasy|IMAX</td>\n",
              "    </tr>\n",
              "    <tr>\n",
              "      <th>3</th>\n",
              "      <td>u556</td>\n",
              "      <td>m4993</td>\n",
              "      <td>4.5</td>\n",
              "      <td>1534320935</td>\n",
              "      <td>Lord of the Rings: The Fellowship of the Ring,...</td>\n",
              "      <td>Adventure|Fantasy</td>\n",
              "    </tr>\n",
              "    <tr>\n",
              "      <th>4</th>\n",
              "      <td>u556</td>\n",
              "      <td>m5816</td>\n",
              "      <td>4.5</td>\n",
              "      <td>1534320982</td>\n",
              "      <td>Harry Potter and the Chamber of Secrets (2002)</td>\n",
              "      <td>Adventure|Fantasy</td>\n",
              "    </tr>\n",
              "    <tr>\n",
              "      <th>23</th>\n",
              "      <td>u556</td>\n",
              "      <td>m88125</td>\n",
              "      <td>4.5</td>\n",
              "      <td>1534320986</td>\n",
              "      <td>Harry Potter and the Deathly Hallows: Part 2 (...</td>\n",
              "      <td>Action|Adventure|Drama|Fantasy|Mystery|IMAX</td>\n",
              "    </tr>\n",
              "    <tr>\n",
              "      <th>13</th>\n",
              "      <td>u556</td>\n",
              "      <td>m49649</td>\n",
              "      <td>4.5</td>\n",
              "      <td>1534321075</td>\n",
              "      <td>Eragon (2006)</td>\n",
              "      <td>Action|Adventure|Fantasy</td>\n",
              "    </tr>\n",
              "    <tr>\n",
              "      <th>18</th>\n",
              "      <td>u556</td>\n",
              "      <td>m72998</td>\n",
              "      <td>4.0</td>\n",
              "      <td>1534321171</td>\n",
              "      <td>Avatar (2009)</td>\n",
              "      <td>Action|Adventure|Sci-Fi|IMAX</td>\n",
              "    </tr>\n",
              "    <tr>\n",
              "      <th>30</th>\n",
              "      <td>u556</td>\n",
              "      <td>m162600</td>\n",
              "      <td>4.0</td>\n",
              "      <td>1534321200</td>\n",
              "      <td>Miss Peregrine's Home for Peculiar Children (2...</td>\n",
              "      <td>Fantasy</td>\n",
              "    </tr>\n",
              "    <tr>\n",
              "      <th>29</th>\n",
              "      <td>u556</td>\n",
              "      <td>m122890</td>\n",
              "      <td>4.0</td>\n",
              "      <td>1534321026</td>\n",
              "      <td>Warcraft (2016)</td>\n",
              "      <td>Action|Adventure|Fantasy</td>\n",
              "    </tr>\n",
              "    <tr>\n",
              "      <th>28</th>\n",
              "      <td>u556</td>\n",
              "      <td>m118997</td>\n",
              "      <td>4.0</td>\n",
              "      <td>1534321209</td>\n",
              "      <td>Into the Woods (2014)</td>\n",
              "      <td>Children|Comedy|Fantasy|Musical</td>\n",
              "    </tr>\n",
              "    <tr>\n",
              "      <th>26</th>\n",
              "      <td>u556</td>\n",
              "      <td>m98809</td>\n",
              "      <td>4.0</td>\n",
              "      <td>1534320967</td>\n",
              "      <td>Hobbit: An Unexpected Journey, The (2012)</td>\n",
              "      <td>Adventure|Fantasy|IMAX</td>\n",
              "    </tr>\n",
              "    <tr>\n",
              "      <th>24</th>\n",
              "      <td>u556</td>\n",
              "      <td>m93363</td>\n",
              "      <td>4.0</td>\n",
              "      <td>1534321171</td>\n",
              "      <td>John Carter (2012)</td>\n",
              "      <td>Action|Adventure|Sci-Fi|IMAX</td>\n",
              "    </tr>\n",
              "    <tr>\n",
              "      <th>22</th>\n",
              "      <td>u556</td>\n",
              "      <td>m78105</td>\n",
              "      <td>4.0</td>\n",
              "      <td>1534321036</td>\n",
              "      <td>Prince of Persia: The Sands of Time (2010)</td>\n",
              "      <td>Action|Adventure|Fantasy|Romance|IMAX</td>\n",
              "    </tr>\n",
              "    <tr>\n",
              "      <th>20</th>\n",
              "      <td>u556</td>\n",
              "      <td>m74789</td>\n",
              "      <td>4.0</td>\n",
              "      <td>1534321017</td>\n",
              "      <td>Alice in Wonderland (2010)</td>\n",
              "      <td>Adventure|Fantasy|IMAX</td>\n",
              "    </tr>\n",
              "    <tr>\n",
              "      <th>31</th>\n",
              "      <td>u556</td>\n",
              "      <td>m187031</td>\n",
              "      <td>4.0</td>\n",
              "      <td>1534321194</td>\n",
              "      <td>Jurassic World: Fallen Kingdom (2018)</td>\n",
              "      <td>Action|Adventure|Drama|Sci-Fi|Thriller</td>\n",
              "    </tr>\n",
              "    <tr>\n",
              "      <th>1</th>\n",
              "      <td>u556</td>\n",
              "      <td>m3081</td>\n",
              "      <td>4.0</td>\n",
              "      <td>1534321047</td>\n",
              "      <td>Sleepy Hollow (1999)</td>\n",
              "      <td>Fantasy|Horror|Mystery|Romance</td>\n",
              "    </tr>\n",
              "    <tr>\n",
              "      <th>15</th>\n",
              "      <td>u556</td>\n",
              "      <td>m56171</td>\n",
              "      <td>4.0</td>\n",
              "      <td>1534321207</td>\n",
              "      <td>Golden Compass, The (2007)</td>\n",
              "      <td>Adventure|Children|Fantasy</td>\n",
              "    </tr>\n",
              "    <tr>\n",
              "      <th>14</th>\n",
              "      <td>u556</td>\n",
              "      <td>m54001</td>\n",
              "      <td>4.0</td>\n",
              "      <td>1534321024</td>\n",
              "      <td>Harry Potter and the Order of the Phoenix (2007)</td>\n",
              "      <td>Adventure|Drama|Fantasy|IMAX</td>\n",
              "    </tr>\n",
              "    <tr>\n",
              "      <th>12</th>\n",
              "      <td>u556</td>\n",
              "      <td>m48394</td>\n",
              "      <td>4.0</td>\n",
              "      <td>1534320956</td>\n",
              "      <td>Pan's Labyrinth (Laberinto del fauno, El) (2006)</td>\n",
              "      <td>Drama|Fantasy|Thriller</td>\n",
              "    </tr>\n",
              "    <tr>\n",
              "      <th>10</th>\n",
              "      <td>u556</td>\n",
              "      <td>m40815</td>\n",
              "      <td>4.0</td>\n",
              "      <td>1534321013</td>\n",
              "      <td>Harry Potter and the Goblet of Fire (2005)</td>\n",
              "      <td>Adventure|Fantasy|Thriller|IMAX</td>\n",
              "    </tr>\n",
              "    <tr>\n",
              "      <th>9</th>\n",
              "      <td>u556</td>\n",
              "      <td>m8368</td>\n",
              "      <td>4.0</td>\n",
              "      <td>1534321009</td>\n",
              "      <td>Harry Potter and the Prisoner of Azkaban (2004)</td>\n",
              "      <td>Adventure|Fantasy|IMAX</td>\n",
              "    </tr>\n",
              "    <tr>\n",
              "      <th>8</th>\n",
              "      <td>u556</td>\n",
              "      <td>m7153</td>\n",
              "      <td>4.0</td>\n",
              "      <td>1534320952</td>\n",
              "      <td>Lord of the Rings: The Return of the King, The...</td>\n",
              "      <td>Action|Adventure|Drama|Fantasy</td>\n",
              "    </tr>\n",
              "    <tr>\n",
              "      <th>7</th>\n",
              "      <td>u556</td>\n",
              "      <td>m6754</td>\n",
              "      <td>4.0</td>\n",
              "      <td>1534321199</td>\n",
              "      <td>Underworld (2003)</td>\n",
              "      <td>Action|Fantasy|Horror</td>\n",
              "    </tr>\n",
              "    <tr>\n",
              "      <th>6</th>\n",
              "      <td>u556</td>\n",
              "      <td>m6539</td>\n",
              "      <td>4.0</td>\n",
              "      <td>1534321011</td>\n",
              "      <td>Pirates of the Caribbean: The Curse of the Bla...</td>\n",
              "      <td>Action|Adventure|Comedy|Fantasy</td>\n",
              "    </tr>\n",
              "    <tr>\n",
              "      <th>5</th>\n",
              "      <td>u556</td>\n",
              "      <td>m5952</td>\n",
              "      <td>4.0</td>\n",
              "      <td>1534320953</td>\n",
              "      <td>Lord of the Rings: The Two Towers, The (2002)</td>\n",
              "      <td>Adventure|Fantasy</td>\n",
              "    </tr>\n",
              "    <tr>\n",
              "      <th>17</th>\n",
              "      <td>u556</td>\n",
              "      <td>m69844</td>\n",
              "      <td>3.5</td>\n",
              "      <td>1534320977</td>\n",
              "      <td>Harry Potter and the Half-Blood Prince (2009)</td>\n",
              "      <td>Adventure|Fantasy|Mystery|Romance|IMAX</td>\n",
              "    </tr>\n",
              "    <tr>\n",
              "      <th>19</th>\n",
              "      <td>u556</td>\n",
              "      <td>m74530</td>\n",
              "      <td>3.5</td>\n",
              "      <td>1534321044</td>\n",
              "      <td>Percy Jackson &amp; the Olympians: The Lightning T...</td>\n",
              "      <td>Adventure|Fantasy</td>\n",
              "    </tr>\n",
              "    <tr>\n",
              "      <th>11</th>\n",
              "      <td>u556</td>\n",
              "      <td>m41566</td>\n",
              "      <td>3.5</td>\n",
              "      <td>1534320971</td>\n",
              "      <td>Chronicles of Narnia: The Lion, the Witch and ...</td>\n",
              "      <td>Adventure|Children|Fantasy</td>\n",
              "    </tr>\n",
              "    <tr>\n",
              "      <th>25</th>\n",
              "      <td>u556</td>\n",
              "      <td>m94780</td>\n",
              "      <td>3.5</td>\n",
              "      <td>1534321052</td>\n",
              "      <td>Snow White and the Huntsman (2012)</td>\n",
              "      <td>Action|Adventure|Drama</td>\n",
              "    </tr>\n",
              "    <tr>\n",
              "      <th>16</th>\n",
              "      <td>u556</td>\n",
              "      <td>m63992</td>\n",
              "      <td>2.5</td>\n",
              "      <td>1534321030</td>\n",
              "      <td>Twilight (2008)</td>\n",
              "      <td>Drama|Fantasy|Romance|Thriller</td>\n",
              "    </tr>\n",
              "  </tbody>\n",
              "</table>\n",
              "</div>"
            ],
            "text/plain": [
              "   userId  ...                                       genres\n",
              "0    u556  ...  Adventure|Animation|Children|Comedy|Musical\n",
              "2    u556  ...                   Adventure|Children|Fantasy\n",
              "27   u556  ...                      Action|Adventure|Sci-Fi\n",
              "21   u556  ...    Adventure|Animation|Children|Fantasy|IMAX\n",
              "3    u556  ...                            Adventure|Fantasy\n",
              "4    u556  ...                            Adventure|Fantasy\n",
              "23   u556  ...  Action|Adventure|Drama|Fantasy|Mystery|IMAX\n",
              "13   u556  ...                     Action|Adventure|Fantasy\n",
              "18   u556  ...                 Action|Adventure|Sci-Fi|IMAX\n",
              "30   u556  ...                                      Fantasy\n",
              "29   u556  ...                     Action|Adventure|Fantasy\n",
              "28   u556  ...              Children|Comedy|Fantasy|Musical\n",
              "26   u556  ...                       Adventure|Fantasy|IMAX\n",
              "24   u556  ...                 Action|Adventure|Sci-Fi|IMAX\n",
              "22   u556  ...        Action|Adventure|Fantasy|Romance|IMAX\n",
              "20   u556  ...                       Adventure|Fantasy|IMAX\n",
              "31   u556  ...       Action|Adventure|Drama|Sci-Fi|Thriller\n",
              "1    u556  ...               Fantasy|Horror|Mystery|Romance\n",
              "15   u556  ...                   Adventure|Children|Fantasy\n",
              "14   u556  ...                 Adventure|Drama|Fantasy|IMAX\n",
              "12   u556  ...                       Drama|Fantasy|Thriller\n",
              "10   u556  ...              Adventure|Fantasy|Thriller|IMAX\n",
              "9    u556  ...                       Adventure|Fantasy|IMAX\n",
              "8    u556  ...               Action|Adventure|Drama|Fantasy\n",
              "7    u556  ...                        Action|Fantasy|Horror\n",
              "6    u556  ...              Action|Adventure|Comedy|Fantasy\n",
              "5    u556  ...                            Adventure|Fantasy\n",
              "17   u556  ...       Adventure|Fantasy|Mystery|Romance|IMAX\n",
              "19   u556  ...                            Adventure|Fantasy\n",
              "11   u556  ...                   Adventure|Children|Fantasy\n",
              "25   u556  ...                       Action|Adventure|Drama\n",
              "16   u556  ...               Drama|Fantasy|Romance|Thriller\n",
              "\n",
              "[32 rows x 6 columns]"
            ]
          },
          "metadata": {
            "tags": []
          },
          "execution_count": 12
        }
      ]
    },
    {
      "cell_type": "markdown",
      "metadata": {
        "id": "B0IXWKgSOOOV"
      },
      "source": [
        "This user is pretty into adventure/fantasies. \n",
        "\n",
        "NB: If the columns we are joining on dont have the same name, we can specify `left_on` and `right_on` attributes. See also the  [pd.merge()](https://pandas.pydata.org/pandas-docs/stable/reference/api/pandas.DataFrame.merge.html) documentation."
      ]
    },
    {
      "cell_type": "markdown",
      "metadata": {
        "id": "kxvFO4x7_Obe"
      },
      "source": [
        "## Task 4. Analysing movie categories\n",
        "\n",
        "Lets examine two particular users a bit more, u556 and u7.\n",
        "\n",
        " - How many movies with \"Fantasy\" genre have u556 and u7 rated positively ($\\geq 4$)? \n",
        "\n",
        " - What percentage of ALL of u556's ratings are positive ratings ($\\geq 4$)  AND for movies belonging to the \"Fantasy\" genre?\n",
        "\n",
        "Hints:\n",
        " - Pandas Series has a useful `str.contains()` function:  https://pandas.pydata.org/pandas-docs/stable/reference/api/pandas.Series.str.contains.html\n",
        " - Pandas dataframes respond to `len()` as you would expect."
      ]
    },
    {
      "cell_type": "code",
      "metadata": {
        "id": "GYIo0HzBCfU1",
        "colab": {
          "base_uri": "https://localhost:8080/"
        },
        "outputId": "1e7b4dee-cce6-49f4-a0b9-0bf3eb6785e1"
      },
      "source": [
        "# add your solution here\n",
        "u556 = pd.merge(\n",
        "    ratings_df[ratings_df[\"userId\"]=='u556'], \n",
        "    movies_df, \n",
        "    on=[\"movieId\"]).sort_values(by=\"rating\", ascending=False).reset_index()\n",
        "\n",
        "u7 = pd.merge(\n",
        "    ratings_df[ratings_df[\"userId\"]=='u7'], \n",
        "    movies_df, \n",
        "    on=[\"movieId\"]).sort_values(by=\"rating\", ascending=False).reset_index()\n",
        "\n",
        "u556_fan_4 = np.sum([u556[\"genres\"].str.contains(\"Fantasy\") * u556[\"rating\"]>=4])\n",
        "u7_fan_4 = np.sum([u7[\"genres\"].str.contains(\"Fantasy\") * u7[\"rating\"]>=4])\n",
        "\n",
        "percentage = u556_fan_4 / len(u556)\n",
        "\n",
        "print(\"u556 has rated\", u556_fan_4, \"fantasy movies positively.\")\n",
        "print(\"u7 has rated\", u7_fan_4, \"fantasy movies positively.\")\n",
        "print(\"Percentage of\", percentage, \"of all u556's ratings are positive and are for fantasy movies.\")"
      ],
      "execution_count": 13,
      "outputs": [
        {
          "output_type": "stream",
          "text": [
            "u556 has rated 22 fantasy movies positively.\n",
            "u7 has rated 11 fantasy movies positively.\n",
            "Percentage of 0.6875 of all u556's ratings are positive and are for fantasy movies.\n"
          ],
          "name": "stdout"
        }
      ]
    },
    {
      "cell_type": "markdown",
      "metadata": {
        "id": "2jpHFK3LI7do"
      },
      "source": [
        "# Part B. Popularity-based Recomendation\n",
        "\n",
        "Now lets examine the ratings of movies. \n",
        "\n",
        "We can get a dataframe containing the number of times a movie has been rated by applying a groupby and aggregation of the ratings_df.\n"
      ]
    },
    {
      "cell_type": "code",
      "metadata": {
        "colab": {
          "base_uri": "https://localhost:8080/",
          "height": 450
        },
        "id": "QMhogBiLjSzu",
        "outputId": "0b12a4a9-6dc7-44c1-e013-5c3565e679e8"
      },
      "source": [
        "groupingCountSeries = ratings_df[[\"movieId\", \"rating\"]].groupby([\"movieId\"]).count()\n",
        "groupingCountSeries[groupingCountSeries.rating<25]"
      ],
      "execution_count": 14,
      "outputs": [
        {
          "output_type": "execute_result",
          "data": {
            "text/html": [
              "<div>\n",
              "<style scoped>\n",
              "    .dataframe tbody tr th:only-of-type {\n",
              "        vertical-align: middle;\n",
              "    }\n",
              "\n",
              "    .dataframe tbody tr th {\n",
              "        vertical-align: top;\n",
              "    }\n",
              "\n",
              "    .dataframe thead th {\n",
              "        text-align: right;\n",
              "    }\n",
              "</style>\n",
              "<table border=\"1\" class=\"dataframe\">\n",
              "  <thead>\n",
              "    <tr style=\"text-align: right;\">\n",
              "      <th></th>\n",
              "      <th>rating</th>\n",
              "    </tr>\n",
              "    <tr>\n",
              "      <th>movieId</th>\n",
              "      <th></th>\n",
              "    </tr>\n",
              "  </thead>\n",
              "  <tbody>\n",
              "    <tr>\n",
              "      <th>m100</th>\n",
              "      <td>14</td>\n",
              "    </tr>\n",
              "    <tr>\n",
              "      <th>m100044</th>\n",
              "      <td>1</td>\n",
              "    </tr>\n",
              "    <tr>\n",
              "      <th>m100068</th>\n",
              "      <td>1</td>\n",
              "    </tr>\n",
              "    <tr>\n",
              "      <th>m100083</th>\n",
              "      <td>3</td>\n",
              "    </tr>\n",
              "    <tr>\n",
              "      <th>m100106</th>\n",
              "      <td>1</td>\n",
              "    </tr>\n",
              "    <tr>\n",
              "      <th>...</th>\n",
              "      <td>...</td>\n",
              "    </tr>\n",
              "    <tr>\n",
              "      <th>m99853</th>\n",
              "      <td>1</td>\n",
              "    </tr>\n",
              "    <tr>\n",
              "      <th>m999</th>\n",
              "      <td>12</td>\n",
              "    </tr>\n",
              "    <tr>\n",
              "      <th>m99910</th>\n",
              "      <td>2</td>\n",
              "    </tr>\n",
              "    <tr>\n",
              "      <th>m99917</th>\n",
              "      <td>3</td>\n",
              "    </tr>\n",
              "    <tr>\n",
              "      <th>m99992</th>\n",
              "      <td>1</td>\n",
              "    </tr>\n",
              "  </tbody>\n",
              "</table>\n",
              "<p>8674 rows × 1 columns</p>\n",
              "</div>"
            ],
            "text/plain": [
              "         rating\n",
              "movieId        \n",
              "m100         14\n",
              "m100044       1\n",
              "m100068       1\n",
              "m100083       3\n",
              "m100106       1\n",
              "...         ...\n",
              "m99853        1\n",
              "m999         12\n",
              "m99910        2\n",
              "m99917        3\n",
              "m99992        1\n",
              "\n",
              "[8674 rows x 1 columns]"
            ]
          },
          "metadata": {
            "tags": []
          },
          "execution_count": 14
        }
      ]
    },
    {
      "cell_type": "markdown",
      "metadata": {
        "id": "ak38W5u1jkgu"
      },
      "source": [
        "##Task 5. Plot the distribution of movie ratings.\n",
        "\n",
        "Use Matplotlib's histogram function to plot the distribution of movie ratings from the `groupingCountSeries` dataframe. This will produce a bar chart with 'binned' counts.\n",
        "\n",
        "Hints: \n",
        "- apply a logarithmic scale for the y-axis, using matplotlib's `log=True` option.\n",
        "- Allow matplotlib to use its default number of bins (which is 10).\n",
        "- Matplotlib has a [`savefig()`](https://chartio.com/resources/tutorials/how-to-save-a-plot-to-a-file-using-matplotlib/#the-savefig-method) function for saving a PNG of a figure.\n",
        "\n",
        "You will need to analyse this graph in the quiz."
      ]
    },
    {
      "cell_type": "code",
      "metadata": {
        "id": "aBISjUn7jgSy",
        "colab": {
          "base_uri": "https://localhost:8080/",
          "height": 419
        },
        "outputId": "c0b26bf7-7ce9-4b65-ce68-5bbb668707ab"
      },
      "source": [
        "# add your solution here\n",
        "task5 = groupingCountSeries.reset_index()\n",
        "task5 = pd.merge(\n",
        "    movies_df[\"movieId\"],\n",
        "    task5,\n",
        "    on=[\"movieId\"]\n",
        ")\n",
        "task5"
      ],
      "execution_count": 15,
      "outputs": [
        {
          "output_type": "execute_result",
          "data": {
            "text/html": [
              "<div>\n",
              "<style scoped>\n",
              "    .dataframe tbody tr th:only-of-type {\n",
              "        vertical-align: middle;\n",
              "    }\n",
              "\n",
              "    .dataframe tbody tr th {\n",
              "        vertical-align: top;\n",
              "    }\n",
              "\n",
              "    .dataframe thead th {\n",
              "        text-align: right;\n",
              "    }\n",
              "</style>\n",
              "<table border=\"1\" class=\"dataframe\">\n",
              "  <thead>\n",
              "    <tr style=\"text-align: right;\">\n",
              "      <th></th>\n",
              "      <th>movieId</th>\n",
              "      <th>rating</th>\n",
              "    </tr>\n",
              "  </thead>\n",
              "  <tbody>\n",
              "    <tr>\n",
              "      <th>0</th>\n",
              "      <td>m1</td>\n",
              "      <td>215</td>\n",
              "    </tr>\n",
              "    <tr>\n",
              "      <th>1</th>\n",
              "      <td>m2</td>\n",
              "      <td>110</td>\n",
              "    </tr>\n",
              "    <tr>\n",
              "      <th>2</th>\n",
              "      <td>m3</td>\n",
              "      <td>52</td>\n",
              "    </tr>\n",
              "    <tr>\n",
              "      <th>3</th>\n",
              "      <td>m4</td>\n",
              "      <td>7</td>\n",
              "    </tr>\n",
              "    <tr>\n",
              "      <th>4</th>\n",
              "      <td>m5</td>\n",
              "      <td>49</td>\n",
              "    </tr>\n",
              "    <tr>\n",
              "      <th>...</th>\n",
              "      <td>...</td>\n",
              "      <td>...</td>\n",
              "    </tr>\n",
              "    <tr>\n",
              "      <th>9719</th>\n",
              "      <td>m193581</td>\n",
              "      <td>1</td>\n",
              "    </tr>\n",
              "    <tr>\n",
              "      <th>9720</th>\n",
              "      <td>m193583</td>\n",
              "      <td>1</td>\n",
              "    </tr>\n",
              "    <tr>\n",
              "      <th>9721</th>\n",
              "      <td>m193585</td>\n",
              "      <td>1</td>\n",
              "    </tr>\n",
              "    <tr>\n",
              "      <th>9722</th>\n",
              "      <td>m193587</td>\n",
              "      <td>1</td>\n",
              "    </tr>\n",
              "    <tr>\n",
              "      <th>9723</th>\n",
              "      <td>m193609</td>\n",
              "      <td>1</td>\n",
              "    </tr>\n",
              "  </tbody>\n",
              "</table>\n",
              "<p>9724 rows × 2 columns</p>\n",
              "</div>"
            ],
            "text/plain": [
              "      movieId  rating\n",
              "0          m1     215\n",
              "1          m2     110\n",
              "2          m3      52\n",
              "3          m4       7\n",
              "4          m5      49\n",
              "...       ...     ...\n",
              "9719  m193581       1\n",
              "9720  m193583       1\n",
              "9721  m193585       1\n",
              "9722  m193587       1\n",
              "9723  m193609       1\n",
              "\n",
              "[9724 rows x 2 columns]"
            ]
          },
          "metadata": {
            "tags": []
          },
          "execution_count": 15
        }
      ]
    },
    {
      "cell_type": "code",
      "metadata": {
        "colab": {
          "base_uri": "https://localhost:8080/",
          "height": 265
        },
        "id": "-fOUAuxUV6vf",
        "outputId": "ef2016e0-84a9-4193-a1fe-74443b7adb7b"
      },
      "source": [
        "task5.plot(kind=\"hist\", logy=True)\n",
        "plt.savefig(\"img\")"
      ],
      "execution_count": 16,
      "outputs": [
        {
          "output_type": "display_data",
          "data": {
            "image/png": "[encoded data removed]",
            "text/plain": [
              "<Figure size 432x288 with 1 Axes>"
            ]
          },
          "metadata": {
            "tags": [],
            "needs_background": "light"
          }
        }
      ]
    },
    {
      "cell_type": "markdown",
      "metadata": {
        "id": "mN9DjXtHAt0A"
      },
      "source": [
        "\n",
        "## Task 6. Find the names of *all* of the movies that have the highest *average* ratings?\n",
        "\n",
        "You should return a dataframe containing the ids and names of the movies, their average ratings, and the number of ratings. NB: You may need to analyse this dataframe further to answer the questions in the quiz.\n",
        "\n",
        "Hints:\n",
        " - Try a [groupby()](https://pandas.pydata.org/pandas-docs/stable/reference/api/pandas.DataFrame.groupby.html). Once you have a Series with columns [movieId, meanRating], identify the highest value of meanRating. You can then merge this with the movies_df.\n",
        " - If the column we are trying to merge on is an index, we can use  `left_index=True` or `right_index=True` in the [pd.merge()](https://pandas.pydata.org/pandas-docs/stable/reference/api/pandas.merge.html).\n"
      ]
    },
    {
      "cell_type": "code",
      "metadata": {
        "id": "rI5u8pIuOkmp",
        "colab": {
          "base_uri": "https://localhost:8080/",
          "height": 419
        },
        "outputId": "5ed90ecf-d074-4abd-8e24-f65fff06e327"
      },
      "source": [
        "# add your solution here\n",
        "averages = pd.merge(\n",
        "    ratings_df[[\"movieId\", \"rating\"]].groupby([\"movieId\"]).agg(np.mean).sort_values(by=\"rating\", ascending=False),\n",
        "    groupingCountSeries,\n",
        "    on=[\"movieId\"]\n",
        ")\n",
        "\n",
        "movies_rt = pd.merge(\n",
        "    averages,\n",
        "    movies_df[[\"title\", \"movieId\"]],\n",
        "    on=[\"movieId\"]\n",
        ")\n",
        "\n",
        "movies_rt.rename(columns={'rating_x':'rating', 'rating_y':'number of rates'}, inplace=True)\n",
        "\n",
        "movies_rt"
      ],
      "execution_count": 17,
      "outputs": [
        {
          "output_type": "execute_result",
          "data": {
            "text/html": [
              "<div>\n",
              "<style scoped>\n",
              "    .dataframe tbody tr th:only-of-type {\n",
              "        vertical-align: middle;\n",
              "    }\n",
              "\n",
              "    .dataframe tbody tr th {\n",
              "        vertical-align: top;\n",
              "    }\n",
              "\n",
              "    .dataframe thead th {\n",
              "        text-align: right;\n",
              "    }\n",
              "</style>\n",
              "<table border=\"1\" class=\"dataframe\">\n",
              "  <thead>\n",
              "    <tr style=\"text-align: right;\">\n",
              "      <th></th>\n",
              "      <th>movieId</th>\n",
              "      <th>rating</th>\n",
              "      <th>number of rates</th>\n",
              "      <th>title</th>\n",
              "    </tr>\n",
              "  </thead>\n",
              "  <tbody>\n",
              "    <tr>\n",
              "      <th>0</th>\n",
              "      <td>m167064</td>\n",
              "      <td>5.0</td>\n",
              "      <td>1</td>\n",
              "      <td>I Am Not Your Negro (2017)</td>\n",
              "    </tr>\n",
              "    <tr>\n",
              "      <th>1</th>\n",
              "      <td>m138966</td>\n",
              "      <td>5.0</td>\n",
              "      <td>1</td>\n",
              "      <td>Nasu: Summer in Andalusia (2003)</td>\n",
              "    </tr>\n",
              "    <tr>\n",
              "      <th>2</th>\n",
              "      <td>m53578</td>\n",
              "      <td>5.0</td>\n",
              "      <td>1</td>\n",
              "      <td>Valet, The (La doublure) (2006)</td>\n",
              "    </tr>\n",
              "    <tr>\n",
              "      <th>3</th>\n",
              "      <td>m139640</td>\n",
              "      <td>5.0</td>\n",
              "      <td>1</td>\n",
              "      <td>Ooops! Noah is Gone... (2015)</td>\n",
              "    </tr>\n",
              "    <tr>\n",
              "      <th>4</th>\n",
              "      <td>m79897</td>\n",
              "      <td>5.0</td>\n",
              "      <td>1</td>\n",
              "      <td>Get Low (2009)</td>\n",
              "    </tr>\n",
              "    <tr>\n",
              "      <th>...</th>\n",
              "      <td>...</td>\n",
              "      <td>...</td>\n",
              "      <td>...</td>\n",
              "      <td>...</td>\n",
              "    </tr>\n",
              "    <tr>\n",
              "      <th>9719</th>\n",
              "      <td>m4051</td>\n",
              "      <td>0.5</td>\n",
              "      <td>1</td>\n",
              "      <td>Horrors of Spider Island (Ein Toter Hing im Ne...</td>\n",
              "    </tr>\n",
              "    <tr>\n",
              "      <th>9720</th>\n",
              "      <td>m4750</td>\n",
              "      <td>0.5</td>\n",
              "      <td>1</td>\n",
              "      <td>3 Ninjas Knuckle Up (1995)</td>\n",
              "    </tr>\n",
              "    <tr>\n",
              "      <th>9721</th>\n",
              "      <td>m165645</td>\n",
              "      <td>0.5</td>\n",
              "      <td>1</td>\n",
              "      <td>Bad Santa 2 (2016)</td>\n",
              "    </tr>\n",
              "    <tr>\n",
              "      <th>9722</th>\n",
              "      <td>m160872</td>\n",
              "      <td>0.5</td>\n",
              "      <td>1</td>\n",
              "      <td>Satanic (2016)</td>\n",
              "    </tr>\n",
              "    <tr>\n",
              "      <th>9723</th>\n",
              "      <td>m141668</td>\n",
              "      <td>0.5</td>\n",
              "      <td>1</td>\n",
              "      <td>War Room (2015)</td>\n",
              "    </tr>\n",
              "  </tbody>\n",
              "</table>\n",
              "<p>9724 rows × 4 columns</p>\n",
              "</div>"
            ],
            "text/plain": [
              "      movieId  ...                                              title\n",
              "0     m167064  ...                         I Am Not Your Negro (2017)\n",
              "1     m138966  ...                   Nasu: Summer in Andalusia (2003)\n",
              "2      m53578  ...                    Valet, The (La doublure) (2006)\n",
              "3     m139640  ...                      Ooops! Noah is Gone... (2015)\n",
              "4      m79897  ...                                     Get Low (2009)\n",
              "...       ...  ...                                                ...\n",
              "9719    m4051  ...  Horrors of Spider Island (Ein Toter Hing im Ne...\n",
              "9720    m4750  ...                         3 Ninjas Knuckle Up (1995)\n",
              "9721  m165645  ...                                 Bad Santa 2 (2016)\n",
              "9722  m160872  ...                                     Satanic (2016)\n",
              "9723  m141668  ...                                    War Room (2015)\n",
              "\n",
              "[9724 rows x 4 columns]"
            ]
          },
          "metadata": {
            "tags": []
          },
          "execution_count": 17
        }
      ]
    },
    {
      "cell_type": "code",
      "metadata": {
        "colab": {
          "base_uri": "https://localhost:8080/"
        },
        "id": "uFMg5O5yuSHF",
        "outputId": "b5c7277c-6cd6-420d-9f56-89abf56681b4"
      },
      "source": [
        "movies_rt[movies_rt[\"rating\"]==5].count()"
      ],
      "execution_count": 18,
      "outputs": [
        {
          "output_type": "execute_result",
          "data": {
            "text/plain": [
              "movieId            296\n",
              "rating             296\n",
              "number of rates    296\n",
              "title              296\n",
              "dtype: int64"
            ]
          },
          "metadata": {
            "tags": []
          },
          "execution_count": 18
        }
      ]
    },
    {
      "cell_type": "markdown",
      "metadata": {
        "id": "TmRzCDf9iL9t"
      },
      "source": [
        "You can nosw answer the question in the quiz for Task 6, based on your  observations on analysing this table?"
      ]
    },
    {
      "cell_type": "markdown",
      "metadata": {
        "id": "8ryQHGrwyqp8"
      },
      "source": [
        "# Part C - Association Rules and Lift\n",
        "\n",
        "I think we can do better than simply examining movie popularity. \n",
        "\n",
        "Lets take all of the positive ratings (4 or 5), and find the most popular pairs of movies that users have watched.\n",
        "\n",
        "There is a lot going on there, so please take the time to break it down to understand what it does.\n",
        "\n",
        "NB: In this code, we perform a \"self-join\" on a dataframe. If this is unfamiliar, you can read more at:\n",
        " - https://dfrieds.com/data-analysis/self-join-python-pandas.html\n",
        " - https://www.w3schools.com/sql/sql_join_self.asp\n",
        "\n"
      ]
    },
    {
      "cell_type": "code",
      "metadata": {
        "colab": {
          "base_uri": "https://localhost:8080/",
          "height": 204
        },
        "id": "SM1p2gpLQz1V",
        "outputId": "886c3452-0d9f-4be8-9977-418f8169275d"
      },
      "source": [
        "positives = ratings_df[ratings_df[\"rating\"]>=4]\n",
        "\n",
        "#join positives with itself on userId to get all pairs of movies watched by a given user.\n",
        "pairs = pd.merge(positives, positives, on=[\"userId\"])\n",
        "\n",
        "#we only want A->B, not B->A. Use the timestamps to restrict the selected pairs\n",
        "sequences = pairs[pairs[\"timestamp_x\"] < pairs[\"timestamp_y\"]] \n",
        "\n",
        "#lets count the frequency of each pair of movies.\n",
        "paircounts = sequences[[\"movieId_x\", \"movieId_y\", \"userId\"]].groupby([\"movieId_x\", \"movieId_y\"]).count()\n",
        "\n",
        "#sort by the most popular pairs.\n",
        "pairswithcounts = paircounts.reset_index().rename(columns={\"userId\" : \"count\"}).sort_values(['count'], ascending=False)\n",
        "\n",
        "#display the top most frequent pairs\n",
        "pairswithcounts.head()"
      ],
      "execution_count": 19,
      "outputs": [
        {
          "output_type": "execute_result",
          "data": {
            "text/html": [
              "<div>\n",
              "<style scoped>\n",
              "    .dataframe tbody tr th:only-of-type {\n",
              "        vertical-align: middle;\n",
              "    }\n",
              "\n",
              "    .dataframe tbody tr th {\n",
              "        vertical-align: top;\n",
              "    }\n",
              "\n",
              "    .dataframe thead th {\n",
              "        text-align: right;\n",
              "    }\n",
              "</style>\n",
              "<table border=\"1\" class=\"dataframe\">\n",
              "  <thead>\n",
              "    <tr style=\"text-align: right;\">\n",
              "      <th></th>\n",
              "      <th>movieId_x</th>\n",
              "      <th>movieId_y</th>\n",
              "      <th>count</th>\n",
              "    </tr>\n",
              "  </thead>\n",
              "  <tbody>\n",
              "    <tr>\n",
              "      <th>1574483</th>\n",
              "      <td>m318</td>\n",
              "      <td>m356</td>\n",
              "      <td>104</td>\n",
              "    </tr>\n",
              "    <tr>\n",
              "      <th>1416644</th>\n",
              "      <td>m296</td>\n",
              "      <td>m593</td>\n",
              "      <td>92</td>\n",
              "    </tr>\n",
              "    <tr>\n",
              "      <th>1416033</th>\n",
              "      <td>m296</td>\n",
              "      <td>m47</td>\n",
              "      <td>91</td>\n",
              "    </tr>\n",
              "    <tr>\n",
              "      <th>1187221</th>\n",
              "      <td>m260</td>\n",
              "      <td>m1196</td>\n",
              "      <td>91</td>\n",
              "    </tr>\n",
              "    <tr>\n",
              "      <th>1575263</th>\n",
              "      <td>m318</td>\n",
              "      <td>m527</td>\n",
              "      <td>90</td>\n",
              "    </tr>\n",
              "  </tbody>\n",
              "</table>\n",
              "</div>"
            ],
            "text/plain": [
              "        movieId_x movieId_y  count\n",
              "1574483      m318      m356    104\n",
              "1416644      m296      m593     92\n",
              "1416033      m296       m47     91\n",
              "1187221      m260     m1196     91\n",
              "1575263      m318      m527     90"
            ]
          },
          "metadata": {
            "tags": []
          },
          "execution_count": 19
        }
      ]
    },
    {
      "cell_type": "markdown",
      "metadata": {
        "id": "ThACu3UfzjgB"
      },
      "source": [
        "## Task 7. Display the titles of the (most popular) movie pairs from `pairswithcounts`?\n",
        "\n",
        "You will need to analyse this dataframe to complete questions in the quiz.\n",
        "\n",
        "Hint:\n",
        " - you will need to re-sort after a pd.merge()"
      ]
    },
    {
      "cell_type": "code",
      "metadata": {
        "colab": {
          "base_uri": "https://localhost:8080/",
          "height": 453
        },
        "id": "RiB7iHU8R5RT",
        "outputId": "b094a4b5-042d-484c-dfa6-45c22f6ed7c0"
      },
      "source": [
        "pairswithcounts = pd.merge(\n",
        "    movies_df[[\"movieId\", \"title\", \"genres\"]].rename(columns={\"movieId\":\"movieId_x\", \"title\":\"title_x\", \"genres\":\"genres_x\"}),\n",
        "    pairswithcounts,\n",
        "    on=[\"movieId_x\"]\n",
        ")\n",
        "\n",
        "pairswithcounts = pd.merge(\n",
        "    movies_df[[\"movieId\", \"title\", \"genres\"]].rename(columns={\"movieId\":\"movieId_y\", \"title\":\"title_y\", \"genres\":\"genres_y\"}),\n",
        "    pairswithcounts,\n",
        "    on=[\"movieId_y\"]\n",
        ").sort_values(by=\"count\", ascending=False).reset_index().drop(columns=['index'])\n",
        "\n",
        "pairswithcounts"
      ],
      "execution_count": 20,
      "outputs": [
        {
          "output_type": "execute_result",
          "data": {
            "text/html": [
              "<div>\n",
              "<style scoped>\n",
              "    .dataframe tbody tr th:only-of-type {\n",
              "        vertical-align: middle;\n",
              "    }\n",
              "\n",
              "    .dataframe tbody tr th {\n",
              "        vertical-align: top;\n",
              "    }\n",
              "\n",
              "    .dataframe thead th {\n",
              "        text-align: right;\n",
              "    }\n",
              "</style>\n",
              "<table border=\"1\" class=\"dataframe\">\n",
              "  <thead>\n",
              "    <tr style=\"text-align: right;\">\n",
              "      <th></th>\n",
              "      <th>movieId_y</th>\n",
              "      <th>title_y</th>\n",
              "      <th>genres_y</th>\n",
              "      <th>movieId_x</th>\n",
              "      <th>title_x</th>\n",
              "      <th>genres_x</th>\n",
              "      <th>count</th>\n",
              "    </tr>\n",
              "  </thead>\n",
              "  <tbody>\n",
              "    <tr>\n",
              "      <th>0</th>\n",
              "      <td>m356</td>\n",
              "      <td>Forrest Gump (1994)</td>\n",
              "      <td>Comedy|Drama|Romance|War</td>\n",
              "      <td>m318</td>\n",
              "      <td>Shawshank Redemption, The (1994)</td>\n",
              "      <td>Crime|Drama</td>\n",
              "      <td>104</td>\n",
              "    </tr>\n",
              "    <tr>\n",
              "      <th>1</th>\n",
              "      <td>m593</td>\n",
              "      <td>Silence of the Lambs, The (1991)</td>\n",
              "      <td>Crime|Horror|Thriller</td>\n",
              "      <td>m296</td>\n",
              "      <td>Pulp Fiction (1994)</td>\n",
              "      <td>Comedy|Crime|Drama|Thriller</td>\n",
              "      <td>92</td>\n",
              "    </tr>\n",
              "    <tr>\n",
              "      <th>2</th>\n",
              "      <td>m1196</td>\n",
              "      <td>Star Wars: Episode V - The Empire Strikes Back...</td>\n",
              "      <td>Action|Adventure|Sci-Fi</td>\n",
              "      <td>m260</td>\n",
              "      <td>Star Wars: Episode IV - A New Hope (1977)</td>\n",
              "      <td>Action|Adventure|Sci-Fi</td>\n",
              "      <td>91</td>\n",
              "    </tr>\n",
              "    <tr>\n",
              "      <th>3</th>\n",
              "      <td>m47</td>\n",
              "      <td>Seven (a.k.a. Se7en) (1995)</td>\n",
              "      <td>Mystery|Thriller</td>\n",
              "      <td>m296</td>\n",
              "      <td>Pulp Fiction (1994)</td>\n",
              "      <td>Comedy|Crime|Drama|Thriller</td>\n",
              "      <td>91</td>\n",
              "    </tr>\n",
              "    <tr>\n",
              "      <th>4</th>\n",
              "      <td>m527</td>\n",
              "      <td>Schindler's List (1993)</td>\n",
              "      <td>Drama|War</td>\n",
              "      <td>m318</td>\n",
              "      <td>Shawshank Redemption, The (1994)</td>\n",
              "      <td>Crime|Drama</td>\n",
              "      <td>90</td>\n",
              "    </tr>\n",
              "    <tr>\n",
              "      <th>...</th>\n",
              "      <td>...</td>\n",
              "      <td>...</td>\n",
              "      <td>...</td>\n",
              "      <td>...</td>\n",
              "      <td>...</td>\n",
              "      <td>...</td>\n",
              "      <td>...</td>\n",
              "    </tr>\n",
              "    <tr>\n",
              "      <th>3533031</th>\n",
              "      <td>m3728</td>\n",
              "      <td>One False Move (1992)</td>\n",
              "      <td>Crime|Drama|Film-Noir|Thriller</td>\n",
              "      <td>m40955</td>\n",
              "      <td>Breakfast on Pluto (2005)</td>\n",
              "      <td>Comedy|Drama</td>\n",
              "      <td>1</td>\n",
              "    </tr>\n",
              "    <tr>\n",
              "      <th>3533032</th>\n",
              "      <td>m3728</td>\n",
              "      <td>One False Move (1992)</td>\n",
              "      <td>Crime|Drama|Film-Noir|Thriller</td>\n",
              "      <td>m41863</td>\n",
              "      <td>Three Burials of Melquiades Estrada, The (2006)</td>\n",
              "      <td>Adventure|Crime|Drama</td>\n",
              "      <td>1</td>\n",
              "    </tr>\n",
              "    <tr>\n",
              "      <th>3533033</th>\n",
              "      <td>m3728</td>\n",
              "      <td>One False Move (1992)</td>\n",
              "      <td>Crime|Drama|Film-Noir|Thriller</td>\n",
              "      <td>m41997</td>\n",
              "      <td>Munich (2005)</td>\n",
              "      <td>Action|Crime|Drama|Thriller</td>\n",
              "      <td>1</td>\n",
              "    </tr>\n",
              "    <tr>\n",
              "      <th>3533034</th>\n",
              "      <td>m3728</td>\n",
              "      <td>One False Move (1992)</td>\n",
              "      <td>Crime|Drama|Film-Noir|Thriller</td>\n",
              "      <td>m42176</td>\n",
              "      <td>Ear, The (Ucho) (1970)</td>\n",
              "      <td>Drama|Thriller</td>\n",
              "      <td>1</td>\n",
              "    </tr>\n",
              "    <tr>\n",
              "      <th>3533035</th>\n",
              "      <td>m193609</td>\n",
              "      <td>Andrew Dice Clay: Dice Rules (1991)</td>\n",
              "      <td>Comedy</td>\n",
              "      <td>m183897</td>\n",
              "      <td>Isle of Dogs (2018)</td>\n",
              "      <td>Animation|Comedy</td>\n",
              "      <td>1</td>\n",
              "    </tr>\n",
              "  </tbody>\n",
              "</table>\n",
              "<p>3533036 rows × 7 columns</p>\n",
              "</div>"
            ],
            "text/plain": [
              "        movieId_y  ... count\n",
              "0            m356  ...   104\n",
              "1            m593  ...    92\n",
              "2           m1196  ...    91\n",
              "3             m47  ...    91\n",
              "4            m527  ...    90\n",
              "...           ...  ...   ...\n",
              "3533031     m3728  ...     1\n",
              "3533032     m3728  ...     1\n",
              "3533033     m3728  ...     1\n",
              "3533034     m3728  ...     1\n",
              "3533035   m193609  ...     1\n",
              "\n",
              "[3533036 rows x 7 columns]"
            ]
          },
          "metadata": {
            "tags": []
          },
          "execution_count": 20
        }
      ]
    },
    {
      "cell_type": "code",
      "metadata": {
        "colab": {
          "base_uri": "https://localhost:8080/",
          "height": 80
        },
        "id": "fMmOI2yHVSJZ",
        "outputId": "08e00685-4d73-4641-fbf0-b7a5e2e0826e"
      },
      "source": [
        "pairswithcounts[pairswithcounts['count']==74]"
      ],
      "execution_count": 21,
      "outputs": [
        {
          "output_type": "execute_result",
          "data": {
            "text/html": [
              "<div>\n",
              "<style scoped>\n",
              "    .dataframe tbody tr th:only-of-type {\n",
              "        vertical-align: middle;\n",
              "    }\n",
              "\n",
              "    .dataframe tbody tr th {\n",
              "        vertical-align: top;\n",
              "    }\n",
              "\n",
              "    .dataframe thead th {\n",
              "        text-align: right;\n",
              "    }\n",
              "</style>\n",
              "<table border=\"1\" class=\"dataframe\">\n",
              "  <thead>\n",
              "    <tr style=\"text-align: right;\">\n",
              "      <th></th>\n",
              "      <th>movieId_y</th>\n",
              "      <th>title_y</th>\n",
              "      <th>genres_y</th>\n",
              "      <th>movieId_x</th>\n",
              "      <th>title_x</th>\n",
              "      <th>genres_x</th>\n",
              "      <th>count</th>\n",
              "    </tr>\n",
              "  </thead>\n",
              "  <tbody>\n",
              "    <tr>\n",
              "      <th>17</th>\n",
              "      <td>m1221</td>\n",
              "      <td>Godfather: Part II, The (1974)</td>\n",
              "      <td>Crime|Drama</td>\n",
              "      <td>m858</td>\n",
              "      <td>Godfather, The (1972)</td>\n",
              "      <td>Crime|Drama</td>\n",
              "      <td>74</td>\n",
              "    </tr>\n",
              "  </tbody>\n",
              "</table>\n",
              "</div>"
            ],
            "text/plain": [
              "   movieId_y                         title_y  ...     genres_x count\n",
              "17     m1221  Godfather: Part II, The (1974)  ...  Crime|Drama    74\n",
              "\n",
              "[1 rows x 7 columns]"
            ]
          },
          "metadata": {
            "tags": []
          },
          "execution_count": 21
        }
      ]
    },
    {
      "cell_type": "markdown",
      "metadata": {
        "id": "_0tOm--0ByR6"
      },
      "source": [
        "## Task 8. Calculate Lift (see Lecture 3) for all pairs in `paircounts`.  \n",
        "\n",
        "Your target dataframe should have columns: \n",
        " - movieId_x\tmovieId_y\t\n",
        " - count - count of movies x & y occurring in a profile\t\n",
        " - ratingCount_x\tratingCount_y\t- how many times these movies appeared in total.\n",
        " - lift\t- your calculated lift.\n",
        " - title_x, title_y, genre_x and genre_y - metadata about the films, so you know if you have success. \n",
        "\n",
        "Hints: \n",
        " - You will need to join toppairs with a dataframe containing rating counts of individual movies. A calculated column will be needed. See https://pandas.pydata.org/docs/getting_started/intro_tutorials/05_add_columns.html or https://stackoverflow.com/a/12377083/9989050 for hints on how to achieve that.\n",
        " - My solution had duplicated columns. I used this trick https://stackoverflow.com/a/40435354/9989050 to get rid of them.\n",
        " - It might be useful to [sort](https://pandas.pydata.org/pandas-docs/stable/reference/api/pandas.DataFrame.sort_values.html) your dataframe.\n",
        "\n",
        "Below I provide the highest lift movies for you to check your solution.\n"
      ]
    },
    {
      "cell_type": "code",
      "metadata": {
        "id": "AmDdVHBjwwv-"
      },
      "source": [
        "#add your solution here\n",
        "ratings = positives[['movieId', 'userId']].groupby(\"movieId\").count().reset_index()\n",
        "ratings.rename(columns={\"movieId\":\"movieId_x\", \"userId\":\"ratingCount_x\"}, inplace=True)"
      ],
      "execution_count": 22,
      "outputs": []
    },
    {
      "cell_type": "code",
      "metadata": {
        "id": "nfHYAw5XE9ap"
      },
      "source": [
        "paircounts = pd.merge(\n",
        "    pairswithcounts,\n",
        "    ratings,\n",
        "    on=[\"movieId_x\"]\n",
        ")"
      ],
      "execution_count": 23,
      "outputs": []
    },
    {
      "cell_type": "code",
      "metadata": {
        "colab": {
          "base_uri": "https://localhost:8080/",
          "height": 640
        },
        "id": "lQSQpa4FHaPV",
        "outputId": "9fbb2b82-6125-41d6-f89e-2415c31583d7"
      },
      "source": [
        "ratings.rename(columns={\"movieId_x\":\"movieId_y\", \"ratingCount_x\":\"ratingCount_y\"}, inplace=True)\n",
        "paircounts = pd.merge(\n",
        "    paircounts,\n",
        "    ratings,\n",
        "    on=[\"movieId_y\"]\n",
        ").sort_values(by=\"count\", ascending=False).reset_index().drop(columns=['index'])\n",
        "paircounts"
      ],
      "execution_count": 24,
      "outputs": [
        {
          "output_type": "execute_result",
          "data": {
            "text/html": [
              "<div>\n",
              "<style scoped>\n",
              "    .dataframe tbody tr th:only-of-type {\n",
              "        vertical-align: middle;\n",
              "    }\n",
              "\n",
              "    .dataframe tbody tr th {\n",
              "        vertical-align: top;\n",
              "    }\n",
              "\n",
              "    .dataframe thead th {\n",
              "        text-align: right;\n",
              "    }\n",
              "</style>\n",
              "<table border=\"1\" class=\"dataframe\">\n",
              "  <thead>\n",
              "    <tr style=\"text-align: right;\">\n",
              "      <th></th>\n",
              "      <th>movieId_y</th>\n",
              "      <th>title_y</th>\n",
              "      <th>genres_y</th>\n",
              "      <th>movieId_x</th>\n",
              "      <th>title_x</th>\n",
              "      <th>genres_x</th>\n",
              "      <th>count</th>\n",
              "      <th>ratingCount_x</th>\n",
              "      <th>ratingCount_y</th>\n",
              "    </tr>\n",
              "  </thead>\n",
              "  <tbody>\n",
              "    <tr>\n",
              "      <th>0</th>\n",
              "      <td>m356</td>\n",
              "      <td>Forrest Gump (1994)</td>\n",
              "      <td>Comedy|Drama|Romance|War</td>\n",
              "      <td>m318</td>\n",
              "      <td>Shawshank Redemption, The (1994)</td>\n",
              "      <td>Crime|Drama</td>\n",
              "      <td>104</td>\n",
              "      <td>274</td>\n",
              "      <td>249</td>\n",
              "    </tr>\n",
              "    <tr>\n",
              "      <th>1</th>\n",
              "      <td>m593</td>\n",
              "      <td>Silence of the Lambs, The (1991)</td>\n",
              "      <td>Crime|Horror|Thriller</td>\n",
              "      <td>m296</td>\n",
              "      <td>Pulp Fiction (1994)</td>\n",
              "      <td>Comedy|Crime|Drama|Thriller</td>\n",
              "      <td>92</td>\n",
              "      <td>244</td>\n",
              "      <td>225</td>\n",
              "    </tr>\n",
              "    <tr>\n",
              "      <th>2</th>\n",
              "      <td>m47</td>\n",
              "      <td>Seven (a.k.a. Se7en) (1995)</td>\n",
              "      <td>Mystery|Thriller</td>\n",
              "      <td>m296</td>\n",
              "      <td>Pulp Fiction (1994)</td>\n",
              "      <td>Comedy|Crime|Drama|Thriller</td>\n",
              "      <td>91</td>\n",
              "      <td>244</td>\n",
              "      <td>140</td>\n",
              "    </tr>\n",
              "    <tr>\n",
              "      <th>3</th>\n",
              "      <td>m1196</td>\n",
              "      <td>Star Wars: Episode V - The Empire Strikes Back...</td>\n",
              "      <td>Action|Adventure|Sci-Fi</td>\n",
              "      <td>m260</td>\n",
              "      <td>Star Wars: Episode IV - A New Hope (1977)</td>\n",
              "      <td>Action|Adventure|Sci-Fi</td>\n",
              "      <td>91</td>\n",
              "      <td>201</td>\n",
              "      <td>168</td>\n",
              "    </tr>\n",
              "    <tr>\n",
              "      <th>4</th>\n",
              "      <td>m527</td>\n",
              "      <td>Schindler's List (1993)</td>\n",
              "      <td>Drama|War</td>\n",
              "      <td>m318</td>\n",
              "      <td>Shawshank Redemption, The (1994)</td>\n",
              "      <td>Crime|Drama</td>\n",
              "      <td>90</td>\n",
              "      <td>274</td>\n",
              "      <td>175</td>\n",
              "    </tr>\n",
              "    <tr>\n",
              "      <th>...</th>\n",
              "      <td>...</td>\n",
              "      <td>...</td>\n",
              "      <td>...</td>\n",
              "      <td>...</td>\n",
              "      <td>...</td>\n",
              "      <td>...</td>\n",
              "      <td>...</td>\n",
              "      <td>...</td>\n",
              "      <td>...</td>\n",
              "    </tr>\n",
              "    <tr>\n",
              "      <th>3533031</th>\n",
              "      <td>m90866</td>\n",
              "      <td>Hugo (2011)</td>\n",
              "      <td>Children|Drama|Mystery</td>\n",
              "      <td>m3020</td>\n",
              "      <td>Falling Down (1993)</td>\n",
              "      <td>Action|Drama</td>\n",
              "      <td>1</td>\n",
              "      <td>10</td>\n",
              "      <td>10</td>\n",
              "    </tr>\n",
              "    <tr>\n",
              "      <th>3533032</th>\n",
              "      <td>m90866</td>\n",
              "      <td>Hugo (2011)</td>\n",
              "      <td>Children|Drama|Mystery</td>\n",
              "      <td>m3159</td>\n",
              "      <td>Fantasia 2000 (1999)</td>\n",
              "      <td>Animation|Children|Musical|IMAX</td>\n",
              "      <td>1</td>\n",
              "      <td>10</td>\n",
              "      <td>10</td>\n",
              "    </tr>\n",
              "    <tr>\n",
              "      <th>3533033</th>\n",
              "      <td>m90866</td>\n",
              "      <td>Hugo (2011)</td>\n",
              "      <td>Children|Drama|Mystery</td>\n",
              "      <td>m88140</td>\n",
              "      <td>Captain America: The First Avenger (2011)</td>\n",
              "      <td>Action|Adventure|Sci-Fi|Thriller|War</td>\n",
              "      <td>1</td>\n",
              "      <td>13</td>\n",
              "      <td>10</td>\n",
              "    </tr>\n",
              "    <tr>\n",
              "      <th>3533034</th>\n",
              "      <td>m90866</td>\n",
              "      <td>Hugo (2011)</td>\n",
              "      <td>Children|Drama|Mystery</td>\n",
              "      <td>m122916</td>\n",
              "      <td>Thor: Ragnarok (2017)</td>\n",
              "      <td>Action|Adventure|Sci-Fi</td>\n",
              "      <td>1</td>\n",
              "      <td>14</td>\n",
              "      <td>10</td>\n",
              "    </tr>\n",
              "    <tr>\n",
              "      <th>3533035</th>\n",
              "      <td>m1703</td>\n",
              "      <td>For Richer or Poorer (1997)</td>\n",
              "      <td>Comedy</td>\n",
              "      <td>m43836</td>\n",
              "      <td>Pink Panther, The (2006)</td>\n",
              "      <td>Adventure|Comedy|Crime</td>\n",
              "      <td>1</td>\n",
              "      <td>1</td>\n",
              "      <td>1</td>\n",
              "    </tr>\n",
              "  </tbody>\n",
              "</table>\n",
              "<p>3533036 rows × 9 columns</p>\n",
              "</div>"
            ],
            "text/plain": [
              "        movieId_y  ... ratingCount_y\n",
              "0            m356  ...           249\n",
              "1            m593  ...           225\n",
              "2             m47  ...           140\n",
              "3           m1196  ...           168\n",
              "4            m527  ...           175\n",
              "...           ...  ...           ...\n",
              "3533031    m90866  ...            10\n",
              "3533032    m90866  ...            10\n",
              "3533033    m90866  ...            10\n",
              "3533034    m90866  ...            10\n",
              "3533035     m1703  ...             1\n",
              "\n",
              "[3533036 rows x 9 columns]"
            ]
          },
          "metadata": {
            "tags": []
          },
          "execution_count": 24
        }
      ]
    },
    {
      "cell_type": "code",
      "metadata": {
        "id": "0zMiRysoICCH"
      },
      "source": [
        "paircounts['lift'] = (\n",
        "    (paircounts['count']/len(paircounts)) / ((paircounts['ratingCount_x']/len(paircounts))*(paircounts['ratingCount_y']/len(paircounts)))\n",
        "    )"
      ],
      "execution_count": 25,
      "outputs": []
    },
    {
      "cell_type": "code",
      "metadata": {
        "colab": {
          "base_uri": "https://localhost:8080/",
          "height": 725
        },
        "id": "CYTfOgohKi-K",
        "outputId": "f17efbb5-486f-460d-d047-451cc0697da9"
      },
      "source": [
        "paircounts.sort_values(by=\"lift\", ascending=False, inplace=True)\n",
        "paircounts"
      ],
      "execution_count": 26,
      "outputs": [
        {
          "output_type": "execute_result",
          "data": {
            "text/html": [
              "<div>\n",
              "<style scoped>\n",
              "    .dataframe tbody tr th:only-of-type {\n",
              "        vertical-align: middle;\n",
              "    }\n",
              "\n",
              "    .dataframe tbody tr th {\n",
              "        vertical-align: top;\n",
              "    }\n",
              "\n",
              "    .dataframe thead th {\n",
              "        text-align: right;\n",
              "    }\n",
              "</style>\n",
              "<table border=\"1\" class=\"dataframe\">\n",
              "  <thead>\n",
              "    <tr style=\"text-align: right;\">\n",
              "      <th></th>\n",
              "      <th>movieId_y</th>\n",
              "      <th>title_y</th>\n",
              "      <th>genres_y</th>\n",
              "      <th>movieId_x</th>\n",
              "      <th>title_x</th>\n",
              "      <th>genres_x</th>\n",
              "      <th>count</th>\n",
              "      <th>ratingCount_x</th>\n",
              "      <th>ratingCount_y</th>\n",
              "      <th>lift</th>\n",
              "    </tr>\n",
              "  </thead>\n",
              "  <tbody>\n",
              "    <tr>\n",
              "      <th>3533035</th>\n",
              "      <td>m1703</td>\n",
              "      <td>For Richer or Poorer (1997)</td>\n",
              "      <td>Comedy</td>\n",
              "      <td>m43836</td>\n",
              "      <td>Pink Panther, The (2006)</td>\n",
              "      <td>Adventure|Comedy|Crime</td>\n",
              "      <td>1</td>\n",
              "      <td>1</td>\n",
              "      <td>1</td>\n",
              "      <td>3.533036e+06</td>\n",
              "    </tr>\n",
              "    <tr>\n",
              "      <th>1295680</th>\n",
              "      <td>m4794</td>\n",
              "      <td>Opera (1987)</td>\n",
              "      <td>Crime|Horror|Mystery</td>\n",
              "      <td>m147657</td>\n",
              "      <td>Masked Avengers (1981)</td>\n",
              "      <td>Action</td>\n",
              "      <td>1</td>\n",
              "      <td>1</td>\n",
              "      <td>1</td>\n",
              "      <td>3.533036e+06</td>\n",
              "    </tr>\n",
              "    <tr>\n",
              "      <th>1295643</th>\n",
              "      <td>m4794</td>\n",
              "      <td>Opera (1987)</td>\n",
              "      <td>Crime|Horror|Mystery</td>\n",
              "      <td>m102760</td>\n",
              "      <td>Down Terrace (2009)</td>\n",
              "      <td>Comedy|Crime|Drama</td>\n",
              "      <td>1</td>\n",
              "      <td>1</td>\n",
              "      <td>1</td>\n",
              "      <td>3.533036e+06</td>\n",
              "    </tr>\n",
              "    <tr>\n",
              "      <th>1295639</th>\n",
              "      <td>m4794</td>\n",
              "      <td>Opera (1987)</td>\n",
              "      <td>Crime|Horror|Mystery</td>\n",
              "      <td>m102338</td>\n",
              "      <td>Shaolin Temple (Shao Lin si) (1976)</td>\n",
              "      <td>Action|Adventure|Drama</td>\n",
              "      <td>1</td>\n",
              "      <td>1</td>\n",
              "      <td>1</td>\n",
              "      <td>3.533036e+06</td>\n",
              "    </tr>\n",
              "    <tr>\n",
              "      <th>1295499</th>\n",
              "      <td>m4836</td>\n",
              "      <td>Competition, The (1980)</td>\n",
              "      <td>Drama|Romance</td>\n",
              "      <td>m4445</td>\n",
              "      <td>T-Rex: Back to the Cretaceous (1998)</td>\n",
              "      <td>Adventure|Documentary|IMAX</td>\n",
              "      <td>1</td>\n",
              "      <td>1</td>\n",
              "      <td>1</td>\n",
              "      <td>3.533036e+06</td>\n",
              "    </tr>\n",
              "    <tr>\n",
              "      <th>...</th>\n",
              "      <td>...</td>\n",
              "      <td>...</td>\n",
              "      <td>...</td>\n",
              "      <td>...</td>\n",
              "      <td>...</td>\n",
              "      <td>...</td>\n",
              "      <td>...</td>\n",
              "      <td>...</td>\n",
              "      <td>...</td>\n",
              "      <td>...</td>\n",
              "    </tr>\n",
              "    <tr>\n",
              "      <th>2599901</th>\n",
              "      <td>m296</td>\n",
              "      <td>Pulp Fiction (1994)</td>\n",
              "      <td>Comedy|Crime|Drama|Thriller</td>\n",
              "      <td>m329</td>\n",
              "      <td>Star Trek: Generations (1994)</td>\n",
              "      <td>Adventure|Drama|Sci-Fi</td>\n",
              "      <td>1</td>\n",
              "      <td>42</td>\n",
              "      <td>244</td>\n",
              "      <td>3.447537e+02</td>\n",
              "    </tr>\n",
              "    <tr>\n",
              "      <th>2372339</th>\n",
              "      <td>m349</td>\n",
              "      <td>Clear and Present Danger (1994)</td>\n",
              "      <td>Action|Crime|Drama|Thriller</td>\n",
              "      <td>m2959</td>\n",
              "      <td>Fight Club (1999)</td>\n",
              "      <td>Action|Crime|Drama|Thriller</td>\n",
              "      <td>1</td>\n",
              "      <td>179</td>\n",
              "      <td>58</td>\n",
              "      <td>3.403040e+02</td>\n",
              "    </tr>\n",
              "    <tr>\n",
              "      <th>1674472</th>\n",
              "      <td>m318</td>\n",
              "      <td>Shawshank Redemption, The (1994)</td>\n",
              "      <td>Crime|Drama</td>\n",
              "      <td>m80463</td>\n",
              "      <td>Social Network, The (2010)</td>\n",
              "      <td>Drama</td>\n",
              "      <td>1</td>\n",
              "      <td>38</td>\n",
              "      <td>274</td>\n",
              "      <td>3.393235e+02</td>\n",
              "    </tr>\n",
              "    <tr>\n",
              "      <th>2592227</th>\n",
              "      <td>m2571</td>\n",
              "      <td>Matrix, The (1999)</td>\n",
              "      <td>Action|Sci-Fi|Thriller</td>\n",
              "      <td>m454</td>\n",
              "      <td>Firm, The (1993)</td>\n",
              "      <td>Drama|Thriller</td>\n",
              "      <td>1</td>\n",
              "      <td>48</td>\n",
              "      <td>222</td>\n",
              "      <td>3.315537e+02</td>\n",
              "    </tr>\n",
              "    <tr>\n",
              "      <th>1673499</th>\n",
              "      <td>m318</td>\n",
              "      <td>Shawshank Redemption, The (1994)</td>\n",
              "      <td>Crime|Drama</td>\n",
              "      <td>m253</td>\n",
              "      <td>Interview with the Vampire: The Vampire Chroni...</td>\n",
              "      <td>Drama|Horror</td>\n",
              "      <td>1</td>\n",
              "      <td>52</td>\n",
              "      <td>274</td>\n",
              "      <td>2.479672e+02</td>\n",
              "    </tr>\n",
              "  </tbody>\n",
              "</table>\n",
              "<p>3533036 rows × 10 columns</p>\n",
              "</div>"
            ],
            "text/plain": [
              "        movieId_y  ...          lift\n",
              "3533035     m1703  ...  3.533036e+06\n",
              "1295680     m4794  ...  3.533036e+06\n",
              "1295643     m4794  ...  3.533036e+06\n",
              "1295639     m4794  ...  3.533036e+06\n",
              "1295499     m4836  ...  3.533036e+06\n",
              "...           ...  ...           ...\n",
              "2599901      m296  ...  3.447537e+02\n",
              "2372339      m349  ...  3.403040e+02\n",
              "1674472      m318  ...  3.393235e+02\n",
              "2592227     m2571  ...  3.315537e+02\n",
              "1673499      m318  ...  2.479672e+02\n",
              "\n",
              "[3533036 rows x 10 columns]"
            ]
          },
          "metadata": {
            "tags": []
          },
          "execution_count": 26
        }
      ]
    },
    {
      "cell_type": "code",
      "metadata": {
        "colab": {
          "base_uri": "https://localhost:8080/",
          "height": 80
        },
        "id": "BbyQWwZkLBhx",
        "outputId": "9f021796-33ab-48c1-9e8b-40154460d219"
      },
      "source": [
        "paircounts[(paircounts[\"movieId_x\"]=='m1475') & (paircounts[\"movieId_y\"]=='m2024')]"
      ],
      "execution_count": 27,
      "outputs": [
        {
          "output_type": "execute_result",
          "data": {
            "text/html": [
              "<div>\n",
              "<style scoped>\n",
              "    .dataframe tbody tr th:only-of-type {\n",
              "        vertical-align: middle;\n",
              "    }\n",
              "\n",
              "    .dataframe tbody tr th {\n",
              "        vertical-align: top;\n",
              "    }\n",
              "\n",
              "    .dataframe thead th {\n",
              "        text-align: right;\n",
              "    }\n",
              "</style>\n",
              "<table border=\"1\" class=\"dataframe\">\n",
              "  <thead>\n",
              "    <tr style=\"text-align: right;\">\n",
              "      <th></th>\n",
              "      <th>movieId_y</th>\n",
              "      <th>title_y</th>\n",
              "      <th>genres_y</th>\n",
              "      <th>movieId_x</th>\n",
              "      <th>title_x</th>\n",
              "      <th>genres_x</th>\n",
              "      <th>count</th>\n",
              "      <th>ratingCount_x</th>\n",
              "      <th>ratingCount_y</th>\n",
              "      <th>lift</th>\n",
              "    </tr>\n",
              "  </thead>\n",
              "  <tbody>\n",
              "    <tr>\n",
              "      <th>1854612</th>\n",
              "      <td>m2024</td>\n",
              "      <td>Rapture, The (1991)</td>\n",
              "      <td>Drama|Mystery</td>\n",
              "      <td>m1475</td>\n",
              "      <td>Kama Sutra: A Tale of Love (1996)</td>\n",
              "      <td>Romance</td>\n",
              "      <td>1</td>\n",
              "      <td>1</td>\n",
              "      <td>1</td>\n",
              "      <td>3533036.0</td>\n",
              "    </tr>\n",
              "  </tbody>\n",
              "</table>\n",
              "</div>"
            ],
            "text/plain": [
              "        movieId_y              title_y  ... ratingCount_y       lift\n",
              "1854612     m2024  Rapture, The (1991)  ...             1  3533036.0\n",
              "\n",
              "[1 rows x 10 columns]"
            ]
          },
          "metadata": {
            "tags": []
          },
          "execution_count": 27
        }
      ]
    },
    {
      "cell_type": "code",
      "metadata": {
        "colab": {
          "base_uri": "https://localhost:8080/",
          "height": 97
        },
        "id": "Kx0gENbyLvus",
        "outputId": "3f94bf4a-bdbb-4279-9501-233563a80f53"
      },
      "source": [
        "paircounts[(paircounts[\"movieId_x\"]=='m91500') & (paircounts[\"movieId_y\"]=='m106487')]"
      ],
      "execution_count": 28,
      "outputs": [
        {
          "output_type": "execute_result",
          "data": {
            "text/html": [
              "<div>\n",
              "<style scoped>\n",
              "    .dataframe tbody tr th:only-of-type {\n",
              "        vertical-align: middle;\n",
              "    }\n",
              "\n",
              "    .dataframe tbody tr th {\n",
              "        vertical-align: top;\n",
              "    }\n",
              "\n",
              "    .dataframe thead th {\n",
              "        text-align: right;\n",
              "    }\n",
              "</style>\n",
              "<table border=\"1\" class=\"dataframe\">\n",
              "  <thead>\n",
              "    <tr style=\"text-align: right;\">\n",
              "      <th></th>\n",
              "      <th>movieId_y</th>\n",
              "      <th>title_y</th>\n",
              "      <th>genres_y</th>\n",
              "      <th>movieId_x</th>\n",
              "      <th>title_x</th>\n",
              "      <th>genres_x</th>\n",
              "      <th>count</th>\n",
              "      <th>ratingCount_x</th>\n",
              "      <th>ratingCount_y</th>\n",
              "      <th>lift</th>\n",
              "    </tr>\n",
              "  </thead>\n",
              "  <tbody>\n",
              "    <tr>\n",
              "      <th>24964</th>\n",
              "      <td>m106487</td>\n",
              "      <td>The Hunger Games: Catching Fire (2013)</td>\n",
              "      <td>Action|Adventure|Sci-Fi|IMAX</td>\n",
              "      <td>m91500</td>\n",
              "      <td>The Hunger Games (2012)</td>\n",
              "      <td>Action|Adventure|Drama|Sci-Fi|Thriller</td>\n",
              "      <td>10</td>\n",
              "      <td>24</td>\n",
              "      <td>14</td>\n",
              "      <td>105149.880952</td>\n",
              "    </tr>\n",
              "  </tbody>\n",
              "</table>\n",
              "</div>"
            ],
            "text/plain": [
              "      movieId_y  ...           lift\n",
              "24964   m106487  ...  105149.880952\n",
              "\n",
              "[1 rows x 10 columns]"
            ]
          },
          "metadata": {
            "tags": []
          },
          "execution_count": 28
        }
      ]
    },
    {
      "cell_type": "markdown",
      "metadata": {
        "id": "j86C6mX9JyE_"
      },
      "source": [
        "If your solution is correct, you will see the highest lift movie pairs. \n",
        "Lets check them - do the highest lift movies pairs make sense? e.g. \"Pink Panther, The (2006)\" (Adventure|Comedy|Crime) with\t\"For Richer or Poorer (1997)\" (Comedy). \n",
        "\n",
        "It should be clear that these lift pairs do not have high support. "
      ]
    },
    {
      "cell_type": "markdown",
      "metadata": {
        "id": "syNMZ-gULEvI"
      },
      "source": [
        "## Task 9 - Support Thresholds"
      ]
    },
    {
      "cell_type": "markdown",
      "metadata": {
        "id": "Q8J3co2aDhfp"
      },
      "source": [
        "Removing movie pairs with support count $< 10$.\n",
        "\n",
        "I got the \"The Hunger Games (2012)\" paired with \"The Hunger Games: Mockingjay - Part 1 (2014)\" as the movie pair with the highest lift. This seems a good pairing! \n",
        "\n",
        "So in essence, we can use lift to identify highly co-occurring movie pairs without resorting to any collaborative notions.\n",
        "\n",
        "Keep this dataframe around - you will need it to answer the questions for Task 9 in the quiz."
      ]
    },
    {
      "cell_type": "code",
      "metadata": {
        "id": "Ol1oyIVYyGv9",
        "colab": {
          "base_uri": "https://localhost:8080/",
          "height": 898
        },
        "outputId": "37597681-d375-45a2-eb6a-ac8bd0efb429"
      },
      "source": [
        "# add your solution here\n",
        "final = paircounts[paircounts[\"count\"]>=10]\n",
        "final"
      ],
      "execution_count": 29,
      "outputs": [
        {
          "output_type": "execute_result",
          "data": {
            "text/html": [
              "<div>\n",
              "<style scoped>\n",
              "    .dataframe tbody tr th:only-of-type {\n",
              "        vertical-align: middle;\n",
              "    }\n",
              "\n",
              "    .dataframe tbody tr th {\n",
              "        vertical-align: top;\n",
              "    }\n",
              "\n",
              "    .dataframe thead th {\n",
              "        text-align: right;\n",
              "    }\n",
              "</style>\n",
              "<table border=\"1\" class=\"dataframe\">\n",
              "  <thead>\n",
              "    <tr style=\"text-align: right;\">\n",
              "      <th></th>\n",
              "      <th>movieId_y</th>\n",
              "      <th>title_y</th>\n",
              "      <th>genres_y</th>\n",
              "      <th>movieId_x</th>\n",
              "      <th>title_x</th>\n",
              "      <th>genres_x</th>\n",
              "      <th>count</th>\n",
              "      <th>ratingCount_x</th>\n",
              "      <th>ratingCount_y</th>\n",
              "      <th>lift</th>\n",
              "    </tr>\n",
              "  </thead>\n",
              "  <tbody>\n",
              "    <tr>\n",
              "      <th>21370</th>\n",
              "      <td>m116823</td>\n",
              "      <td>The Hunger Games: Mockingjay - Part 1 (2014)</td>\n",
              "      <td>Adventure|Sci-Fi|Thriller</td>\n",
              "      <td>m91500</td>\n",
              "      <td>The Hunger Games (2012)</td>\n",
              "      <td>Action|Adventure|Drama|Sci-Fi|Thriller</td>\n",
              "      <td>11</td>\n",
              "      <td>24</td>\n",
              "      <td>15</td>\n",
              "      <td>107953.877778</td>\n",
              "    </tr>\n",
              "    <tr>\n",
              "      <th>24964</th>\n",
              "      <td>m106487</td>\n",
              "      <td>The Hunger Games: Catching Fire (2013)</td>\n",
              "      <td>Action|Adventure|Sci-Fi|IMAX</td>\n",
              "      <td>m91500</td>\n",
              "      <td>The Hunger Games (2012)</td>\n",
              "      <td>Action|Adventure|Drama|Sci-Fi|Thriller</td>\n",
              "      <td>10</td>\n",
              "      <td>24</td>\n",
              "      <td>14</td>\n",
              "      <td>105149.880952</td>\n",
              "    </tr>\n",
              "    <tr>\n",
              "      <th>26633</th>\n",
              "      <td>m139385</td>\n",
              "      <td>The Revenant (2015)</td>\n",
              "      <td>Adventure|Drama</td>\n",
              "      <td>m115713</td>\n",
              "      <td>Ex Machina (2015)</td>\n",
              "      <td>Drama|Sci-Fi|Thriller</td>\n",
              "      <td>10</td>\n",
              "      <td>20</td>\n",
              "      <td>19</td>\n",
              "      <td>92974.631579</td>\n",
              "    </tr>\n",
              "    <tr>\n",
              "      <th>26938</th>\n",
              "      <td>m67255</td>\n",
              "      <td>Girl with the Dragon Tattoo, The (Män som hata...</td>\n",
              "      <td>Crime|Drama|Mystery|Thriller</td>\n",
              "      <td>m91658</td>\n",
              "      <td>Girl with the Dragon Tattoo, The (2011)</td>\n",
              "      <td>Drama|Thriller</td>\n",
              "      <td>10</td>\n",
              "      <td>24</td>\n",
              "      <td>19</td>\n",
              "      <td>77478.859649</td>\n",
              "    </tr>\n",
              "    <tr>\n",
              "      <th>24670</th>\n",
              "      <td>m8807</td>\n",
              "      <td>Harold and Kumar Go to White Castle (2004)</td>\n",
              "      <td>Adventure|Comedy</td>\n",
              "      <td>m34162</td>\n",
              "      <td>Wedding Crashers (2005)</td>\n",
              "      <td>Comedy|Romance</td>\n",
              "      <td>10</td>\n",
              "      <td>25</td>\n",
              "      <td>19</td>\n",
              "      <td>74379.705263</td>\n",
              "    </tr>\n",
              "    <tr>\n",
              "      <th>...</th>\n",
              "      <td>...</td>\n",
              "      <td>...</td>\n",
              "      <td>...</td>\n",
              "      <td>...</td>\n",
              "      <td>...</td>\n",
              "      <td>...</td>\n",
              "      <td>...</td>\n",
              "      <td>...</td>\n",
              "      <td>...</td>\n",
              "      <td>...</td>\n",
              "    </tr>\n",
              "    <tr>\n",
              "      <th>13614</th>\n",
              "      <td>m2571</td>\n",
              "      <td>Matrix, The (1999)</td>\n",
              "      <td>Action|Sci-Fi|Thriller</td>\n",
              "      <td>m457</td>\n",
              "      <td>Fugitive, The (1993)</td>\n",
              "      <td>Thriller</td>\n",
              "      <td>13</td>\n",
              "      <td>137</td>\n",
              "      <td>222</td>\n",
              "      <td>1510.142303</td>\n",
              "    </tr>\n",
              "    <tr>\n",
              "      <th>23271</th>\n",
              "      <td>m318</td>\n",
              "      <td>Shawshank Redemption, The (1994)</td>\n",
              "      <td>Crime|Drama</td>\n",
              "      <td>m1206</td>\n",
              "      <td>Clockwork Orange, A (1971)</td>\n",
              "      <td>Crime|Drama|Sci-Fi|Thriller</td>\n",
              "      <td>10</td>\n",
              "      <td>86</td>\n",
              "      <td>274</td>\n",
              "      <td>1499.336276</td>\n",
              "    </tr>\n",
              "    <tr>\n",
              "      <th>12706</th>\n",
              "      <td>m318</td>\n",
              "      <td>Shawshank Redemption, The (1994)</td>\n",
              "      <td>Crime|Drama</td>\n",
              "      <td>m364</td>\n",
              "      <td>Lion King, The (1994)</td>\n",
              "      <td>Adventure|Animation|Children|Drama|Musical|IMAX</td>\n",
              "      <td>13</td>\n",
              "      <td>115</td>\n",
              "      <td>274</td>\n",
              "      <td>1457.615614</td>\n",
              "    </tr>\n",
              "    <tr>\n",
              "      <th>15189</th>\n",
              "      <td>m296</td>\n",
              "      <td>Pulp Fiction (1994)</td>\n",
              "      <td>Comedy|Crime|Drama|Thriller</td>\n",
              "      <td>m457</td>\n",
              "      <td>Fugitive, The (1993)</td>\n",
              "      <td>Thriller</td>\n",
              "      <td>13</td>\n",
              "      <td>137</td>\n",
              "      <td>244</td>\n",
              "      <td>1373.981931</td>\n",
              "    </tr>\n",
              "    <tr>\n",
              "      <th>26854</th>\n",
              "      <td>m593</td>\n",
              "      <td>Silence of the Lambs, The (1991)</td>\n",
              "      <td>Crime|Horror|Thriller</td>\n",
              "      <td>m364</td>\n",
              "      <td>Lion King, The (1994)</td>\n",
              "      <td>Adventure|Animation|Children|Drama|Musical|IMAX</td>\n",
              "      <td>10</td>\n",
              "      <td>115</td>\n",
              "      <td>225</td>\n",
              "      <td>1365.424541</td>\n",
              "    </tr>\n",
              "  </tbody>\n",
              "</table>\n",
              "<p>29132 rows × 10 columns</p>\n",
              "</div>"
            ],
            "text/plain": [
              "      movieId_y  ...           lift\n",
              "21370   m116823  ...  107953.877778\n",
              "24964   m106487  ...  105149.880952\n",
              "26633   m139385  ...   92974.631579\n",
              "26938    m67255  ...   77478.859649\n",
              "24670     m8807  ...   74379.705263\n",
              "...         ...  ...            ...\n",
              "13614     m2571  ...    1510.142303\n",
              "23271      m318  ...    1499.336276\n",
              "12706      m318  ...    1457.615614\n",
              "15189      m296  ...    1373.981931\n",
              "26854      m593  ...    1365.424541\n",
              "\n",
              "[29132 rows x 10 columns]"
            ]
          },
          "metadata": {
            "tags": []
          },
          "execution_count": 29
        }
      ]
    },
    {
      "cell_type": "code",
      "metadata": {
        "colab": {
          "base_uri": "https://localhost:8080/"
        },
        "id": "v2SOtnDeS7fR",
        "outputId": "19f53a41-6213-41e6-82fa-0008c6199987"
      },
      "source": [
        "paircounts[paircounts[\"movieId_x\"]=='m110'].head(1)['movieId_y']"
      ],
      "execution_count": 30,
      "outputs": [
        {
          "output_type": "execute_result",
          "data": {
            "text/plain": [
              "93417    m161582\n",
              "Name: movieId_y, dtype: object"
            ]
          },
          "metadata": {
            "tags": []
          },
          "execution_count": 30
        }
      ]
    },
    {
      "cell_type": "code",
      "metadata": {
        "colab": {
          "base_uri": "https://localhost:8080/",
          "height": 151
        },
        "id": "23IdJGVSTU96",
        "outputId": "16e38189-714e-43ff-bb5e-33de0a0d17d6"
      },
      "source": [
        "paircounts[(paircounts[\"movieId_x\"]=='m364') & (paircounts[\"movieId_y\"]=='m362')]"
      ],
      "execution_count": 31,
      "outputs": [
        {
          "output_type": "execute_result",
          "data": {
            "text/html": [
              "<div>\n",
              "<style scoped>\n",
              "    .dataframe tbody tr th:only-of-type {\n",
              "        vertical-align: middle;\n",
              "    }\n",
              "\n",
              "    .dataframe tbody tr th {\n",
              "        vertical-align: top;\n",
              "    }\n",
              "\n",
              "    .dataframe thead th {\n",
              "        text-align: right;\n",
              "    }\n",
              "</style>\n",
              "<table border=\"1\" class=\"dataframe\">\n",
              "  <thead>\n",
              "    <tr style=\"text-align: right;\">\n",
              "      <th></th>\n",
              "      <th>movieId_y</th>\n",
              "      <th>title_y</th>\n",
              "      <th>genres_y</th>\n",
              "      <th>movieId_x</th>\n",
              "      <th>title_x</th>\n",
              "      <th>genres_x</th>\n",
              "      <th>count</th>\n",
              "      <th>ratingCount_x</th>\n",
              "      <th>ratingCount_y</th>\n",
              "      <th>lift</th>\n",
              "    </tr>\n",
              "  </thead>\n",
              "  <tbody>\n",
              "    <tr>\n",
              "      <th>29046</th>\n",
              "      <td>m362</td>\n",
              "      <td>Jungle Book, The (1994)</td>\n",
              "      <td>Adventure|Children|Romance</td>\n",
              "      <td>m364</td>\n",
              "      <td>Lion King, The (1994)</td>\n",
              "      <td>Adventure|Animation|Children|Drama|Musical|IMAX</td>\n",
              "      <td>10</td>\n",
              "      <td>115</td>\n",
              "      <td>17</td>\n",
              "      <td>18071.795396</td>\n",
              "    </tr>\n",
              "  </tbody>\n",
              "</table>\n",
              "</div>"
            ],
            "text/plain": [
              "      movieId_y                  title_y  ... ratingCount_y          lift\n",
              "29046      m362  Jungle Book, The (1994)  ...            17  18071.795396\n",
              "\n",
              "[1 rows x 10 columns]"
            ]
          },
          "metadata": {
            "tags": []
          },
          "execution_count": 31
        }
      ]
    },
    {
      "cell_type": "markdown",
      "metadata": {
        "id": "xpuW7oZcFU_G"
      },
      "source": [
        "# End of Exercise\n",
        "\n",
        "As part of your submission, you should complete the Exercise 1 quiz on Moodle.\n",
        "You will need to upload your notebook, complete with the **results** of executing the code."
      ]
    }
  ]
}