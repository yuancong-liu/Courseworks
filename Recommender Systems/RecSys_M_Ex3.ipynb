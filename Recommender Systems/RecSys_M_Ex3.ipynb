{
  "nbformat": 4,
  "nbformat_minor": 0,
  "metadata": {
    "colab": {
      "name": "RecSys M Ex3.ipynb",
      "provenance": [],
      "collapsed_sections": [],
      "toc_visible": true
    },
    "kernelspec": {
      "name": "python3",
      "display_name": "Python 3"
    }
  },
  "cells": [
    {
      "cell_type": "markdown",
      "metadata": {
        "id": "THQFNe3zdt1f"
      },
      "source": [
        "# RecSys M 2021 - Exercise 3 Template\n",
        "\n",
        "The aims of this exercise are:\n",
        " - Explore a different recommendation dataset\n",
        " - Develop and evaluate baseline recommender systems\n",
        " - Implement hybrid recommender models\n",
        " - Explore diversification issues in recommender systems\n",
        " - Revise other material from the lectures.\n",
        "\n",
        "As usual, there is a corresponding Quiz on Moodle for this Exercise, which should be answered as you proceed. For more details, see the Exercise 3 specification.\n",
        "\n"
      ]
    },
    {
      "cell_type": "markdown",
      "metadata": {
        "id": "cvTdMyXdODex"
      },
      "source": [
        "# Part-Pre. Preparation "
      ]
    },
    {
      "cell_type": "markdown",
      "metadata": {
        "id": "Ww--_kl9-ndn"
      },
      "source": [
        "## Pre 1. Setup Block\n",
        "\n",
        "This exercise will use the [Goodreads]() dataset for books. These blocks setup the data files, Python etc."
      ]
    },
    {
      "cell_type": "code",
      "metadata": {
        "id": "iFgYpbhh0tkX",
        "colab": {
          "base_uri": "https://localhost:8080/"
        },
        "outputId": "fcee8457-d602-4299-d047-8b4ddf2daaef"
      },
      "source": [
        "!rm -rf ratings* books* to_read* test*\n",
        "\n",
        "!curl -o ratings.csv \"http://www.dcs.gla.ac.uk/~craigm/recsysH/coursework/final-ratings.csv\" \n",
        "!curl -o books.csv \"http://www.dcs.gla.ac.uk/~craigm/recsysH/coursework/final-books.csv\"\n",
        "!curl -o to_read.csv \"http://www.dcs.gla.ac.uk/~craigm/recsysH/coursework/final-to_read.csv\"\n",
        "!curl -o test.csv \"http://www.dcs.gla.ac.uk/~craigm/recsysH/coursework/final-test.csv\""
      ],
      "execution_count": 1,
      "outputs": [
        {
          "output_type": "stream",
          "text": [
            "  % Total    % Received % Xferd  Average Speed   Time    Time     Time  Current\n",
            "                                 Dload  Upload   Total   Spent    Left  Speed\n",
            "100 7631k  100 7631k    0     0  5776k      0  0:00:01  0:00:01 --:--:-- 5781k\n",
            "  % Total    % Received % Xferd  Average Speed   Time    Time     Time  Current\n",
            "                                 Dload  Upload   Total   Spent    Left  Speed\n",
            "100 2366k  100 2366k    0     0  2882k      0 --:--:-- --:--:-- --:--:-- 2878k\n",
            "  % Total    % Received % Xferd  Average Speed   Time    Time     Time  Current\n",
            "                                 Dload  Upload   Total   Spent    Left  Speed\n",
            "100 7581k  100 7581k    0     0  7529k      0  0:00:01  0:00:01 --:--:-- 7529k\n",
            "  % Total    % Received % Xferd  Average Speed   Time    Time     Time  Current\n",
            "                                 Dload  Upload   Total   Spent    Left  Speed\n",
            "100 1895k  100 1895k    0     0  2248k      0 --:--:-- --:--:-- --:--:-- 2245k\n"
          ],
          "name": "stdout"
        }
      ]
    },
    {
      "cell_type": "code",
      "metadata": {
        "id": "1VpVnNrZ1EiX",
        "colab": {
          "base_uri": "https://localhost:8080/"
        },
        "outputId": "5d425d4e-6a8c-4819-fac0-41be8db6dc9f"
      },
      "source": [
        "#Standard setup\n",
        "import pandas as pd\n",
        "import numpy as np\n",
        "import torch\n",
        "!pip install git+https://github.com/cmacdonald/spotlight.git@master#egg=spotlight\n",
        "from spotlight.interactions import Interactions\n",
        "SEED=20\n",
        "BPRMF=None"
      ],
      "execution_count": 2,
      "outputs": [
        {
          "output_type": "stream",
          "text": [
            "Collecting spotlight\n",
            "  Cloning https://github.com/cmacdonald/spotlight.git (to revision master) to /tmp/pip-install-tgwk0zae/spotlight_eb3b0846790a4106af307f48b55fda70\n",
            "  Running command git clone -q https://github.com/cmacdonald/spotlight.git /tmp/pip-install-tgwk0zae/spotlight_eb3b0846790a4106af307f48b55fda70\n",
            "Requirement already satisfied: torch>=0.4.0 in /usr/local/lib/python3.7/dist-packages (from spotlight) (1.9.0+cu102)\n",
            "Requirement already satisfied: typing-extensions in /usr/local/lib/python3.7/dist-packages (from torch>=0.4.0->spotlight) (3.7.4.3)\n",
            "Building wheels for collected packages: spotlight\n",
            "  Building wheel for spotlight (setup.py) ... \u001b[?25l\u001b[?25hdone\n",
            "  Created wheel for spotlight: filename=spotlight-0.1.6-py3-none-any.whl size=34106 sha256=b8e1d2883f4b2421cfbd85b226e505383d2008f453b98a8e83167b489e7e63fc\n",
            "  Stored in directory: /tmp/pip-ephem-wheel-cache-w18atoos/wheels/1c/2a/31/d187173520bc800643df4e3d1f97dee21d2133ba41085704ed\n",
            "Successfully built spotlight\n",
            "Installing collected packages: spotlight\n",
            "Successfully installed spotlight-0.1.6\n"
          ],
          "name": "stdout"
        }
      ]
    },
    {
      "cell_type": "markdown",
      "metadata": {
        "id": "RtJO0e0m-hun"
      },
      "source": [
        "## Pre 2. Data Preparation\n",
        "\n",
        "Let's load the dataset into dataframes."
      ]
    },
    {
      "cell_type": "code",
      "metadata": {
        "id": "qKAb25iw1MYw"
      },
      "source": [
        "#load in the csv files\n",
        "ratings_df = pd.read_csv(\"ratings.csv\")\n",
        "books_df = pd.read_csv(\"books.csv\")\n",
        "to_read_df = pd.read_csv(\"to_read.csv\")\n",
        "test = pd.read_csv(\"test.csv\")"
      ],
      "execution_count": 3,
      "outputs": []
    },
    {
      "cell_type": "code",
      "metadata": {
        "id": "W6rqfn53OhDC"
      },
      "source": [
        "#cut down the number of items and users\n",
        "counts=ratings_df[ratings_df[\"book_id\"] < 2000].groupby([\"book_id\"]).count().reset_index()\n",
        "valid_books=counts[counts[\"user_id\"] >= 10][[\"book_id\"]]\n",
        "\n",
        "books_df = books_df.merge(valid_books, on=\"book_id\")\n",
        "ratings_df = ratings_df[ratings_df[\"user_id\"] < 2000].merge(valid_books, on=\"book_id\")\n",
        "to_read_df = to_read_df[to_read_df[\"user_id\"] < 2000].merge(valid_books, on=\"book_id\")\n",
        "test = test[test[\"user_id\"] < 2000].merge(valid_books, on=\"book_id\")\n",
        "\n",
        "\n",
        "#stringify the id columns\n",
        "def str_col(df):\n",
        "  if \"user_id\" in df.columns:\n",
        "    df[\"user_id\"] = \"u\" + df.user_id.astype(str)\n",
        "  if \"book_id\" in df.columns:\n",
        "    df[\"book_id\"] = \"b\" + df.book_id.astype(str)\n",
        "\n",
        "str_col(books_df)\n",
        "str_col(ratings_df)\n",
        "str_col(to_read_df)\n",
        "str_col(test)"
      ],
      "execution_count": 4,
      "outputs": []
    },
    {
      "cell_type": "markdown",
      "metadata": {
        "id": "C7cgXhmYUXIn"
      },
      "source": [
        "Here we construct the Interactions objects from `ratings.csv`, `to_read.csv` and `test.csv`. We manually specify the num_users and num_items parameters to all Interactions objects, in case the test set differs from your training sets."
      ]
    },
    {
      "cell_type": "code",
      "metadata": {
        "id": "15ClgJOdTTt1",
        "colab": {
          "base_uri": "https://localhost:8080/"
        },
        "outputId": "6928be77-3ba4-4516-883d-ea30638b98b8"
      },
      "source": [
        "from collections import defaultdict\n",
        "from itertools import count\n",
        "\n",
        "from spotlight.cross_validation import random_train_test_split\n",
        "\n",
        "iid_map = defaultdict(count().__next__)\n",
        "\n",
        "\n",
        "rating_iids = np.array([iid_map[iid] for iid in ratings_df[\"book_id\"].values], dtype = np.int32)\n",
        "test_iids = np.array([iid_map[iid] for iid in test[\"book_id\"].values], dtype = np.int32)\n",
        "toread_iids = np.array([iid_map[iid] for iid in to_read_df[\"book_id\"].values], dtype = np.int32)\n",
        "\n",
        "\n",
        "uid_map = defaultdict(count().__next__)\n",
        "test_uids = np.array([uid_map[uid] for uid in test[\"user_id\"].values], dtype = np.int32)\n",
        "rating_uids = np.array([uid_map[uid] for uid in ratings_df[\"user_id\"].values], dtype = np.int32)\n",
        "toread_uids = np.array([uid_map[iid] for iid in to_read_df[\"user_id\"].values], dtype = np.int32)\n",
        "\n",
        "\n",
        "uid_rev_map = {v: k for k, v in uid_map.items()}\n",
        "iid_rev_map = {v: k for k, v in iid_map.items()}\n",
        "\n",
        "\n",
        "rating_dataset = Interactions(user_ids=rating_uids,\n",
        "                               item_ids=rating_iids,\n",
        "                               ratings=ratings_df[\"rating\"].values,\n",
        "                               num_users=len(uid_rev_map),\n",
        "                               num_items=len(iid_rev_map))\n",
        "\n",
        "toread_dataset = Interactions(user_ids=toread_uids,\n",
        "                               item_ids=toread_iids,\n",
        "                               num_users=len(uid_rev_map),\n",
        "                               num_items=len(iid_rev_map))\n",
        "\n",
        "test_dataset = Interactions(user_ids=test_uids,\n",
        "                               item_ids=test_iids,\n",
        "                               num_users=len(uid_rev_map),\n",
        "                               num_items=len(iid_rev_map))\n",
        "\n",
        "print(rating_dataset)\n",
        "print(toread_dataset)\n",
        "print(test_dataset)\n",
        "\n",
        "#here we define the validation set\n",
        "toread_dataset_train, validation = random_train_test_split(toread_dataset, random_state=np.random.RandomState(SEED))\n",
        "\n",
        "num_items = test_dataset.num_items\n",
        "num_users = test_dataset.num_users"
      ],
      "execution_count": 5,
      "outputs": [
        {
          "output_type": "stream",
          "text": [
            "<Interactions dataset (1999 users x 1826 items x 124762 interactions)>\n",
            "<Interactions dataset (1999 users x 1826 items x 135615 interactions)>\n",
            "<Interactions dataset (1999 users x 1826 items x 33917 interactions)>\n"
          ],
          "name": "stdout"
        }
      ]
    },
    {
      "cell_type": "markdown",
      "metadata": {
        "id": "a2noK30pBEsF"
      },
      "source": [
        "Finally, this is some utility code that we will use in the exercise."
      ]
    },
    {
      "cell_type": "code",
      "metadata": {
        "id": "2kDxZgICBFp6",
        "colab": {
          "base_uri": "https://localhost:8080/"
        },
        "outputId": "18224fcf-3a4d-4fab-d35f-d3b24aba295b"
      },
      "source": [
        "def getAuthorTitle(iid):\n",
        "  bookid = iid_rev_map[iid]\n",
        "  row = books_df[books_df.book_id == bookid]\n",
        "  return row.iloc[0][\"authors\"] + \" / \" + row.iloc[0][\"title\"]\n",
        "\n",
        "print(\"iid 0: \" + getAuthorTitle(0) )"
      ],
      "execution_count": 6,
      "outputs": [
        {
          "output_type": "stream",
          "text": [
            "iid 0: Carlos Ruiz Zafón, Lucia Graves / The Shadow of the Wind (The Cemetery of Forgotten Books,  #1)\n"
          ],
          "name": "stdout"
        }
      ]
    },
    {
      "cell_type": "markdown",
      "metadata": {
        "id": "Kt4I2C5DTUL5"
      },
      "source": [
        "## Pre 3. Example Code\n",
        "\n",
        "To evaluate some of your hand-implemented recommender systems (e.g. Q1, Q4), you will need to instantiate objects that match the specification of a Spotlight model, which `mrr_score()` etc. expects.\n",
        "\n",
        "\n",
        "Here is an example recommender object that returns 0 for each item, regardless of user."
      ]
    },
    {
      "cell_type": "code",
      "metadata": {
        "id": "s2eaxy_hakbC",
        "colab": {
          "base_uri": "https://localhost:8080/"
        },
        "outputId": "a93e240a-e665-4073-8d24-6992032e90dc"
      },
      "source": [
        "from spotlight.evaluation import mrr_score, precision_recall_score\n",
        "\n",
        "class dummymodel:\n",
        "  \n",
        "  def __init__(self, numitems):\n",
        "    self.predictions=np.zeros(numitems)\n",
        "  \n",
        "  #uid is the user we are requesting recommendations for;\n",
        "  #returns an array of scores, one for each item\n",
        "  def predict(self, uid):\n",
        "    #this model returns all zeros, regardless of userid\n",
        "    return( self.predictions )\n",
        "\n",
        "#lets evaluate how the effeciveness of dummymodel\n",
        "\n",
        "print(mrr_score(dummymodel(num_items), test_dataset, train=rating_dataset, k=100).mean())\n",
        "#as expected, a recommendation model that gives 0 scores for all items obtains a MRR score of 0"
      ],
      "execution_count": 7,
      "outputs": [
        {
          "output_type": "stream",
          "text": [
            "0.0\n"
          ],
          "name": "stdout"
        }
      ]
    },
    {
      "cell_type": "code",
      "metadata": {
        "id": "ZQTJOmS5dB3i",
        "colab": {
          "base_uri": "https://localhost:8080/"
        },
        "outputId": "0cdacede-c6f7-4665-e1a7-05ed356d581d"
      },
      "source": [
        "#note that mrr_score() displays a progress bar if you set verbose=True\n",
        "print(mrr_score(dummymodel(num_items), test_dataset, train=rating_dataset, k=100, verbose=True).mean())\n"
      ],
      "execution_count": 8,
      "outputs": [
        {
          "output_type": "stream",
          "text": [
            "1999it [00:00, 2881.60it/s]"
          ],
          "name": "stderr"
        },
        {
          "output_type": "stream",
          "text": [
            "0.0\n"
          ],
          "name": "stdout"
        },
        {
          "output_type": "stream",
          "text": [
            "\n"
          ],
          "name": "stderr"
        }
      ]
    },
    {
      "cell_type": "markdown",
      "metadata": {
        "id": "BCWXwVC5Mtyj"
      },
      "source": [
        "# Part-A. Combination of Recommendation Models"
      ]
    },
    {
      "cell_type": "markdown",
      "metadata": {
        "id": "SyvGgW_3ZjLV"
      },
      "source": [
        "## Task 1. Explicit & Implicit Matrix Factorisation Models\n",
        "\n",
        "Create and train three matrix factorisation systems:\n",
        " - \"EMF\": explicit MF, trained on the ratings Interactions object (`rating_dataset`)\n",
        " - \"IMF\": implicit MF, trained on the toread_dataset Interactions object (`toread_dataset_train`)\n",
        " - \"BPRMF\": implicit MF with the BPR loss function (`loss='bpr'`), trained on the toread_dataset Interactions object (`toread_dataset_train`)\n",
        "\n",
        "Use a variable of the same name for these models, as we will use some of them later (e.g. `BPRMF`).\n",
        "  \n",
        "In all cases, you must use the standard initialisation arguments, i.e. \n",
        "`n_iter=10, embedding_dim=32, use_cuda=False, random_state=np.random.RandomState(SEED)`.\n",
        " \n",
        "Evaluate each of these models in terms of Mean Reciprocal Rank on the test set. MRR can be obtained using:\n",
        "```python\n",
        "mrr_score(X, test_dataset, train=rating_dataset, k=100, verbose=True).mean())\n",
        "```\n",
        "where X is an instance of a Spotlight model. Do NOT change the `k` or `train` arguments."
      ]
    },
    {
      "cell_type": "code",
      "metadata": {
        "id": "qDADjtepRvpJ",
        "colab": {
          "base_uri": "https://localhost:8080/"
        },
        "outputId": "8f35462f-5c2c-476a-d8ae-ebec1ff7fce7"
      },
      "source": [
        "# Add your solution here\n",
        "# EMF\n",
        "\n",
        "from spotlight.factorization.explicit import ExplicitFactorizationModel\n",
        "\n",
        "EMF =  ExplicitFactorizationModel(n_iter=10,\n",
        "                                    embedding_dim=32,\n",
        "                                    use_cuda=False,\n",
        "                                    random_state=np.random.RandomState(SEED)\n",
        ")\n",
        "EMF.fit(rating_dataset, verbose=True)\n",
        "\n",
        "mrr_score(EMF, test_dataset, train=rating_dataset, k=100, verbose=True).mean()"
      ],
      "execution_count": 9,
      "outputs": [
        {
          "output_type": "stream",
          "text": [
            "Epoch 0: loss 3.8710271667261593\n",
            "Epoch 1: loss 0.7940810446123607\n",
            "Epoch 2: loss 0.6382512643200452\n",
            "Epoch 3: loss 0.5217335281557725\n",
            "Epoch 4: loss 0.44844855655167926\n",
            "Epoch 5: loss 0.40543351120880394\n",
            "Epoch 6: loss 0.3823863151254224\n",
            "Epoch 7: loss 0.36336620252762664\n",
            "Epoch 8: loss 0.35137936695799477\n"
          ],
          "name": "stdout"
        },
        {
          "output_type": "stream",
          "text": [
            "96it [00:00, 956.31it/s]"
          ],
          "name": "stderr"
        },
        {
          "output_type": "stream",
          "text": [
            "Epoch 9: loss 0.3396692546237199\n"
          ],
          "name": "stdout"
        },
        {
          "output_type": "stream",
          "text": [
            "1999it [00:02, 994.58it/s]\n"
          ],
          "name": "stderr"
        },
        {
          "output_type": "execute_result",
          "data": {
            "text/plain": [
              "0.05898399982013507"
            ]
          },
          "metadata": {
            "tags": []
          },
          "execution_count": 9
        }
      ]
    },
    {
      "cell_type": "code",
      "metadata": {
        "colab": {
          "base_uri": "https://localhost:8080/"
        },
        "id": "Tt0196FBtnzU",
        "outputId": "6b3d0685-6812-4edb-d0a7-90aab6c5fc0e"
      },
      "source": [
        "# IMF\n",
        "\n",
        "from spotlight.factorization.implicit import ImplicitFactorizationModel\n",
        "\n",
        "IMF =  ImplicitFactorizationModel(n_iter=10,\n",
        "                                    embedding_dim=32,\n",
        "                                    use_cuda=False,\n",
        "                                    random_state=np.random.RandomState(SEED)\n",
        ")\n",
        "IMF.fit(toread_dataset_train, verbose=True)\n",
        "\n",
        "mrr_score(IMF, test_dataset, train=rating_dataset, k=100, verbose=True).mean()"
      ],
      "execution_count": 10,
      "outputs": [
        {
          "output_type": "stream",
          "text": [
            "Epoch 0: loss 0.7677980539090229\n",
            "Epoch 1: loss 0.53877861825925\n",
            "Epoch 2: loss 0.47017199658560305\n",
            "Epoch 3: loss 0.428322009882837\n",
            "Epoch 4: loss 0.39839018825090156\n",
            "Epoch 5: loss 0.368275504770144\n",
            "Epoch 6: loss 0.3473479778699155\n",
            "Epoch 7: loss 0.32980164804689166\n",
            "Epoch 8: loss 0.31870100696413023\n"
          ],
          "name": "stdout"
        },
        {
          "output_type": "stream",
          "text": [
            "106it [00:00, 1052.57it/s]"
          ],
          "name": "stderr"
        },
        {
          "output_type": "stream",
          "text": [
            "Epoch 9: loss 0.3048194432103971\n"
          ],
          "name": "stdout"
        },
        {
          "output_type": "stream",
          "text": [
            "1999it [00:02, 987.98it/s]\n"
          ],
          "name": "stderr"
        },
        {
          "output_type": "execute_result",
          "data": {
            "text/plain": [
              "0.3299315791285401"
            ]
          },
          "metadata": {
            "tags": []
          },
          "execution_count": 10
        }
      ]
    },
    {
      "cell_type": "code",
      "metadata": {
        "colab": {
          "base_uri": "https://localhost:8080/"
        },
        "id": "iaZtXYcTyMSd",
        "outputId": "8af44d16-3ab1-4b1e-df65-4d29c1f4ae10"
      },
      "source": [
        "# BPRMF\n",
        "\n",
        "BPRMF =  ImplicitFactorizationModel(n_iter=10,\n",
        "                                    embedding_dim=32,\n",
        "                                    use_cuda=False,\n",
        "                                    loss='bpr',\n",
        "                                    random_state=np.random.RandomState(SEED)\n",
        ")\n",
        "BPRMF.fit(toread_dataset_train, verbose=True)\n",
        "\n",
        "mrr_score(BPRMF, test_dataset, train=rating_dataset, k=100, verbose=True).mean()"
      ],
      "execution_count": 11,
      "outputs": [
        {
          "output_type": "stream",
          "text": [
            "Epoch 0: loss 0.33895447579616644\n",
            "Epoch 1: loss 0.19644999289709442\n",
            "Epoch 2: loss 0.15870640168563938\n",
            "Epoch 3: loss 0.14147728193059284\n",
            "Epoch 4: loss 0.132827276100387\n",
            "Epoch 5: loss 0.12213623321632731\n",
            "Epoch 6: loss 0.11668406535853755\n",
            "Epoch 7: loss 0.11047121562626001\n",
            "Epoch 8: loss 0.10888675406996934\n"
          ],
          "name": "stdout"
        },
        {
          "output_type": "stream",
          "text": [
            "88it [00:00, 876.72it/s]"
          ],
          "name": "stderr"
        },
        {
          "output_type": "stream",
          "text": [
            "Epoch 9: loss 0.10400472129782978\n"
          ],
          "name": "stdout"
        },
        {
          "output_type": "stream",
          "text": [
            "1999it [00:02, 981.20it/s]\n"
          ],
          "name": "stderr"
        },
        {
          "output_type": "execute_result",
          "data": {
            "text/plain": [
              "0.4076771464674879"
            ]
          },
          "metadata": {
            "tags": []
          },
          "execution_count": 11
        }
      ]
    },
    {
      "cell_type": "markdown",
      "metadata": {
        "id": "hZHCOmfEDOGo"
      },
      "source": [
        "## Task 2. Hybrid Model\n",
        "\n",
        "In this task, you are expected to create new hybrid recommendation models that \n",
        "combine the two models in Task 1, namely IMF and BPRMF. \n",
        "\n",
        "(a) Linearly combine the *scores* from IMF and BPRMF.  Normalise both input scores into the range 0..1 using [sklearn's minmax_scale() function](\n",
        "https://scikit-learn.org/stable/modules/generated/sklearn.preprocessing.minmax_scale.html) before combining them.\n",
        "\n",
        "(b) Apply a pipelining recommender, where the top 100 items are obtained from IMF and re-ranked using the scores of BPRMF. Items not returned by IMF get a score of 0.\n",
        "\n",
        "To implement these hybrid models, you should create new classes that abide by the Spotlight model contract (namely, it has a `predict(self, uid)` function that returns a score for *all* items). \n",
        "\n",
        "Evaluate each model in terms of MRR. How many users are improved, how many are degraded compared to the BPRMF baseline?\n",
        "\n",
        "Finally, pass your instantiated model object to the `test_Hybrid_a()` (for (a)) or `test_Hybrid_b()` (for (b)) functions, as appropriate, and record the results in the quiz. For example, if your model for (b) is called `pipeline`, then you would run:\n",
        "```python\n",
        "test_Hybrid_b(pipeline)\n",
        "```\n",
        "\n",
        "You now have sufficient information to answer the Task 2 quiz questions."
      ]
    },
    {
      "cell_type": "code",
      "metadata": {
        "id": "6j6JzIOHkYw9"
      },
      "source": [
        "def test_Hybrid_a(combsumObj):\n",
        "  for i, u in enumerate([5, 20]):\n",
        "    print(\"Hybrid a test case %d\" % i)\n",
        "    print(np.count_nonzero(combsumObj.predict(u) > 1))\n",
        "\n",
        "def test_Hybrid_b(pipeObj):\n",
        "  for i, iid in enumerate([3, 0]):\n",
        "    print(\"Hybrid b test case %d\" % i)\n",
        "    print(pipeObj.predict(0)[iid])\n",
        "\n"
      ],
      "execution_count": 12,
      "outputs": []
    },
    {
      "cell_type": "code",
      "metadata": {
        "id": "1_o7a1ppFZ7R",
        "colab": {
          "base_uri": "https://localhost:8080/"
        },
        "outputId": "790d535d-935d-49f4-deb9-665eccbe9880"
      },
      "source": [
        "# Add your solutions here and evaluate them\n",
        "# linearModel\n",
        "\n",
        "from sklearn.preprocessing import minmax_scale\n",
        "\n",
        "class linearModel:\n",
        "  def __init__(self, IMF = IMF, BPRMF = BPRMF):\n",
        "    self.imf = IMF\n",
        "    self.bprmf = BPRMF\n",
        "\n",
        "  def predict(self, uid):\n",
        "    self.prediction = minmax_scale(self.imf.predict(uid)) + minmax_scale(self.bprmf.predict(uid))\n",
        "    return self.prediction\n",
        "    \n",
        "mrr_score(linearModel(), test_dataset, train=rating_dataset, k=100, verbose=True).mean()"
      ],
      "execution_count": 13,
      "outputs": [
        {
          "output_type": "stream",
          "text": [
            "1999it [00:04, 467.20it/s]\n"
          ],
          "name": "stderr"
        },
        {
          "output_type": "execute_result",
          "data": {
            "text/plain": [
              "0.41010939818893816"
            ]
          },
          "metadata": {
            "tags": []
          },
          "execution_count": 13
        }
      ]
    },
    {
      "cell_type": "code",
      "metadata": {
        "colab": {
          "base_uri": "https://localhost:8080/"
        },
        "id": "xQR0UMd56v_p",
        "outputId": "8bfeba05-a187-41b9-a259-9d451bc38cb1"
      },
      "source": [
        "linear_check = mrr_score(linearModel(), test_dataset, train=rating_dataset, k=100, verbose=True) - mrr_score(BPRMF, test_dataset, train=rating_dataset, k=100, verbose=True)\n",
        "print(\"%d users have an improved RR and %d users have an degraded one.\" %(np.count_nonzero(linear_check>0), np.count_nonzero(linear_check<0)))"
      ],
      "execution_count": 14,
      "outputs": [
        {
          "output_type": "stream",
          "text": [
            "1999it [00:04, 458.84it/s]\n",
            "1999it [00:02, 969.32it/s]"
          ],
          "name": "stderr"
        },
        {
          "output_type": "stream",
          "text": [
            "736 users have an improved RR and 745 users have an degraded one.\n"
          ],
          "name": "stdout"
        },
        {
          "output_type": "stream",
          "text": [
            "\n"
          ],
          "name": "stderr"
        }
      ]
    },
    {
      "cell_type": "code",
      "metadata": {
        "colab": {
          "base_uri": "https://localhost:8080/"
        },
        "id": "5bw56wgK77JJ",
        "outputId": "ccf55859-b6ce-4f4e-b901-bbc9ec3e53f9"
      },
      "source": [
        "# pipeModel\n",
        "\n",
        "class pipeModel:\n",
        "  def __init__(self, IMF = IMF, BPRMF = BPRMF):\n",
        "    self.imf = IMF\n",
        "    self.bprmf = BPRMF\n",
        "\n",
        "  def predict(self, uid):\n",
        "    df = pd.DataFrame(IMF.predict(uid)).rename(columns={0:'IMF'}).reset_index().merge(pd.DataFrame(BPRMF.predict(uid)).reset_index(), on='index').rename(columns={0:'BPRFM'})\n",
        "    df.sort_values(by='BPRFM', inplace=True, ascending=False)\n",
        "    df['new'] = (np.concatenate((df['IMF'][0:100].to_numpy(), np.zeros(len(df)-100))))\n",
        "    df.sort_values(by='index', inplace=True)\n",
        "\n",
        "    return df['new'].to_numpy()\n",
        "\n",
        "mrr_score(pipeModel(), test_dataset, train=rating_dataset, k=100, verbose=True).mean()"
      ],
      "execution_count": 15,
      "outputs": [
        {
          "output_type": "stream",
          "text": [
            "1999it [00:20, 99.60it/s]\n"
          ],
          "name": "stderr"
        },
        {
          "output_type": "execute_result",
          "data": {
            "text/plain": [
              "0.34594853369291295"
            ]
          },
          "metadata": {
            "tags": []
          },
          "execution_count": 15
        }
      ]
    },
    {
      "cell_type": "code",
      "metadata": {
        "colab": {
          "base_uri": "https://localhost:8080/"
        },
        "id": "9F88qA1GFw9f",
        "outputId": "7bb490ea-c1bd-4225-b4c9-a1253707feb4"
      },
      "source": [
        "linear_check = mrr_score(pipeModel(), test_dataset, train=rating_dataset, k=100, verbose=True) - mrr_score(BPRMF, test_dataset, train=rating_dataset, k=100, verbose=True)\n",
        "print(\"%d users have an improved RR and %d users have an degraded one.\" %(np.count_nonzero(linear_check>0), np.count_nonzero(linear_check<0)))"
      ],
      "execution_count": 16,
      "outputs": [
        {
          "output_type": "stream",
          "text": [
            "1999it [00:20, 98.41it/s]\n",
            "1999it [00:02, 967.28it/s]"
          ],
          "name": "stderr"
        },
        {
          "output_type": "stream",
          "text": [
            "710 users have an improved RR and 980 users have an degraded one.\n"
          ],
          "name": "stdout"
        },
        {
          "output_type": "stream",
          "text": [
            "\n"
          ],
          "name": "stderr"
        }
      ]
    },
    {
      "cell_type": "code",
      "metadata": {
        "id": "ROCBxlfKKkGA",
        "colab": {
          "base_uri": "https://localhost:8080/"
        },
        "outputId": "8f0c7eda-6341-429a-9146-dbc9ccaf8800"
      },
      "source": [
        "#Now test your hybrid approaches for the quiz\n",
        "\n",
        "test_Hybrid_a(linearModel())\n",
        "test_Hybrid_b(pipeModel())\n"
      ],
      "execution_count": 17,
      "outputs": [
        {
          "output_type": "stream",
          "text": [
            "Hybrid a test case 0\n",
            "445\n",
            "Hybrid a test case 1\n",
            "407\n",
            "Hybrid b test case 0\n",
            "16.40789222717285\n",
            "Hybrid b test case 1\n",
            "0.0\n"
          ],
          "name": "stdout"
        }
      ]
    },
    {
      "cell_type": "markdown",
      "metadata": {
        "id": "Qf0K6GECM0LQ"
      },
      "source": [
        "# Part-B. Analysing Recommendation Models"
      ]
    },
    {
      "cell_type": "markdown",
      "metadata": {
        "id": "-gszqk2kIZLX"
      },
      "source": [
        "## Utility methods\n",
        "\n",
        "Below, we provide a function, `get_top_K(model, uid : int, k : int)` which, when provided with a Spotlight model, will provide the top k predictions for the specified uid. The iids, their scores, and their embeddings are returned. "
      ]
    },
    {
      "cell_type": "code",
      "metadata": {
        "id": "xIyc_p_dIm1M",
        "colab": {
          "base_uri": "https://localhost:8080/"
        },
        "outputId": "d474a97a-b277-4df2-c66b-76fa71d7c1a1"
      },
      "source": [
        "from typing import Sequence, Tuple\n",
        "\n",
        "def get_top_K(model, uid : int, k : int) -> Tuple[ Sequence[int], Sequence[float],  np.ndarray ] :\n",
        "  #returns iids, their (normalised) scores in descending order, and item emebddings for the top k predictions of the given uid.\n",
        "\n",
        "  from sklearn.preprocessing import minmax_scale\n",
        "\n",
        "  from scipy.stats import rankdata\n",
        "  # get scores from model\n",
        "  scores = model.predict(uid)\n",
        "\n",
        "  # map scores into rank 0..1 over the entire item space\n",
        "  scores = minmax_scale(scores)\n",
        "\n",
        "  #compute their ranks  \n",
        "  ranks = rankdata(-scores)\n",
        "  \n",
        "  # get and filter iids, scores and embeddings\n",
        "  rtr_scores = scores[ranks <= k]\n",
        "  rtr_iids = np.argwhere(ranks <= k).flatten()\n",
        "  if hasattr(model, '_net'):\n",
        "    embs = model._net.item_embeddings.weight[rtr_iids]\n",
        "  else:\n",
        "    # not a model that has any embeddings\n",
        "    embs = np.zeros([k,1])\n",
        "  \n",
        "  # identify correct ordering using numpy.argsort()\n",
        "  ordering = (-1*rtr_scores).argsort()\n",
        "  \n",
        "  #return iids, scores and their embeddings in descending order of score\n",
        "  return rtr_iids[ordering], rtr_scores[ordering], embs[ordering]\n",
        "\n",
        "if BPRMF is not None:\n",
        "  iids, scores, embs = get_top_K(BPRMF, 0, 10)\n",
        "  print(\"Returned iids: %s\" % str(iids))\n",
        "  print(\"Returned scores: %s\" % str(scores))\n",
        "  print(\"Returned embeddings: %s\" % str(embs))\n",
        "else:\n",
        "  print(\"You need to define BPRMF in Task 1\")\n",
        "\n"
      ],
      "execution_count": 18,
      "outputs": [
        {
          "output_type": "stream",
          "text": [
            "Returned iids: [ 23 108  21  33   9  81  52 254  16   3]\n",
            "Returned scores: [1.         0.9895131  0.9848315  0.92250896 0.9070817  0.90654314\n",
            " 0.9005319  0.89310133 0.88378096 0.8836929 ]\n",
            "Returned embeddings: tensor([[-0.0453,  1.3716, -0.8307, -1.2616,  1.6700,  1.0161,  1.1168,  2.3530,\n",
            "         -1.2027,  0.8522, -1.0941, -0.6865, -0.5725, -2.0335, -1.2591,  0.6154,\n",
            "         -0.1374, -1.6868, -1.8615, -0.7514,  1.9909, -0.3909,  1.9239,  1.3293,\n",
            "         -1.2834, -0.4520,  1.1338,  0.3467,  2.5169, -2.1587,  1.2310,  1.1670],\n",
            "        [ 0.1239,  1.1004,  0.0531, -1.1045,  1.9932,  1.5049,  1.0011,  1.9734,\n",
            "         -1.6322, -0.8913, -0.6372,  0.7721, -1.1422, -2.2424, -1.1936, -0.5770,\n",
            "          0.0762, -1.0283, -1.2807, -2.0889,  2.8154, -0.9600, -0.1419,  0.8408,\n",
            "         -1.6067, -1.2905,  1.9169,  1.3988,  1.8646, -2.2028,  0.5365,  0.2022],\n",
            "        [ 0.3845,  0.8188, -0.1892, -1.1793,  2.1731,  0.6669,  1.1271,  1.4538,\n",
            "         -1.2173, -0.5447, -1.6713,  0.5249, -0.6132, -3.1082, -0.6489,  0.4312,\n",
            "          0.9176, -1.0346, -1.7232, -1.3347,  2.5504,  0.2789,  1.9649,  0.7684,\n",
            "         -1.0310, -1.3983,  0.8985, -0.0562,  2.1894, -0.8905,  1.0992,  0.6691],\n",
            "        [-0.4410,  0.4801, -0.2538, -0.5986,  1.2272,  0.6531,  1.4534,  1.3803,\n",
            "         -1.3796,  0.8305, -1.1837, -0.3366, -0.3528, -1.9982, -1.2018,  0.8934,\n",
            "         -0.5632, -0.6443, -0.7337, -0.4922,  2.9899,  0.2760,  1.4479,  1.0105,\n",
            "         -0.7107, -1.7105, -0.9456, -0.2314,  2.2862, -1.0982,  0.6176,  1.9784],\n",
            "        [-0.5686,  1.3279,  0.0929, -1.1565,  0.5140, -0.1223,  0.8788,  2.0444,\n",
            "          0.2803,  0.6417, -0.3809,  0.2828, -0.3895, -2.7013, -1.4182,  0.2742,\n",
            "         -1.0461, -1.5824, -2.0993, -1.3979,  1.3412, -0.4346,  1.5427,  1.2284,\n",
            "         -2.0168, -1.3083,  0.2939,  2.2792,  1.2569, -0.8994,  1.0784, -0.0203],\n",
            "        [ 0.1340,  0.2584, -0.5791, -0.5029,  2.7529,  0.0107,  0.8058,  2.3262,\n",
            "         -1.9017, -0.4165, -1.4422, -0.7689, -0.7657, -1.3836,  0.7729, -0.0596,\n",
            "          0.1377, -0.9144, -1.0304, -2.4873,  2.4421, -0.2146,  1.3113,  2.0114,\n",
            "         -0.5655, -1.5423,  1.9430,  2.1211,  1.2265, -0.4562,  0.4370,  1.1741],\n",
            "        [ 0.5933,  1.3073,  0.5726, -0.0917,  1.6623,  1.3124,  0.8131,  1.4753,\n",
            "         -1.6077,  1.4744, -0.6149, -0.1318,  0.2843, -2.1551, -1.0225,  1.1611,\n",
            "         -0.7732, -1.3496, -0.7587, -1.4566,  1.8771,  0.2448,  0.9532,  0.2902,\n",
            "         -1.4033, -1.9129,  1.0374, -0.1574,  2.0627, -1.1652,  0.8938,  0.7756],\n",
            "        [ 0.6018,  1.0445, -0.5415,  0.5355,  1.4569,  0.5330,  0.2956,  1.5574,\n",
            "         -0.2669, -1.4242,  1.5775,  1.0870, -0.6438, -1.5680, -1.4657,  1.3033,\n",
            "         -0.6602, -0.7102, -1.1306, -1.5143,  1.2747,  0.5494, -0.2278,  1.8629,\n",
            "         -1.8720, -0.3860,  1.0929,  1.4837,  1.2602, -1.6316, -0.4450,  0.6793],\n",
            "        [-0.4931, -0.2156, -1.0300, -1.1251,  2.3141,  0.1844,  0.0278,  1.1525,\n",
            "         -0.3218, -0.2236, -0.9952,  0.4091, -0.8533, -2.1377, -2.0955,  0.4107,\n",
            "         -0.5804, -1.6455, -1.4729, -2.6273,  1.5917, -0.3359,  2.3430,  0.6596,\n",
            "         -1.4888, -1.8436,  1.2947,  2.4997,  1.9382, -0.2631,  0.8980,  0.6717],\n",
            "        [-0.6251,  1.0291, -0.9705, -0.5551,  1.3933,  1.4241,  0.6316,  0.8137,\n",
            "         -0.1443, -0.4631,  0.1315, -0.3589, -0.3534, -1.7652, -0.1728,  0.4081,\n",
            "         -2.4594, -2.0278, -0.9450, -1.9469,  0.8574, -0.0176,  0.7410,  0.8268,\n",
            "         -0.9872, -1.0237,  1.6763,  1.2756,  1.2099, -0.8075,  1.2227,  1.8007]],\n",
            "       grad_fn=<IndexBackward>)\n"
          ],
          "name": "stdout"
        }
      ]
    },
    {
      "cell_type": "markdown",
      "metadata": {
        "id": "DVYiQRYaEh61"
      },
      "source": [
        "## Task 3. Evaluation of Non-personalised Models\n",
        "Implement the following four (non-personalised) baselines for ranking books based on their statistics:\n",
        " - Average rating, obtained from ratings_df, `ratings` column\n",
        " - Number of ratings, obtained from books_df (column `ratings_count`)\n",
        " - Number of 5* ratings, obtained from books_df (column `ratings_5`)\n",
        " - Fraction of 5* ratings, calculated from the two sources of evidence above, i.e (columns  `ratings_5` and `ratings_count`).\n",
        "\n",
        "Evaluate these in terms of MRR using the provided test data. You may use the StaticModel class below. \n",
        "\n",
        "Hints: \n",
        " - As in Exercise 2, the order of items returned by predict() is _critical_. You may wish to refer to iid_map.\n",
        " - For all models, you need to ensure that your values are not cast to ints. If you are extracting values from a Pandas series, it is advised to use [.astype(np.float32)](https://pandas.pydata.org/pandas-docs/stable/reference/api/pandas.Series.astype.html).\n"
      ]
    },
    {
      "cell_type": "code",
      "metadata": {
        "id": "Xop8aPfyFucw"
      },
      "source": [
        "class StaticModel:\n",
        "  \n",
        "  def __init__(self, staticscores):\n",
        "    self.numitems = len(staticscores)\n",
        "    #print(self.numitems)\n",
        "    assert isinstance(staticscores, np.ndarray), \"Expected a numpy array\"\n",
        "    assert staticscores.dtype == np.float32 or staticscores.dtype == np.float64, \"Expected a numpy array of floats\"\n",
        "    self.staticscores = staticscores\n",
        "  \n",
        "  def predict(self, uid):\n",
        "    #this model returns the same scores for each user    \n",
        "    return self.staticscores"
      ],
      "execution_count": 19,
      "outputs": []
    },
    {
      "cell_type": "code",
      "metadata": {
        "id": "6R1q-Zm7FVM9",
        "colab": {
          "base_uri": "https://localhost:8080/"
        },
        "outputId": "f70bfa37-95e9-4eb7-bbd1-355176149dc6"
      },
      "source": [
        "# Add your solution here\n",
        "# a # average rating\n",
        "scores_a = []\n",
        "df_a = ratings_df[['book_id', 'rating']].groupby('book_id').agg(np.mean)\n",
        "for i in range(len(df_a)):\n",
        "  scores_a.append(df_a['rating'][iid_rev_map.get(i)])\n",
        "\n",
        "model_a = StaticModel(np.array(scores_a))\n",
        "mrr_score(model_a, test_dataset, train=rating_dataset, k=100, verbose=True).mean()"
      ],
      "execution_count": 20,
      "outputs": [
        {
          "output_type": "stream",
          "text": [
            "1999it [00:00, 2091.79it/s]\n"
          ],
          "name": "stderr"
        },
        {
          "output_type": "execute_result",
          "data": {
            "text/plain": [
              "0.015052024168984034"
            ]
          },
          "metadata": {
            "tags": []
          },
          "execution_count": 20
        }
      ]
    },
    {
      "cell_type": "code",
      "metadata": {
        "colab": {
          "base_uri": "https://localhost:8080/"
        },
        "id": "V-0mMFROMxpX",
        "outputId": "1ded41ef-715c-4afd-859c-9003b2900e59"
      },
      "source": [
        "# b # number of ratings\n",
        "scores_b = []\n",
        "df_b = books_df[['book_id', 'ratings_count']].set_index('book_id')\n",
        "for i in range(len(df_b)):\n",
        "  scores_b.append(df_b['ratings_count'][iid_rev_map.get(i)])\n",
        "\n",
        "scores_b = minmax_scale(scores_b, feature_range=(0, 5))\n",
        "\n",
        "model_b = StaticModel(np.array(scores_b))\n",
        "mrr_score(model_b, test_dataset, train=rating_dataset, k=100, verbose=True).mean()"
      ],
      "execution_count": 21,
      "outputs": [
        {
          "output_type": "stream",
          "text": [
            "1999it [00:00, 2046.20it/s]\n"
          ],
          "name": "stderr"
        },
        {
          "output_type": "execute_result",
          "data": {
            "text/plain": [
              "0.2396001188245477"
            ]
          },
          "metadata": {
            "tags": []
          },
          "execution_count": 21
        }
      ]
    },
    {
      "cell_type": "code",
      "metadata": {
        "colab": {
          "base_uri": "https://localhost:8080/"
        },
        "id": "3qmg_uwiP0qd",
        "outputId": "725314f5-94ac-46d5-b084-2c6d223501a9"
      },
      "source": [
        "# c # 5* ratings\n",
        "scores_c = []\n",
        "df_c = books_df[['book_id', 'ratings_5']].set_index('book_id')\n",
        "for i in range(len(df_c)):\n",
        "  scores_c.append(df_c['ratings_5'][iid_rev_map.get(i)])\n",
        "\n",
        "scores_c = minmax_scale(scores_c, feature_range=(0, 5))\n",
        "\n",
        "model_c = StaticModel(np.array(scores_c))\n",
        "mrr_score(model_c, test_dataset, train=rating_dataset, k=100, verbose=True).mean()"
      ],
      "execution_count": 22,
      "outputs": [
        {
          "output_type": "stream",
          "text": [
            "1999it [00:00, 2119.03it/s]\n"
          ],
          "name": "stderr"
        },
        {
          "output_type": "execute_result",
          "data": {
            "text/plain": [
              "0.2409670879930144"
            ]
          },
          "metadata": {
            "tags": []
          },
          "execution_count": 22
        }
      ]
    },
    {
      "cell_type": "code",
      "metadata": {
        "colab": {
          "base_uri": "https://localhost:8080/"
        },
        "id": "j1AriKaZQS5z",
        "outputId": "4b715454-df76-4d12-bc85-e2dbe7176dec"
      },
      "source": [
        "# d # fraction of 5* ratings\n",
        "scores_d = []\n",
        "df_d = books_df[['book_id', 'ratings_count', 'ratings_5']].set_index('book_id')\n",
        "df_d['fraction'] = (df_d['ratings_5']/df_d['ratings_count'])\n",
        "for i in range(len(df_d)):\n",
        "  scores_d.append(df_d['fraction'][iid_rev_map.get(i)])\n",
        "\n",
        "scores_d = minmax_scale(scores_d, feature_range=(0, 5))\n",
        "\n",
        "model_d = StaticModel(np.array(scores_d))\n",
        "mrr_score(model_d, test_dataset, train=rating_dataset, k=100, verbose=True).mean()"
      ],
      "execution_count": 23,
      "outputs": [
        {
          "output_type": "stream",
          "text": [
            "1999it [00:00, 2089.45it/s]\n"
          ],
          "name": "stderr"
        },
        {
          "output_type": "execute_result",
          "data": {
            "text/plain": [
              "0.03415267465103555"
            ]
          },
          "metadata": {
            "tags": []
          },
          "execution_count": 23
        }
      ]
    },
    {
      "cell_type": "markdown",
      "metadata": {
        "id": "tZqRSixpGvfn"
      },
      "source": [
        "## Task 4. Qualiatively Examining Recommendations\n",
        "\n",
        "From now on, we will consider the `BPRMF` model.\n",
        "\n",
        "In Recommender Systems, the ground truth (i.e. our list of books that the user has added to their \"to_read\" shelf) can be very incomplete. For instance, this can be because the user is not aware of the book yet.\n",
        "\n",
        "For this reason, it is important to \"eyeball\" the recommendations, to understand what the system is surfacing, and whether the recommendations make sense. In this way, we understand if the recommendations are reasonable, even if they are for books that the user has not actually read according to the test dataset.\n",
        "\n",
        "First, write a function, which given a uid (int), prints the *title and authors* of:\n",
        " - (a) the books that the user has previously shelved (c.f. `toread_dataset`)\n",
        " - (b) the books that the user will read in the future (c.f. `test_dataset`)\n",
        " - (c) the top 10 books that the user were recommended by `BPRMF` - you can make use of `get_top_K()`.\n",
        "\n",
        "You can use the previously defined `getAuthorTitle()` function in your solution.\n",
        "You will also want to compare books in (c) with those in (a) and (b).\n",
        "\n",
        "Then, we will examine two specific users, namely uid 1805 (u336) and uid 179 (user u1331), to analyse if their recommendations make sense. Refer to the Task 4 quiz questions.\n"
      ]
    },
    {
      "cell_type": "code",
      "metadata": {
        "colab": {
          "base_uri": "https://localhost:8080/"
        },
        "id": "h9xujH_zXGxI",
        "outputId": "8479aff5-6bba-4ca9-941e-f4055a2e646c"
      },
      "source": [
        "mrr_score(BPRMF, test_dataset, train=rating_dataset, k=100, verbose=True)[1805]"
      ],
      "execution_count": 24,
      "outputs": [
        {
          "output_type": "stream",
          "text": [
            "1999it [00:02, 941.60it/s]\n"
          ],
          "name": "stderr"
        },
        {
          "output_type": "execute_result",
          "data": {
            "text/plain": [
              "0.05555555555555555"
            ]
          },
          "metadata": {
            "tags": []
          },
          "execution_count": 24
        }
      ]
    },
    {
      "cell_type": "code",
      "metadata": {
        "id": "Kg1eFa5GYv5c"
      },
      "source": [
        "# Add your solution here\n",
        "def eyeball(uid : int):\n",
        "  # previously shelved\n",
        "  print('=======================================================')\n",
        "  print('Books that user uid %d has previously shelved:' % (uid))\n",
        "  print('=======================================================')\n",
        "  for i in range(len(toread_dataset)):\n",
        "    if toread_dataset.user_ids[i] == uid:\n",
        "      print(getAuthorTitle(toread_dataset.item_ids[i]))\n",
        "\n",
        "  # to read in the future\n",
        "  print('=======================================================')\n",
        "  print('Books that user uid %d will read in the future:' % (uid))\n",
        "  print('=======================================================')\n",
        "  for i in range(len(test_dataset)):\n",
        "    if test_dataset.user_ids[i] == uid:\n",
        "      print(getAuthorTitle(test_dataset.item_ids[i]))\n",
        "\n",
        "  # top 10 by BPRMF\n",
        "  print('=======================================================')\n",
        "  print('Top 10 books that user uid %d gets from BPRMF:' % (uid))\n",
        "  print('=======================================================')\n",
        "  iids, scores, embs = get_top_K(BPRMF, uid, 10)\n",
        "  for i in range(len(iids)):\n",
        "    print(getAuthorTitle(iids[i]))\n",
        "\n",
        "  print('=======================================================')\n"
      ],
      "execution_count": 25,
      "outputs": []
    },
    {
      "cell_type": "code",
      "metadata": {
        "colab": {
          "base_uri": "https://localhost:8080/"
        },
        "id": "OQtjACvGVeM-",
        "outputId": "830467e3-546d-4e30-940f-5764f2e1d079"
      },
      "source": [
        "eyeball(1805)"
      ],
      "execution_count": 26,
      "outputs": [
        {
          "output_type": "stream",
          "text": [
            "=======================================================\n",
            "Books that user uid 1805 has previously shelved:\n",
            "=======================================================\n",
            "Stieg Larsson, Reg Keeland / The Girl Who Kicked the Hornet's Nest (Millennium, #3)\n",
            "Suzanne Collins / Mockingjay (The Hunger Games, #3)\n",
            "Dennis Lehane / Shutter Island\n",
            "Suzanne Collins / Catching Fire (The Hunger Games, #2)\n",
            "Paula Hawkins / The Girl on the Train\n",
            "Robert Ludlum / The Bourne Supremacy (Jason Bourne, #2)\n",
            "John Grisham / The Client\n",
            "Thomas Harris / The Silence of the Lambs  (Hannibal Lecter, #2)\n",
            "Daphne du Maurier, Sally Beauman / Rebecca\n",
            "Robert Ludlum / The Bourne Identity (Jason Bourne, #1)\n",
            "Robert Galbraith, J.K. Rowling / The Cuckoo's Calling (Cormoran Strike, #1)\n",
            "Stephen King / Misery\n",
            "Michael Crichton / Jurassic Park (Jurassic Park, #1)\n",
            "Robert Ludlum / The Bourne Ultimatum (Jason Bourne, #3)\n",
            "Stephen King, Bernie Wrightson / The Stand\n",
            "Michael Crichton / The Andromeda Strain\n",
            "Thomas Harris / Red Dragon (Hannibal Lecter, #1)\n",
            "Lee Child / Die Trying (Jack Reacher, #2)\n",
            "Lee Child / Worth Dying For (Jack Reacher, #15)\n",
            "Lee Child / Tripwire  (Jack Reacher, #3)\n",
            "Michael Crichton / Congo\n",
            "Lee Child, Dick Hill / Without Fail (Jack Reacher, #6)\n",
            "Michael Crichton / The Lost World (Jurassic Park, #2)\n",
            "Janet Evanovich / One for the Money (Stephanie Plum, #1)\n",
            "Tom Clancy / Patriot Games (Jack Ryan Universe, #2)\n",
            "Lee Child / Running Blind (Jack Reacher, #4)\n",
            "Ken Follett / Eye of the Needle\n",
            "Michael Crichton / State of Fear\n",
            "Scott Turow / Presumed Innocent\n",
            "Harlan Coben / Tell No One\n",
            "=======================================================\n",
            "Books that user uid 1805 will read in the future:\n",
            "=======================================================\n",
            "John Grisham / The Pelican Brief\n",
            "Stieg Larsson, Reg Keeland / The Girl Who Played with Fire (Millennium, #2)\n",
            "Gillian Flynn / Gone Girl\n",
            "Tom Clancy / The Hunt for Red October (Jack Ryan Universe, #4)\n",
            "Chuck Palahniuk / Fight Club\n",
            "Umberto Eco, William Weaver, Seán Barrett / The Name of the Rose\n",
            "John Grisham / The Runaway Jury\n",
            "Thomas Harris / Hannibal (Hannibal Lecter, #3)\n",
            "Lee Child / The Affair (Jack Reacher, #16)\n",
            "John Grisham / The Firm (Penguin Readers, Level 5)\n",
            "Lee Child / Killing Floor (Jack Reacher, #1)\n",
            "John Grisham / A Time to Kill\n",
            "Stephen King / The Shining (The Shining #1)\n",
            "Michael Crichton / Timeline\n",
            "Michael Crichton / Prey\n",
            "Jeffery Deaver / The Bone Collector (Lincoln Rhyme, #1)\n",
            "=======================================================\n",
            "Top 10 books that user uid 1805 gets from BPRMF:\n",
            "=======================================================\n",
            "Suzanne Collins / The Hunger Games (The Hunger Games, #1)\n",
            "Dan Brown / The Da Vinci Code (Robert Langdon, #2)\n",
            "Dan Brown / The Lost Symbol (Robert Langdon, #3)\n",
            "Michael Crichton / Disclosure\n",
            "George R.R. Martin / A Clash of Kings  (A Song of Ice and Fire, #2)\n",
            "Dan Brown / Angels & Demons  (Robert Langdon, #1)\n",
            "John Grisham / The Broker\n",
            "Khaled Hosseini / The Kite Runner\n",
            "George R.R. Martin / A Game of Thrones (A Song of Ice and Fire, #1)\n",
            "Suzanne Collins / Mockingjay (The Hunger Games, #3)\n",
            "=======================================================\n"
          ],
          "name": "stdout"
        }
      ]
    },
    {
      "cell_type": "code",
      "metadata": {
        "colab": {
          "base_uri": "https://localhost:8080/"
        },
        "id": "Zb5FshjNW4id",
        "outputId": "34ebcb9d-1e65-4681-e786-8453cc6cc131"
      },
      "source": [
        "eyeball(179)"
      ],
      "execution_count": 27,
      "outputs": [
        {
          "output_type": "stream",
          "text": [
            "=======================================================\n",
            "Books that user uid 179 has previously shelved:\n",
            "=======================================================\n",
            "Dan Brown / Angels & Demons  (Robert Langdon, #1)\n",
            "Suzanne Collins / The Hunger Games (The Hunger Games, #1)\n",
            "Antoine de Saint-Exupéry, Richard Howard, Dom Marcos Barbosa, Melina Karakosta / The Little Prince\n",
            "Truman Capote / Breakfast at Tiffany's\n",
            "Dan Brown / The Da Vinci Code (Robert Langdon, #2)\n",
            "Laura Ingalls Wilder, Garth Williams / Little House on the Prairie (Little House, #2)\n",
            "Milan Kundera, Michael Henry Heim / The Unbearable Lightness of Being\n",
            "Suzanne Collins / Catching Fire (The Hunger Games, #2)\n",
            "John Grisham / The Client\n",
            "J.R.R. Tolkien / The Lord of the Rings (The Lord of the Rings, #1-3)\n",
            "J.R.R. Tolkien / The Hobbit\n",
            "Margaret Mitchell / Gone with the Wind\n",
            "Neil Gaiman / Stardust\n",
            "Laura Ingalls Wilder, Garth Williams / Little House in the Big Woods (Little House, #1)\n",
            "Pearl S. Buck / The Good Earth (House of Earth, #1)\n",
            "Dan Brown / Digital Fortress\n",
            "Daniel Keyes / Flowers for Algernon\n",
            "Neil Gaiman / Coraline\n",
            "Dan Brown / Deception Point\n",
            "John Grisham / The Broker\n",
            "John Grisham / The Brethren\n",
            "Agatha Christie / Murder on the Orient Express (Hercule Poirot, #10)\n",
            "John Grisham / The King of Torts\n",
            "Flora Rheta Schreiber / Sybil: The Classic True Story of a Woman Possessed by Sixteen Personalities\n",
            "John Grisham / The Street Lawyer\n",
            "John Grisham / The Partner\n",
            "Anthony Bourdain / Kitchen Confidential: Adventures in the Culinary Underbelly\n",
            "John Grisham / The Rainmaker\n",
            "Astrid Lindgren, Lauren Child, Florence Lamborn, Nancy Seligsohn / Pippi Longstocking\n",
            "Sidney Sheldon / If Tomorrow Comes (Tracy Whitney Series, #1)\n",
            "=======================================================\n",
            "Books that user uid 179 will read in the future:\n",
            "=======================================================\n",
            "Suzanne Collins / Mockingjay (The Hunger Games, #3)\n",
            "J.K. Rowling, Mary GrandPré / Harry Potter and the Deathly Hallows (Harry Potter, #7)\n",
            "Agatha Christie, Ροζίτα Σώκου / The Mysterious Affair at Styles (Hercule Poirot, #1)\n",
            "John Grisham / The Testament\n",
            "John Grisham / The Innocent Man: Murder and Injustice in a Small Town\n",
            "John Grisham / A Painted House\n",
            "Agatha Christie / The Man in the Brown Suit\n",
            "John Grisham / The Summons\n",
            "Paulo Coelho / The Witch Of Portobello\n",
            "Laura Ingalls Wilder, Garth Williams / Little Town on the Prairie  (Little House, #7)\n",
            "=======================================================\n",
            "Top 10 books that user uid 179 gets from BPRMF:\n",
            "=======================================================\n",
            "John Grisham / The Partner\n",
            "John Grisham / The Pelican Brief\n",
            "John Grisham / The Client\n",
            "John Grisham / The Brethren\n",
            "John Grisham / The Street Lawyer\n",
            "John Grisham / The Broker\n",
            "John Grisham / The Rainmaker\n",
            "John Grisham / The King of Torts\n",
            "J.K. Rowling, Mary GrandPré / Harry Potter and the Sorcerer's Stone (Harry Potter, #1)\n",
            "John Grisham / The Runaway Jury\n",
            "=======================================================\n"
          ],
          "name": "stdout"
        }
      ]
    },
    {
      "cell_type": "markdown",
      "metadata": {
        "id": "ES_zHeCkNBeC"
      },
      "source": [
        "# Part-C. Diversity of Recommendations\n",
        "\n",
        "This part of the exercise is concerned with diversification, as covered in Lecture 11."
      ]
    },
    {
      "cell_type": "markdown",
      "metadata": {
        "id": "pvBep-ROHWSX"
      },
      "source": [
        "## Task 5. Measuring Intra-List Diversity\n",
        "\n",
        "\n",
        "For the BPR implicit factorisation model, implement the Intra-list diversity measure (see Lecture 11) of the top 5 scored items based on their item embeddings in the `BPRMF` model. \n",
        "\n",
        "Implement your ILD as a function with the specification:\n",
        "```python\n",
        "def measure_ild(top_books : Sequence[int], K : int=5) -> float\n",
        "```\n",
        "where:\n",
        " - `top_books` is a list or a Numpy array of iids that have been returned for a particular user. For instance, it can be obtained from `get_top_K()`.\n",
        " - `K` is the number of top-ranked items to consider from `top_books`. \n",
        " - Your implementation should use the item emebddings stored in the `BPRMF` model.\n",
        "\n",
        "Calculate the ILD (with k=5). Using your code for Task 4, identify the books previously shelved and recommended for the specific users requested in the quiz, and use these to analyse the recommendations.\n",
        "\n",
        "Hints:\n",
        " - As can be seen in `get_top_K()`, item embeddings can be obtained from `BPRMF._net.item_embeddings.weight[iid]`.\n",
        " - For obtaining the cosine similarity of PyTorch tensors, use `nn.functional.cosine_similarity(, , axis=0)`.\n"
      ]
    },
    {
      "cell_type": "code",
      "metadata": {
        "id": "4n2vBwcnYuM4"
      },
      "source": [
        "# Add your solution here\n",
        "import torch.nn as nn\n",
        "\n",
        "def measure_ild(top_books : Sequence[int], K : int=5) -> float:\n",
        "  ILD = 0.0\n",
        "  \n",
        "  for i in range(K):\n",
        "    for j in range(K):\n",
        "      if i != j:\n",
        "        ILD += (1-nn.functional.cosine_similarity(\n",
        "            BPRMF._net.item_embeddings.weight[top_books[i]], \n",
        "            BPRMF._net.item_embeddings.weight[top_books[j]], \n",
        "            axis=0).item())\n",
        "\n",
        "  ILD = ILD / (K*(K-1))\n",
        "  \n",
        "  return ILD"
      ],
      "execution_count": 28,
      "outputs": []
    },
    {
      "cell_type": "code",
      "metadata": {
        "id": "J-dQw_eCqeJ6"
      },
      "source": [
        "iids_u336, scores_u336, embs_u336 = get_top_K(BPRMF, 1805, 5)\n",
        "iids_u1331, scores_u1331, embs_u1331 = get_top_K(BPRMF, 179, 5)"
      ],
      "execution_count": 29,
      "outputs": []
    },
    {
      "cell_type": "code",
      "metadata": {
        "colab": {
          "base_uri": "https://localhost:8080/"
        },
        "id": "6FBrX24Eqlb9",
        "outputId": "e3de0f20-c07e-4448-9a96-60bb487c7e39"
      },
      "source": [
        "measure_ild(iids_u336)"
      ],
      "execution_count": 30,
      "outputs": [
        {
          "output_type": "execute_result",
          "data": {
            "text/plain": [
              "0.7484898872673511"
            ]
          },
          "metadata": {
            "tags": []
          },
          "execution_count": 30
        }
      ]
    },
    {
      "cell_type": "code",
      "metadata": {
        "colab": {
          "base_uri": "https://localhost:8080/"
        },
        "id": "pOp5J9-WsdQM",
        "outputId": "dc6103c4-db51-475f-a0a2-33b58b68ab16"
      },
      "source": [
        "for i in range(len(iids_u336)):\n",
        "  print(getAuthorTitle(iids_u336[i]))"
      ],
      "execution_count": 31,
      "outputs": [
        {
          "output_type": "stream",
          "text": [
            "Suzanne Collins / The Hunger Games (The Hunger Games, #1)\n",
            "Dan Brown / The Da Vinci Code (Robert Langdon, #2)\n",
            "Dan Brown / The Lost Symbol (Robert Langdon, #3)\n",
            "Michael Crichton / Disclosure\n",
            "George R.R. Martin / A Clash of Kings  (A Song of Ice and Fire, #2)\n"
          ],
          "name": "stdout"
        }
      ]
    },
    {
      "cell_type": "code",
      "metadata": {
        "colab": {
          "base_uri": "https://localhost:8080/"
        },
        "id": "mHyaE-Jlrfpb",
        "outputId": "cfbe1d7f-11f8-49a7-fc5b-c8644002803d"
      },
      "source": [
        "measure_ild(iids_u1331)"
      ],
      "execution_count": 32,
      "outputs": [
        {
          "output_type": "execute_result",
          "data": {
            "text/plain": [
              "0.27872883677482607"
            ]
          },
          "metadata": {
            "tags": []
          },
          "execution_count": 32
        }
      ]
    },
    {
      "cell_type": "code",
      "metadata": {
        "colab": {
          "base_uri": "https://localhost:8080/"
        },
        "id": "xD9Rtxmoslbo",
        "outputId": "7fd75523-1b66-41f5-b31e-9a80fe99f413"
      },
      "source": [
        "for i in range(len(iids_u1331)):\n",
        "    print(getAuthorTitle(iids_u1331[i]))"
      ],
      "execution_count": 33,
      "outputs": [
        {
          "output_type": "stream",
          "text": [
            "John Grisham / The Partner\n",
            "John Grisham / The Pelican Brief\n",
            "John Grisham / The Client\n",
            "John Grisham / The Brethren\n",
            "John Grisham / The Street Lawyer\n"
          ],
          "name": "stdout"
        }
      ]
    },
    {
      "cell_type": "markdown",
      "metadata": {
        "id": "0qwrP1jUpARF"
      },
      "source": [
        "## Task 6. Implement MMR Diversification \n",
        "\n",
        "Develop an Maximal Marginal Relevance (**MMR**) diversification technique, to re-rank the top-ranked recommendations for a given user.\n",
        "\n",
        "Your function should adhere to the specification as follows:\n",
        "```python\n",
        "def mmr(iids : Sequence[int], scores : Sequence[float], embs : np.ndarray, alpha : float) -> Sequence[int]:\n",
        "```\n",
        "\n",
        "where iids is a list of iids, scores are their corresponding scores (in descending order), embs is their embeddings, and alpha controls the diversification tradeoff. The function returns a re-ordering of iids. As in previous Exercises, type hints are provided for clarity; a Sequence can be a list or numpy array. \n",
        "\n",
        "Hints:\n",
        " - As above, for obtaining the cosine similarity of PyTorch tensors, use nn.functional.cosine_similarity(, , axis=0).\n",
        "\n",
        "To use your `mmr()` function, provide it with the outputs of `get_top_K()`. For example, to obtain an MMR reordering of the top 10 predictions of uid 0, we can run:\n",
        "```\n",
        "mmr( *get_top_K(bprmodel, 0, 10), 0.5)\n",
        "```\n",
        "\n",
        "Thereafter, we provide test cases for your MMR implementation, which you  should report in the quiz. We also ask for the ILD values before and after the application of MMR.\n"
      ]
    },
    {
      "cell_type": "code",
      "metadata": {
        "id": "1VkEMfRvIhKV"
      },
      "source": [
        "from typing import Sequence\n",
        "def mmr(iids : Sequence[int], scores : Sequence[float], embs : np.ndarray, alpha : float) -> Sequence[int]:\n",
        "\n",
        "  assert len(iids) == len(scores)\n",
        "  assert len(iids) == embs.shape[0]\n",
        "  assert len(embs.size()) == 2\n",
        "\n",
        "  iids = np.array(iids)\n",
        "  rtr_iids = []\n",
        "  for i in range(len(iids)):\n",
        "    if len(rtr_iids) == 0:\n",
        "      rtr_iids.append(iids[np.argmax(scores)])\n",
        "    else:\n",
        "      mmrs = -np.ones(len(iids))\n",
        "      for j in range(len(iids)): \n",
        "        if iids[j] not in rtr_iids:\n",
        "          front = alpha * scores[j]\n",
        "          sims = -np.ones(len(rtr_iids))\n",
        "          for p in range(len(rtr_iids)):\n",
        "            a = np.where(iids==rtr_iids[p])[0][0]\n",
        "            sims[p] = nn.functional.cosine_similarity(embs[j], embs[a], dim=0).item()\n",
        "          back = (1-alpha) * sims.max()\n",
        "          mmrs[j] = front - back\n",
        "\n",
        "      rtr_iids.append(iids[np.argmax(mmrs)])\n",
        "  \n",
        "  #input your solution here returns a re-ordering of iids, such that the first ranked item is first in the list\n",
        "\n",
        "  return rtr_iids"
      ],
      "execution_count": 34,
      "outputs": []
    },
    {
      "cell_type": "code",
      "metadata": {
        "id": "34QWxFVTfrLM",
        "colab": {
          "base_uri": "https://localhost:8080/"
        },
        "outputId": "d32a3f87-f886-4026-e0b8-610188751197"
      },
      "source": [
        "def run_MMR_testcases(mmrfn):\n",
        "  example_embeddings1 = torch.tensor([[1.0,1.0],[1.0,1.0],[0,1.0],[0.1, 1.0]])\n",
        "  example_embeddings2 = torch.tensor([[1.0,1.0],[1.0,1.0],[0.02,1.0],[0.01,1.0]])\n",
        "  print(\"Testcase 0 : %s\" % mmrfn([1,2,3,4], [0.5, 0.5, 0.5, 0.5],  example_embeddings1, 0.5)[0] )\n",
        "  print(\"Testcase 1 : %s\" % mmrfn([1,2,3,4], [0.5, 0.5, 0.5, 0.5],  example_embeddings1, 0.5)[1] )\n",
        "  print(\"Testcase 2 : %s\" % mmrfn([1,2,3,4], [4, 3, 2, 1],  example_embeddings1, 1)[1] )\n",
        "  print(\"Testcase 3 : %s\" % mmrfn([1,2,3,4], [0.99, 0.98, 0.97, 0.001],  example_embeddings2, 0.001)[1] )\n",
        "  print(\"Testcase 4 : %s\" % mmrfn([1,2,3,4], [0.99, 0.98, 0.97, 0.001],  example_embeddings2, 0.5)[1] )\n",
        "\n",
        "run_MMR_testcases(mmr)"
      ],
      "execution_count": 35,
      "outputs": [
        {
          "output_type": "stream",
          "text": [
            "Testcase 0 : 1\n",
            "Testcase 1 : 3\n",
            "Testcase 2 : 2\n",
            "Testcase 3 : 4\n",
            "Testcase 4 : 3\n"
          ],
          "name": "stdout"
        }
      ]
    },
    {
      "cell_type": "code",
      "metadata": {
        "colab": {
          "base_uri": "https://localhost:8080/"
        },
        "id": "8QFgejT8h_Gt",
        "outputId": "99b32e79-dc3a-4368-9dbd-0666b6729b2d"
      },
      "source": [
        "mmr( *get_top_K(BPRMF, 179 , 5), 0.5)"
      ],
      "execution_count": 36,
      "outputs": [
        {
          "output_type": "execute_result",
          "data": {
            "text/plain": [
              "[89, 88, 391, 906, 92]"
            ]
          },
          "metadata": {
            "tags": []
          },
          "execution_count": 36
        }
      ]
    },
    {
      "cell_type": "markdown",
      "metadata": {
        "id": "vfm9mCWZmBPQ"
      },
      "source": [
        "Now we can analyse the impact of our MMR implementation. Let's consider again uid 179 (user u1331). \n",
        "\n",
        "Apply MMR on the top 10 results obtained from the BPRMF model using `get_top_K()`, with an alpha value of 0.5. The following code should help:\n",
        "```python\n",
        "mmr( *get_top_K(bprmodel, 179, 10), 0.5)\n",
        "```\n",
        "\n",
        "Finally, anayse the returned books. Calculate the ILD (with `k=5`), and examine the authors and titles (using `getAuthorTitle()`). \n",
        "\n",
        "Now answer the questions in Task 6 of the Moodle quiz.\n"
      ]
    },
    {
      "cell_type": "code",
      "metadata": {
        "id": "1wM7m8pOmCnM",
        "colab": {
          "base_uri": "https://localhost:8080/"
        },
        "outputId": "1eccd7d7-d6d2-4d6a-d40e-868c080017db"
      },
      "source": [
        "#add your solution here\n",
        "measure_ild(mmr( *get_top_K(BPRMF, 179, 10), 0.5), K=5)"
      ],
      "execution_count": 37,
      "outputs": [
        {
          "output_type": "execute_result",
          "data": {
            "text/plain": [
              "0.5566449973732233"
            ]
          },
          "metadata": {
            "tags": []
          },
          "execution_count": 37
        }
      ]
    },
    {
      "cell_type": "code",
      "metadata": {
        "colab": {
          "base_uri": "https://localhost:8080/"
        },
        "id": "6BHsnqyXjkeQ",
        "outputId": "72f9cd86-c345-42a5-b038-ebdb68c1e9ba"
      },
      "source": [
        "new = mmr( *get_top_K(BPRMF, 179, 10), 0.5)[:5]\n",
        "for i in range(len(new)):\n",
        "    print(getAuthorTitle(new[i]))"
      ],
      "execution_count": 38,
      "outputs": [
        {
          "output_type": "stream",
          "text": [
            "John Grisham / The Partner\n",
            "J.K. Rowling, Mary GrandPré / Harry Potter and the Sorcerer's Stone (Harry Potter, #1)\n",
            "John Grisham / The Street Lawyer\n",
            "John Grisham / The Pelican Brief\n",
            "John Grisham / The Brethren\n"
          ],
          "name": "stdout"
        }
      ]
    },
    {
      "cell_type": "code",
      "metadata": {
        "colab": {
          "base_uri": "https://localhost:8080/"
        },
        "id": "UZB2WnCtkF1Z",
        "outputId": "be3c2d30-5c9b-497a-ef36-a23741e9b640"
      },
      "source": [
        "new[1]"
      ],
      "execution_count": 39,
      "outputs": [
        {
          "output_type": "execute_result",
          "data": {
            "text/plain": [
              "9"
            ]
          },
          "metadata": {
            "tags": []
          },
          "execution_count": 39
        }
      ]
    },
    {
      "cell_type": "markdown",
      "metadata": {
        "id": "49QoGVphnegD"
      },
      "source": [
        "# Task 7\n",
        "\n",
        "This task is not a practical task - instead there are questions that tests your understanding of some related content of the course in the quiz."
      ]
    },
    {
      "cell_type": "markdown",
      "metadata": {
        "id": "F8N-fEdkMKLD"
      },
      "source": [
        "# End of Exercise\n",
        "\n",
        "As part of your submission, you should complete the Exercise 3 quiz on Moodle.\n",
        "You will need to upload your notebook, complete with the **results** of executing the code."
      ]
    }
  ]
}