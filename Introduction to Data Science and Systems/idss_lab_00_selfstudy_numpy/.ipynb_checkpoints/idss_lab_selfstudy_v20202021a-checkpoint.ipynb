{
 "cells": [
  {
   "cell_type": "markdown",
   "metadata": {
    "deletable": false,
    "editable": false,
    "nbgrader": {
     "checksum": "09ae7fe2234d7a8f619367c3a0f71d37",
     "grade": false,
     "grade_id": "cell-39bdb4ff5682917b",
     "locked": true,
     "schema_version": 1,
     "solution": false
    }
   },
   "source": [
    "----\n",
    "# Introduction to Data Science and Systems 2020-2021\n",
    "\n",
    "## Lab: Introduction to Jupyter, Python and Numpy [unassessed]\n",
    "University of Glasgow\n",
    "\n",
    "v20202021a\n",
    "\n"
   ]
  },
  {
   "cell_type": "markdown",
   "metadata": {
    "deletable": false,
    "editable": false,
    "nbgrader": {
     "checksum": "af037b0dc82cbb4246f6a29612cef806",
     "grade": false,
     "grade_id": "cell-d73045ad6d1688d2",
     "locked": true,
     "schema_version": 1,
     "solution": false
    }
   },
   "source": [
    "----"
   ]
  },
  {
   "cell_type": "markdown",
   "metadata": {
    "deletable": false,
    "editable": false,
    "nbgrader": {
     "checksum": "5c3f8f248e5d1863bfb025c24b818b60",
     "grade": false,
     "grade_id": "cell-a8b77a59ceecd309",
     "locked": true,
     "schema_version": 1,
     "solution": false
    }
   },
   "source": [
    "## Purpose of this lab\n",
    "\n",
    "This lab is intended to introduce you to the basic use of the Juypter+Python+Numpy environment, and show how the autograding in exercises works.\n",
    "\n",
    "If/when you complete this exercise, you will submit it on Moodle along with a pdf (see instructions at the bottom of the notebook). You will get a mark, but this **will not count towards your final grade**. \n",
    "\n",
    "It is strongly recommended that you complete this exercise fully. This will take around two hours if you already know some NumPy.\n",
    "\n",
    "\n",
    "## Guide\n",
    "\n",
    "#### Outline\n",
    "\n",
    "* Using Jupyter\n",
    "* A quick NumPy tutorial\n",
    "* NumPy questions\n",
    "\n",
    "#### Jupyter\n",
    "If you have not used Jupyter before [jump to the Jupyter Quickstart](guides/JupyterGuide.ipynb) before continuing. \n",
    "\n",
    "#### Material and resources \n",
    "- It is recommended to keep the relevant material while doing this lab exercise. \n",
    "- If you are stuck, the following resources are very helpful:\n",
    " * [NumPy cheatsheet](https://github.com/juliangaal/python-cheat-sheet/blob/master/NumPy/NumPy.md)\n",
    " * [NumPy API reference](https://docs.scipy.org/doc/numpy-1.13.0/reference/)\n",
    " * [NumPy user guide](https://docs.scipy.org/doc/numpy-1.13.0/user/basics.html)\n",
    "\n",
    "#### Marking and Feedback\n",
    "This is a test exercise, but the assessed labs are marked using three different techniques;\n",
    "\n",
    "- Autograded with feedback; you'll get immediate feedback.\n",
    "- Autograded without (immediate) feedback (there will always be a small demo/test so you can be confident that the format of your answer is correct).\n",
    "- Manually graded (by an actual human). This type of question generates a pdf file that must be uploaded to Moodle alongside the notebook. \n",
    "\n",
    "This test exercise only contains \"Autograded with feedback\" type questions and a trivial manual question (your name) printed to a pdf.\n",
    "\n",
    "*Note*: auto-graded results are always provisional and subject to change in case there are significant issues (this will usually be in favour of the student).\n",
    "\n",
    "#### Help \\& Assistance\n",
    "- This lab is graded and the lab assistants/lecturer can provide guidance, but we can (and will) not give you the final answer or confirm your result.\n",
    "\n",
    "#### Plagiarism\n",
    "- All submissions (including the code) will be automatically compared against each other to make sure your submission represents an independent piece of work!                            "
   ]
  },
  {
   "cell_type": "markdown",
   "metadata": {
    "deletable": false,
    "editable": false,
    "nbgrader": {
     "checksum": "0f03fd09b1b382699cdcc29fb5cb06ae",
     "grade": false,
     "grade_id": "cell-e124875a197e163f",
     "locked": true,
     "schema_version": 1,
     "solution": false
    }
   },
   "source": [
    "## Before you start"
   ]
  },
  {
   "cell_type": "markdown",
   "metadata": {
    "deletable": false,
    "editable": false,
    "nbgrader": {
     "checksum": "5d4d54c4f3e2232a01667f29282455d3",
     "grade": false,
     "grade_id": "cell-f81a50427f25628d",
     "locked": true,
     "schema_version": 1,
     "solution": false
    }
   },
   "source": [
    "Let's import the basics... "
   ]
  },
  {
   "cell_type": "code",
   "execution_count": null,
   "metadata": {},
   "outputs": [],
   "source": [
    "# Make sure you run this cell!\n",
    "\n",
    "from utils.tick import reset_marks, summarise_marks, marks\n",
    "from utils.checkarr import array_hash, check_hash # tools we use for checing your answer\n",
    "import numpy as np  # NumPy\n",
    "from utils.matrices import print_matrix, show_boxed_tensor_latex\n",
    "from uuid import getnode as get_mac\n",
    "import os\n",
    "import sys\n",
    "import binascii # you can ignore this\n",
    "\n",
    "# Set up Matplotlib\n",
    "import matplotlib as mpl   \n",
    "import matplotlib.pyplot as plt\n",
    "%matplotlib inline\n",
    "\n",
    "import utils.image_audio as ia\n",
    "\n",
    "reset_marks()\n",
    "\n",
    "# The follwing command generaties a unique key for your system/computer/account\n",
    "# special hash funciton\n",
    "def case_crc(s, verbose=True):\n",
    "    h_crc = binascii.crc32(bytes(s.lower(), 'ascii'))\n",
    "    if verbose:\n",
    "        print(h_crc)\n",
    "    return h_crc\n",
    "uuid_simple = ((\"%s\") % get_mac())\n",
    "uuid_str = (\"%s\\n%s\\n%s\\n%s\\n%s\\n\") % (os.path,sys.path,sys.version,sys.version_info,get_mac())\n",
    "uuid_system = case_crc(uuid_str,verbose=False) \n",
    "\n",
    "print(\"Everything imported OK (it is ok to get a warning)\")"
   ]
  },
  {
   "cell_type": "markdown",
   "metadata": {
    "deletable": false,
    "editable": false,
    "nbgrader": {
     "checksum": "8061d74036a156dacd24cf92738a4ba1",
     "grade": false,
     "grade_id": "cell-43f1c664c0a110cf",
     "locked": true,
     "schema_version": 1,
     "solution": false
    }
   },
   "source": [
    "**Mini-task**: provide your personal details in two variables:\n",
    "\n",
    "* `student_id` : a string containing your student id (e.g. \"1234567x\"), must be 8 chars long.\n",
    "* `student_typewritten_signature`: a string with your name (e.g. \"Adam Smith\") which serves as a declaration that this is your own work (read the declaration of originality when you submit on Moodle).\n",
    "\n",
    "\n",
    "***Hint*** You need to update a cell (possibly multiple lines) when you see \"YOUR CODE HERE\" and remove the `raise NotImplementedError()` line when you provide an answer.\n"
   ]
  },
  {
   "cell_type": "code",
   "execution_count": null,
   "metadata": {
    "deletable": false,
    "nbgrader": {
     "checksum": "d8fb82062dcefc0fd9a177d4051022da",
     "grade": false,
     "grade_id": "cell-183f60ff4ca3c8b3",
     "locked": false,
     "schema_version": 1,
     "solution": true
    }
   },
   "outputs": [],
   "source": [
    "student_id = \"\" # your 8 char student id\n",
    "student_typewritten_signature = \"\" # your full name, avoid spceical chars if possible\n",
    "\n",
    "# YOUR CODE HERE\n",
    "raise NotImplementedError()"
   ]
  },
  {
   "cell_type": "code",
   "execution_count": null,
   "metadata": {
    "deletable": false,
    "editable": false,
    "nbgrader": {
     "checksum": "3881568d76a41c09870176632952f9d6",
     "grade": true,
     "grade_id": "cell-ceb0e26df98bc24e",
     "locked": true,
     "points": 0,
     "schema_version": 1,
     "solution": false
    }
   },
   "outputs": [],
   "source": [
    "## We will print your info to a pdf file at the end of the notebook - \n",
    "# including the Declaration of Originality - which must be uploaded alongside \n",
    "# the actual notebook. You should also see two green \"v [0 marks] \n",
    "# indicating that your info meet the basic std.\n",
    "\n",
    "with marks(0): # you don't get any credit for remembering your student id. This is just a test!\n",
    "    assert(len(student_id)==8)\n",
    "\n",
    "with marks(0):  # you don't get any credit for remembering your own name! This is just a test!\n",
    "    assert(len(student_typewritten_signature)>0)"
   ]
  },
  {
   "cell_type": "markdown",
   "metadata": {
    "deletable": false,
    "editable": false,
    "nbgrader": {
     "checksum": "6e458a5b2fa86b4a005cee299ca6e5fd",
     "grade": false,
     "grade_id": "cell-d6ac40f3b524e78d",
     "locked": true,
     "schema_version": 1,
     "solution": false
    }
   },
   "source": [
    "## 1: Autograder tests\n",
    "\n",
    "Lab exercises will (mainly) be autograded via automatic tests."
   ]
  },
  {
   "cell_type": "markdown",
   "metadata": {
    "deletable": false,
    "editable": false,
    "nbgrader": {
     "checksum": "6c9d0e6354d1ac1414a456069cd2417d",
     "grade": false,
     "grade_id": "cell-d56d61861528c7bb",
     "locked": true,
     "schema_version": 1,
     "solution": false
    }
   },
   "source": [
    "The following parts have some questions to answer, and some tests (which you cannot alter) which will be run against the code you have written. If the tests pass, you will see how many marks you got with a green tick. If they do not pass, you will see a red cross. Remember, this exercise doesn't count for anything, but do try to complete the exercises."
   ]
  },
  {
   "cell_type": "markdown",
   "metadata": {},
   "source": [
    "Here's a free 5 marks:"
   ]
  },
  {
   "cell_type": "code",
   "execution_count": null,
   "metadata": {
    "deletable": false,
    "editable": false,
    "nbgrader": {
     "checksum": "984c4121ff025684d5f5e6d391509a03",
     "grade": true,
     "grade_id": "cell-b12d0a22c191c138",
     "locked": true,
     "points": 5,
     "schema_version": 1,
     "solution": false
    }
   },
   "outputs": [],
   "source": [
    "with marks(5):\n",
    "    print(\"Hello world\")"
   ]
  },
  {
   "cell_type": "markdown",
   "metadata": {},
   "source": [
    "And here's what happens when you have an error. Try setting `a` to 1, remove the `raise NotImplementedError()` line, and making sure you can get this to pass. "
   ]
  },
  {
   "cell_type": "code",
   "execution_count": null,
   "metadata": {
    "deletable": false,
    "nbgrader": {
     "checksum": "55053617ecc4a89c5d2dd4a3c4f236ac",
     "grade": false,
     "grade_id": "cell-3040ccf7669e107d",
     "locked": false,
     "schema_version": 1,
     "solution": true
    }
   },
   "outputs": [],
   "source": [
    "a = 2\n",
    "# YOUR CODE HERE\n",
    "raise NotImplementedError()"
   ]
  },
  {
   "cell_type": "code",
   "execution_count": null,
   "metadata": {
    "deletable": false,
    "editable": false,
    "nbgrader": {
     "checksum": "55996dbcf3a6717785207e8a6d4e6087",
     "grade": true,
     "grade_id": "cell-221df43d91c7b63b",
     "locked": true,
     "points": 5,
     "schema_version": 1,
     "solution": false
    }
   },
   "outputs": [],
   "source": [
    "with marks(5):\n",
    "    assert(a==1)"
   ]
  },
  {
   "cell_type": "markdown",
   "metadata": {},
   "source": [
    "----------------\n",
    "\n",
    "----------------"
   ]
  },
  {
   "cell_type": "markdown",
   "metadata": {},
   "source": [
    "# 2. Introduction to NumPy\n",
    "\n",
    "We will be using [numpy](numpy.org) as the basis for our numerical operations. This provides a datatype called `ndarray`, that can be used to store and manipulate arrays of numbers."
   ]
  },
  {
   "cell_type": "markdown",
   "metadata": {},
   "source": [
    "## NumPy worked example\n",
    "If you have not used NumPy before or if you are rusty [then work through the example before starting](guides/numpy_example.ipynb)\n",
    "\n",
    "---"
   ]
  },
  {
   "cell_type": "markdown",
   "metadata": {},
   "source": [
    "## References and cheat sheets\n",
    "\n",
    "If you are stuck, the following resources are very helpful:\n",
    "\n",
    "### Cheatsheets\n",
    "* [NumPy cheatsheet](https://github.com/juliangaal/python-cheat-sheet/blob/master/NumPy/NumPy.md)\n",
    "* [Python for Data Science cheatsheet](https://s3.amazonaws.com/assets.datacamp.com/blog_assets/PythonForDataScience.pdf)\n",
    "* [Another NumPy Cheatsheet](https://s3.amazonaws.com/assets.datacamp.com/blog_assets/Numpy_Python_Cheat_Sheet.pdf)\n",
    "\n",
    "### API reference and user guide\n",
    "* [NumPy API reference](https://docs.scipy.org/doc/numpy-1.13.0/reference/)\n",
    "* [NumPy user guide](https://docs.scipy.org/doc/numpy-1.13.0/user/basics.html)\n",
    "\n",
    "### Tutorials\n",
    "You don't need to read these, but if you get stuck or want to go further in depth, the following online resources are helpful for getting familiar with scientific processing in Python:\n",
    "* JR Johansson's scientific python notes: [JRJohansson](https://github.com/jrjohansson/scientific-python-lectures)\n",
    "* Scientific packages are well covered in this article: [SciPy lectures](https://scipy-lectures.github.io/)\n",
    "* A useful [Stanford course](http://web.stanford.edu/~arbenson/cme193.html) on scientific python\n",
    "\n",
    "---\n",
    "\n",
    "\n"
   ]
  },
  {
   "cell_type": "markdown",
   "metadata": {
    "deletable": false,
    "editable": false,
    "nbgrader": {
     "checksum": "b52395a3fa89b32bee1872d0f0eae293",
     "grade": false,
     "grade_id": "cell-4082d01ae4cfa428",
     "locked": true,
     "schema_version": 1,
     "solution": false
    }
   },
   "source": [
    "## Purpose of this lab\n",
    "This lab should help you:\n",
    "* create simple arrays\n",
    "* index and slice arrays\n",
    "* stack arrays together\n",
    "* compute simple statistics of arrays\n",
    "* understand array arithmetic and broadcasting rules\n",
    "* apply conditions to arrays and use Boolean indexing"
   ]
  },
  {
   "cell_type": "markdown",
   "metadata": {
    "deletable": false,
    "editable": false,
    "nbgrader": {
     "checksum": "eca6e9a042d4f9f55d1f68f200b8f1b1",
     "grade": false,
     "grade_id": "cell-9a554a5f5a166130",
     "locked": true,
     "schema_version": 1,
     "solution": false
    }
   },
   "source": [
    "-----\n",
    "# NumPy\n",
    "\n",
    "The foundation package for numerical operations is **NumPy** which provides an array type and accelerated operations on it. \n",
    "\n",
    "A very important part of using numerical libraries like numpy is **vectorising operations**: avoiding explicit loops over values in the arrays and instead using library functions to do manipulations. It is *massively* faster to have numpy add to arrays together than to iterate over the elements adding them together in Python."
   ]
  },
  {
   "cell_type": "code",
   "execution_count": null,
   "metadata": {
    "lines_to_next_cell": 2
   },
   "outputs": [],
   "source": [
    "a = np.zeros((5,5))\n",
    "b = np.ones((5,5))\n",
    "y = np.zeros((5,5))\n",
    "\n",
    "# YES: do things like this\n",
    "# a and b are NumPy arrays\n",
    "x = a + b\n",
    "\n",
    "# NO: don't do this\n",
    "# this is very inefficient\n",
    "for i in range(a.shape[0]):\n",
    "    for j in range(a.shape[1]):\n",
    "        y[i,j] = a[i,j] + b[i,j]"
   ]
  },
  {
   "cell_type": "markdown",
   "metadata": {
    "deletable": false,
    "editable": false,
    "nbgrader": {
     "checksum": "18803161fe5104ecd58c4e9f8102dadf",
     "grade": false,
     "grade_id": "cell-9b5fee1abd1bf3e9",
     "locked": true,
     "schema_version": 1,
     "solution": false
    }
   },
   "source": [
    "## No for loops (unless specified)\n",
    "In this lab **do not** use explicit loops, like `while` or `for`, unless the question explicitly asks you to. In future labs you may need to use the occasional `for` loop, but try and avoid them where possible."
   ]
  },
  {
   "cell_type": "markdown",
   "metadata": {
    "deletable": false,
    "editable": false,
    "nbgrader": {
     "checksum": "e3a7f3141f613cc9b1953f851b7c3080",
     "grade": false,
     "grade_id": "cell-8d78a4978e1a81cb",
     "locked": true,
     "schema_version": 1,
     "solution": false
    }
   },
   "source": [
    "NumPy provides the **np.array** class which is a n-dimensional array of numbers **of the same type**. Arrays can be created in several ways: from a Python list (and nD arrays from nested lists), as a \"blank\" matrix of zeros or ones or random data, by copying existing arrays, loaded from disk or from certain special functions.\n",
    "\n",
    "**You can always make a copy of an array using np.array() on an existing array** (e.g. `x = np.array(y)` makes a new **copy** of y). `np.array()` will also convert any iterable object (lists, tuples) into an array if it can. Note that a few operations will *change arrays in place*, and most will *return new copies*."
   ]
  },
  {
   "cell_type": "code",
   "execution_count": null,
   "metadata": {},
   "outputs": [],
   "source": [
    "x = np.array([1.0,2.0,3.0,4.0]) # create an array from a list\n",
    "print(x) # print the array\n",
    "\n",
    "# print the matrix, but nicer (note: the first string is a LaTeX expression)\n",
    "print_matrix(\"x\", x) \n",
    "\n",
    "print(x.dtype)  # datatype\n",
    "print(x.shape)  # shape of array"
   ]
  },
  {
   "cell_type": "markdown",
   "metadata": {
    "deletable": false,
    "editable": false,
    "nbgrader": {
     "checksum": "c9cc45851cef3b1ea1e9955d1a12bdfd",
     "grade": false,
     "grade_id": "cell-b4b42bec472817ec",
     "locked": true,
     "schema_version": 1,
     "solution": false
    }
   },
   "source": [
    "# 3: Create some arrays\n",
    "Create the following arrays, with the following specifications:\n",
    "(**don't** use `np.array` to do this). If you don't know how to do this,\n",
    "look at the worked example, or look at the cheatsheet or API reference.\n",
    "\n",
    "Use `np.zeros`, `np.ones`, `np.full`, `np.arange` and `np.random.normal` to solve these questions.\n",
    "\n",
    "* `x`: a 8 x 8 matrix of all ones\n",
    "* `y`: a 2 element vector, with all elements equal to np.pi\n",
    "* `z`: a 1 x 2 x 5 element array of all ones.\n",
    "* `q`: an 1D array with 10 elements, from 0-18 (inclusive), stepping by 2. \n",
    "* `r`: an 400 element array, random numbers normally distributed with mean 0, std. dev. 1.0 **(don't print this one out)**\n",
    "\n",
    "Print out your arrays using `print_matrix` (for 1D and 2D matrices) or np.shape to see if they look right.\n",
    "\n",
    "Check that the tests pass. "
   ]
  },
  {
   "cell_type": "code",
   "execution_count": null,
   "metadata": {
    "deletable": false,
    "nbgrader": {
     "checksum": "7b9ec3ec079cde2669a9d433dcf7d2fc",
     "grade": false,
     "grade_id": "cell-c190eec8e4831a17",
     "locked": false,
     "schema_version": 1,
     "solution": true
    }
   },
   "outputs": [],
   "source": [
    "# YOUR CODE HERE\n",
    "raise NotImplementedError()"
   ]
  },
  {
   "cell_type": "code",
   "execution_count": null,
   "metadata": {
    "deletable": false,
    "editable": false,
    "nbgrader": {
     "checksum": "48f4434cc09e66dadb2fd0e4c739659e",
     "grade": true,
     "grade_id": "cell-7a8e23b3cc2d7bea",
     "locked": true,
     "points": 2,
     "schema_version": 1,
     "solution": false
    }
   },
   "outputs": [],
   "source": [
    "with marks(2):\n",
    "    assert(check_hash(x,((8, 8), 0.0)))"
   ]
  },
  {
   "cell_type": "code",
   "execution_count": null,
   "metadata": {
    "deletable": false,
    "editable": false,
    "nbgrader": {
     "checksum": "db6d69b1a6e505b6ffdb0c9d6d1295d2",
     "grade": true,
     "grade_id": "cell-3eccab087d4c343c",
     "locked": true,
     "points": 1,
     "schema_version": 1,
     "solution": false
    }
   },
   "outputs": [],
   "source": [
    "with marks(1):\n",
    "    assert(check_hash(y, ((2,),  21.991148575128552)))"
   ]
  },
  {
   "cell_type": "code",
   "execution_count": null,
   "metadata": {
    "deletable": false,
    "editable": false,
    "nbgrader": {
     "checksum": "295ca3b0343ebfe6025dc1ed6b56c6ff",
     "grade": true,
     "grade_id": "cell-c3cd5694245364b2",
     "locked": true,
     "points": 1,
     "schema_version": 1,
     "solution": false
    }
   },
   "outputs": [],
   "source": [
    "with marks(1):\n",
    "    assert(check_hash(z, ((1, 2, 5), 59.0)))"
   ]
  },
  {
   "cell_type": "code",
   "execution_count": null,
   "metadata": {
    "deletable": false,
    "editable": false,
    "nbgrader": {
     "checksum": "81471ce90849af53865b260129e80657",
     "grade": true,
     "grade_id": "cell-f6fd4fc0f0e04fba",
     "locked": true,
     "points": 1,
     "schema_version": 1,
     "solution": false
    }
   },
   "outputs": [],
   "source": [
    "with marks(1):\n",
    "    assert(check_hash(q,((10,), 701.744562646538)))"
   ]
  },
  {
   "cell_type": "code",
   "execution_count": null,
   "metadata": {
    "deletable": false,
    "editable": false,
    "nbgrader": {
     "checksum": "24ce545cbd4b6184ef6c42da937859ac",
     "grade": true,
     "grade_id": "cell-8bc8bfb07bb942f3",
     "locked": true,
     "points": 1,
     "schema_version": 1,
     "solution": false
    }
   },
   "outputs": [],
   "source": [
    "with marks(1):\n",
    "    assert(r.shape==(400,)  and np.std(r)>0.75 and np.std(r)<1.5 and np.all(np.diff(r.ravel())!=0.0))"
   ]
  },
  {
   "cell_type": "markdown",
   "metadata": {},
   "source": [
    "## 4: How to keep snails alive\n",
    "\n",
    "<img src=\"imgs/snails.jpg\">*[[Image](https://flickr.com/photos/chodhound/6083328289 \"Snail\") by [ChodHound](https://flickr.com/people/chodhound) license [CC BY-SA](https://creativecommons.org/licenses/by-sa/2.0/)]*\n",
    "\n",
    "Scientists at the Zoology Department, The University of Adelaide have studied the best conditions to keep snails alive. They have recorded a dataset of observations of snail mortality under controlled conditions. This data set is in the file `data/snails.txt`.\n",
    "\n",
    "#### An excerpt from the data set description\n",
    ">Groups of 20 snails were held for periods of 1, 2, 3 or 4 weeks in carefully\n",
    "controlled conditions of temperature and relative humidity. There were two\n",
    "species of snail, 0 and 1. At the end of the exposure time the snails\n",
    "were tested to see if they had survived. \n",
    "\n",
    ">The data are unusual in that in most cases fatalities during the experiment\n",
    "were fairly small. [lucky snails!]\n",
    "\n",
    "### The task\n",
    "The data is a 2D array, and has six columns, with these definitions:\n",
    "\n",
    "     species(binary) exposure(weeks) humidity(%) temperature(deg. C) n_deaths n_snails\n",
    "    \n",
    "Each row represents one set of observations (i.e. one group of snails). You are to compute some basic properties of this data. Use NumPy operations to do the computations."
   ]
  },
  {
   "cell_type": "markdown",
   "metadata": {},
   "source": [
    "A. **Loading arrays** \n",
    "* Load this data as a NumPy array called `snails`. Note: use NumPy functions to do this! **Do not parse the file yourself** The file is space delimited.\n",
    "* Print it out. Use this format to print out the results:\n",
    "    \n",
    "      print(\"snails\\n\", snails)"
   ]
  },
  {
   "cell_type": "code",
   "execution_count": null,
   "metadata": {
    "deletable": false,
    "nbgrader": {
     "checksum": "df92211975c9355c3f228ab33b14b463",
     "grade": false,
     "grade_id": "cell-6d0228523852fbcb",
     "locked": false,
     "schema_version": 1,
     "solution": true
    }
   },
   "outputs": [],
   "source": [
    "# YOUR CODE HERE\n",
    "raise NotImplementedError()"
   ]
  },
  {
   "cell_type": "code",
   "execution_count": null,
   "metadata": {
    "deletable": false,
    "editable": false,
    "nbgrader": {
     "checksum": "eca38f27b22488c9e0bc8557fe2b37a3",
     "grade": true,
     "grade_id": "cell-d7f4d07872174036",
     "locked": true,
     "points": 4,
     "schema_version": 1,
     "solution": false
    }
   },
   "outputs": [],
   "source": [
    "with marks(4):\n",
    "    assert(check_hash(snails, ((96, 6), 3082003.4024073719)))"
   ]
  },
  {
   "cell_type": "markdown",
   "metadata": {},
   "source": [
    "B. **Basic indexing** \n",
    "Compute the following results, storing the results in the variable specified and printing them out. Use the same printing format as A.\n",
    "\n",
    "* `hum_last` the humidity in the last entry in the table.\n",
    "* `temp_first` the temperature in the first entry in the table. \n",
    "* `weeks` the whole column of \"weeks exposure\".\n",
    "* `row_third` the third row of observations. (remember 0 indexing)\n"
   ]
  },
  {
   "cell_type": "code",
   "execution_count": null,
   "metadata": {
    "deletable": false,
    "nbgrader": {
     "checksum": "93caf54027541a64b0210782a70fd14f",
     "grade": false,
     "grade_id": "cell-17f2099d91b3038f",
     "locked": false,
     "schema_version": 1,
     "solution": true
    }
   },
   "outputs": [],
   "source": [
    "# YOUR CODE HERE\n",
    "raise NotImplementedError()"
   ]
  },
  {
   "cell_type": "code",
   "execution_count": null,
   "metadata": {
    "deletable": false,
    "editable": false,
    "nbgrader": {
     "checksum": "75c5b35c321f09e3fbe3c46ec624468e",
     "grade": true,
     "grade_id": "cell-3bd461f1be410f75",
     "locked": true,
     "points": 2,
     "schema_version": 1,
     "solution": false
    }
   },
   "outputs": [],
   "source": [
    "with marks(2):\n",
    "    assert(check_hash(hum_last, ((), 379.0)))"
   ]
  },
  {
   "cell_type": "code",
   "execution_count": null,
   "metadata": {
    "deletable": false,
    "editable": false,
    "nbgrader": {
     "checksum": "725967d2ca46b32c8fe515b04cc315cf",
     "grade": true,
     "grade_id": "cell-590385cd63ae790d",
     "locked": true,
     "points": 2,
     "schema_version": 1,
     "solution": false
    }
   },
   "outputs": [],
   "source": [
    "with marks(2):\n",
    "    assert(check_hash(temp_first, ((), 50.0)))"
   ]
  },
  {
   "cell_type": "code",
   "execution_count": null,
   "metadata": {
    "deletable": false,
    "editable": false,
    "nbgrader": {
     "checksum": "36e896503605a996e9989a4f8d4a674b",
     "grade": true,
     "grade_id": "cell-19028943888ae090",
     "locked": true,
     "points": 2,
     "schema_version": 1,
     "solution": false
    }
   },
   "outputs": [],
   "source": [
    "with marks(2):\n",
    "    assert(check_hash(weeks, ((96,), 13091.118033988751)))\n",
    "    "
   ]
  },
  {
   "cell_type": "code",
   "execution_count": null,
   "metadata": {
    "deletable": false,
    "editable": false,
    "nbgrader": {
     "checksum": "dbb31730b197a20b8629f8fe1927690b",
     "grade": true,
     "grade_id": "cell-57e22f24be8159a7",
     "locked": true,
     "points": 2,
     "schema_version": 1,
     "solution": false
    }
   },
   "outputs": [],
   "source": [
    "with marks(2):\n",
    "    assert(check_hash(row_third, ((6,), 490.54981015887836)))"
   ]
  },
  {
   "cell_type": "markdown",
   "metadata": {},
   "source": [
    "C. **Aggregate functions** \n",
    "Compute the following results, storing the results in the variable specified and printing them out:\n",
    "\n",
    "* `total_deaths` total number of snails that died\n",
    "* `total_still_alive` total number of snails that survived the whole study\n",
    "* `mean_temp` mean temperature in the whole study\n",
    "* `max_humidity` highest humidity in the study\n",
    "* `average_death_rate` mean of the ratio of snail deaths to snails in the study\n",
    "* `snail_weeks` the total amount of snail effort that went into this study (number of snails times number of weeks)\n",
    "\n",
    "Each computation should be a single line of code"
   ]
  },
  {
   "cell_type": "code",
   "execution_count": null,
   "metadata": {
    "deletable": false,
    "nbgrader": {
     "checksum": "c4f6caf9fa4614ae274a2c99078ccaa2",
     "grade": false,
     "grade_id": "cell-427021397b9a50b2",
     "locked": false,
     "schema_version": 1,
     "solution": true
    }
   },
   "outputs": [],
   "source": [
    "# YOUR CODE HERE\n",
    "raise NotImplementedError()"
   ]
  },
  {
   "cell_type": "code",
   "execution_count": null,
   "metadata": {
    "deletable": false,
    "editable": false,
    "nbgrader": {
     "checksum": "bb333615ed50bb17dbd0d041de426156",
     "grade": true,
     "grade_id": "cell-12aba5ae7c698554",
     "locked": true,
     "points": 2,
     "schema_version": 1,
     "solution": false
    }
   },
   "outputs": [],
   "source": [
    "with marks(2):\n",
    "    assert(check_hash(total_deaths, ((), 1375.0)))\n",
    "    "
   ]
  },
  {
   "cell_type": "code",
   "execution_count": null,
   "metadata": {
    "deletable": false,
    "editable": false,
    "nbgrader": {
     "checksum": "b34e288fada748a549fa1ee263640ce8",
     "grade": true,
     "grade_id": "cell-0799d88a4e889521",
     "locked": true,
     "points": 2,
     "schema_version": 1,
     "solution": false
    }
   },
   "outputs": [],
   "source": [
    "with marks(2):\n",
    "    assert(check_hash(total_still_alive, ((), 8225.0)))"
   ]
  },
  {
   "cell_type": "code",
   "execution_count": null,
   "metadata": {
    "deletable": false,
    "editable": false,
    "nbgrader": {
     "checksum": "e6e28cbbd041f0641e1b60ea67b1eebc",
     "grade": true,
     "grade_id": "cell-e3030fa5597a6a3c",
     "locked": true,
     "points": 2,
     "schema_version": 1,
     "solution": false
    }
   },
   "outputs": [],
   "source": [
    "with marks(2):\n",
    "    assert(check_hash(mean_temp, ((), 75.0)))"
   ]
  },
  {
   "cell_type": "code",
   "execution_count": null,
   "metadata": {
    "deletable": false,
    "editable": false,
    "nbgrader": {
     "checksum": "1c39202785960bf5793a09883d066d77",
     "grade": true,
     "grade_id": "cell-d7b5c4b686b8e185",
     "locked": true,
     "points": 2,
     "schema_version": 1,
     "solution": false
    }
   },
   "outputs": [],
   "source": [
    "\n",
    "with marks(2):\n",
    "    assert(check_hash(max_humidity, ((), 379.0)))"
   ]
  },
  {
   "cell_type": "code",
   "execution_count": null,
   "metadata": {
    "deletable": false,
    "editable": false,
    "nbgrader": {
     "checksum": "27fc01e4236a997fc7f3f3a53a97f7a0",
     "grade": true,
     "grade_id": "cell-759195cd947bae30",
     "locked": true,
     "points": 6,
     "schema_version": 1,
     "solution": false
    }
   },
   "outputs": [],
   "source": [
    "with marks(6):\n",
    "    assert(check_hash(average_death_rate, ((), 0.71614583333333326)))"
   ]
  },
  {
   "cell_type": "code",
   "execution_count": null,
   "metadata": {
    "deletable": false,
    "editable": false,
    "nbgrader": {
     "checksum": "7a027f1c8ddb9c412f966c8658fb8816",
     "grade": true,
     "grade_id": "cell-e75b606eb7b69e7a",
     "locked": true,
     "points": 6,
     "schema_version": 1,
     "solution": false
    }
   },
   "outputs": [],
   "source": [
    "with marks(6):\n",
    "    assert(check_hash(snail_weeks, ((), 24000.0)))"
   ]
  },
  {
   "cell_type": "markdown",
   "metadata": {},
   "source": [
    "D. **Boolean indexing**\n",
    "Compute the following results, storing the results in the variable specified and printing them out:\n",
    "\n",
    "* `species_0` and `species_1`: split the dataset into two arrays, one with the entries for species 0 and one with the entries for species 1.\n",
    "\n",
    "* `weakest_snail` the snail species (0 or 1) that had the highest average death rate"
   ]
  },
  {
   "cell_type": "code",
   "execution_count": null,
   "metadata": {
    "deletable": false,
    "nbgrader": {
     "checksum": "e193553592848d9ab04a875e7467abac",
     "grade": false,
     "grade_id": "cell-2fb2b916ca1d1254",
     "locked": false,
     "schema_version": 1,
     "solution": true
    }
   },
   "outputs": [],
   "source": [
    "# YOUR CODE HERE\n",
    "raise NotImplementedError()"
   ]
  },
  {
   "cell_type": "code",
   "execution_count": null,
   "metadata": {
    "deletable": false,
    "editable": false,
    "nbgrader": {
     "checksum": "70f74b80d63d8ee9f2e9cabfe658a519",
     "grade": true,
     "grade_id": "cell-33631e32555140e0",
     "locked": true,
     "points": 8,
     "schema_version": 1,
     "solution": false
    }
   },
   "outputs": [],
   "source": [
    "with marks(8):\n",
    "    assert(check_hash(species_0, ((48, 6), 762041.58357993606)))\n",
    "    assert(check_hash(species_1, ((48, 6), 791902.31693958596)))  "
   ]
  },
  {
   "cell_type": "code",
   "execution_count": null,
   "metadata": {
    "deletable": false,
    "editable": false,
    "nbgrader": {
     "checksum": "a1fea9d8fe7d793c7df3acd826c16fc9",
     "grade": true,
     "grade_id": "cell-7405a52cf551031d",
     "locked": true,
     "points": 6,
     "schema_version": 1,
     "solution": false
    }
   },
   "outputs": [],
   "source": [
    "with marks(6):\n",
    "    assert(check_hash(weakest_snail, ((), 5.0)))"
   ]
  },
  {
   "cell_type": "markdown",
   "metadata": {},
   "source": [
    "E. **Arithmetic and ordering**\n",
    "Compute the following results, storing the results in the variable specified and printing them out:\n",
    "\n",
    "* `deg_f` each temperature in the study, but in degrees Fahrenheit. Use the knowledge that `0C = 32F, 100C = 212F`\n",
    "* `mean_cols` the mean of all the columns, as a 1D vector\n",
    "* `death_rate` the death rates, in sorted order, smallest first\n",
    "* `exposure_death_order` the exposure durations (in weeks), but in sorted in the order of death rates, smallest death rate first.\n",
    "\n",
    "* `best_temp`, `best_hum` the best temperature and humidity to keep a snail for four weeks without it dying. *Look only at the four week exposures, ignoring snails kept for less than this time.* "
   ]
  },
  {
   "cell_type": "code",
   "execution_count": null,
   "metadata": {
    "deletable": false,
    "nbgrader": {
     "checksum": "1380f029e9195942f546b6ce6fe52653",
     "grade": false,
     "grade_id": "cell-965b0640474113ac",
     "locked": false,
     "schema_version": 1,
     "solution": true
    }
   },
   "outputs": [],
   "source": [
    "# YOUR CODE HERE\n",
    "raise NotImplementedError()"
   ]
  },
  {
   "cell_type": "code",
   "execution_count": null,
   "metadata": {
    "deletable": false,
    "editable": false,
    "nbgrader": {
     "checksum": "e3f4d52aead096bf2dad8758c59aef70",
     "grade": true,
     "grade_id": "cell-9aca90f5ed692ce6",
     "locked": true,
     "points": 1,
     "schema_version": 1,
     "solution": false
    }
   },
   "outputs": [],
   "source": [
    "with marks(1):\n",
    "    assert(check_hash(deg_f, ((96,), 275523.34846922837)))"
   ]
  },
  {
   "cell_type": "code",
   "execution_count": null,
   "metadata": {
    "deletable": false,
    "editable": false,
    "nbgrader": {
     "checksum": "aad6818604c1ebfc5aa3b31b0decdc1e",
     "grade": true,
     "grade_id": "cell-7d0f86f908ce2a87",
     "locked": true,
     "points": 1,
     "schema_version": 1,
     "solution": false
    }
   },
   "outputs": [],
   "source": [
    "with marks(1):\n",
    "    assert(check_hash(mean_cols, ((6,), 522.92336963727359)))"
   ]
  },
  {
   "cell_type": "code",
   "execution_count": null,
   "metadata": {
    "deletable": false,
    "editable": false,
    "nbgrader": {
     "checksum": "546d0afa5c19e36b867519fd485edebd",
     "grade": true,
     "grade_id": "cell-e8a171753a823a96",
     "locked": true,
     "points": 2,
     "schema_version": 1,
     "solution": false
    }
   },
   "outputs": [],
   "source": [
    "with marks(2):\n",
    "    assert(check_hash(death_rate, ((96,), 1100.9803982902313)))"
   ]
  },
  {
   "cell_type": "code",
   "execution_count": null,
   "metadata": {
    "deletable": false,
    "editable": false,
    "nbgrader": {
     "checksum": "00038ed09cdbe36af40882d9787e1ac6",
     "grade": true,
     "grade_id": "cell-554ca9fb59641ac9",
     "locked": true,
     "points": 4,
     "schema_version": 1,
     "solution": false
    }
   },
   "outputs": [],
   "source": [
    "with marks(4):\n",
    "    assert(check_hash(exposure_death_order, ((96,), 13983.118033988751)))"
   ]
  },
  {
   "cell_type": "code",
   "execution_count": null,
   "metadata": {
    "deletable": false,
    "editable": false,
    "nbgrader": {
     "checksum": "28750be25fdf9a2b4c7608e85a5f3e83",
     "grade": true,
     "grade_id": "cell-22bc20db6ce8b95e",
     "locked": true,
     "points": 4,
     "schema_version": 1,
     "solution": false
    }
   },
   "outputs": [],
   "source": [
    "with marks(4):\n",
    "    assert(check_hash(best_temp, ((), 50.0)))"
   ]
  },
  {
   "cell_type": "code",
   "execution_count": null,
   "metadata": {
    "deletable": false,
    "editable": false,
    "nbgrader": {
     "checksum": "824b2331e11643929733058954081deb",
     "grade": true,
     "grade_id": "cell-36ed1c66c64c5946",
     "locked": true,
     "points": 4,
     "schema_version": 1,
     "solution": false
    }
   },
   "outputs": [],
   "source": [
    "with marks(4):\n",
    "    assert(check_hash(best_hum, ((), 379.0)))      "
   ]
  },
  {
   "cell_type": "markdown",
   "metadata": {},
   "source": [
    "## 5: Image operations\n",
    "Images can be represented as numerical arrays. We will use images as an example to explore NumPy functionality.\n",
    "\n",
    "* `img = ia.load_image_colour('filename.png')` will load an image as an array.\n",
    "* `ia.show_image(img)` will show it in the notebook.\n",
    "    "
   ]
  },
  {
   "cell_type": "markdown",
   "metadata": {},
   "source": [
    "A)\n",
    "\n",
    "We will:\n",
    "* Load `data/parrots.png` as `img_array` \n",
    "* Print out its shape and dtype\n",
    "* Show the image."
   ]
  },
  {
   "cell_type": "code",
   "execution_count": null,
   "metadata": {},
   "outputs": [],
   "source": [
    "img_array = ia.load_image_colour(\"data/parrots.png\")\n",
    "print(img_array.shape, img_array.dtype)\n",
    "ia.show_image(img_array)"
   ]
  },
  {
   "cell_type": "markdown",
   "metadata": {},
   "source": [
    "B) **Slicing arrays**\n",
    "* Create an array `cropped` which has the pixels from [150,100] to [350,300]. Note that these positions are in `[row, col]` format, not `[x,y]`.\n",
    "* Display the cropped array using `show_image()`. \n",
    "* Remember: the image is `WxHx3`. Think about how to slice the last dimension.\n",
    "* Show the cropped image so you can see it."
   ]
  },
  {
   "cell_type": "code",
   "execution_count": null,
   "metadata": {
    "deletable": false,
    "nbgrader": {
     "checksum": "88de535c821277abbe8cfd7b573e0d86",
     "grade": false,
     "grade_id": "cell-e55532295e444bd0",
     "locked": false,
     "schema_version": 1,
     "solution": true
    }
   },
   "outputs": [],
   "source": [
    "\n",
    "# YOUR CODE HERE\n",
    "raise NotImplementedError()"
   ]
  },
  {
   "cell_type": "code",
   "execution_count": null,
   "metadata": {
    "deletable": false,
    "editable": false,
    "nbgrader": {
     "checksum": "0fae6bb8fe2ec257e70707605f38f768",
     "grade": true,
     "grade_id": "cell-1065728e6cf70cf4",
     "locked": true,
     "points": 4,
     "schema_version": 1,
     "solution": false
    }
   },
   "outputs": [],
   "source": [
    "ia.show_image(cropped)\n",
    "with marks(4):\n",
    "    assert(check_hash(cropped, ((200, 200, 3), 3409234926.1084023)))"
   ]
  },
  {
   "cell_type": "markdown",
   "metadata": {},
   "source": [
    "C)  **Modifying arrays**\n",
    "\n",
    "Create an array \"censored\" which is the same as `img_array`, but has a black bar across the following regions to protect the parrot's privacy:\n",
    "    * [200,100] -> [260, 310]\n",
    "    * [140, 400]-> [200, 650]\n",
    "\n",
    "Setting array elements to zero will make them black.\n",
    "\n",
    "**Do not modify the original `img_array`**"
   ]
  },
  {
   "cell_type": "code",
   "execution_count": null,
   "metadata": {
    "deletable": false,
    "nbgrader": {
     "checksum": "60056af4576d38b7370085c217ca67ea",
     "grade": false,
     "grade_id": "cell-6615e422ecee6b7e",
     "locked": false,
     "schema_version": 1,
     "solution": true
    }
   },
   "outputs": [],
   "source": [
    "# YOUR CODE HERE\n",
    "raise NotImplementedError()"
   ]
  },
  {
   "cell_type": "code",
   "execution_count": null,
   "metadata": {
    "deletable": false,
    "editable": false,
    "nbgrader": {
     "checksum": "229b3a0367762250128110c80d8d1dc8",
     "grade": true,
     "grade_id": "cell-fc66e323769d8a84",
     "locked": true,
     "points": 4,
     "schema_version": 1,
     "solution": false
    }
   },
   "outputs": [],
   "source": [
    "ia.show_image(censored)\n",
    "with marks(4):\n",
    "    assert(check_hash(censored, ((512, 768, 3), 250654064351.74332)))\n",
    "    assert(check_hash(img_array, ((512, 768, 3), 269458072078.68924)))"
   ]
  },
  {
   "cell_type": "markdown",
   "metadata": {},
   "source": [
    "D) **Elementwise arithmetic** The image is stored as three colour planes, R,G,B. This is the `3` in the last position of the shape of the image (check the `shape` of the array where it is loaded in). The planes are often referred to as \"channels\". \n",
    "\n",
    "* Create an array `channel_diff`, which will be the **absolute** difference of the red channel of `img_array` (channel 0) from the green channel (channel 1), all scaled by a factor of **eight**. Hint: you need to use slicing here.\n"
   ]
  },
  {
   "cell_type": "code",
   "execution_count": null,
   "metadata": {
    "deletable": false,
    "nbgrader": {
     "checksum": "5293252a4501a8bc4c25dc690274b393",
     "grade": false,
     "grade_id": "cell-41fe7b5935b9cdbb",
     "locked": false,
     "schema_version": 1,
     "solution": true
    }
   },
   "outputs": [],
   "source": [
    "# YOUR CODE HERE\n",
    "raise NotImplementedError()"
   ]
  },
  {
   "cell_type": "code",
   "execution_count": null,
   "metadata": {
    "deletable": false,
    "editable": false,
    "nbgrader": {
     "checksum": "b1db797c4340883e5a208857240a2454",
     "grade": true,
     "grade_id": "cell-759063de0cbaee7a",
     "locked": true,
     "points": 4,
     "schema_version": 1,
     "solution": false
    }
   },
   "outputs": [],
   "source": [
    "ia.show_image(channel_diff)\n",
    "with marks(4):\n",
    "    assert(check_hash(channel_diff, ((512, 768), 95264282406.86458)))"
   ]
  },
  {
   "cell_type": "markdown",
   "metadata": {},
   "source": [
    "E) **Stacking arrays**\n",
    "\n",
    "Using *one* `for` loop, create a *list* of arrays which represent a panning animation which is a sequence of cropped versions of `img_array`. \n",
    "\n",
    "* The crops should start at [190,30] and be 200 pixels wide and 100 pixels high, and move 12 pixels right and 2 pixels up in each frame (that means the column index increases by 12, and the row index decreases by 2). \n",
    "* Create 30 frames. All of them will be the same size.\n",
    "* Stack the array into a single array called `panning_array`.\n",
    "\n",
    "Your code should be less than 15 lines (excluding any comments)!"
   ]
  },
  {
   "cell_type": "code",
   "execution_count": null,
   "metadata": {
    "deletable": false,
    "nbgrader": {
     "checksum": "893dd9ff707229b85fbffdad67d0d9b9",
     "grade": false,
     "grade_id": "cell-3d8d7655e04e7660",
     "locked": false,
     "schema_version": 1,
     "solution": true
    }
   },
   "outputs": [],
   "source": [
    "# YOUR CODE HERE\n",
    "raise NotImplementedError()"
   ]
  },
  {
   "cell_type": "code",
   "execution_count": null,
   "metadata": {
    "deletable": false,
    "editable": false,
    "lines_to_next_cell": 0,
    "nbgrader": {
     "checksum": "2b36ef2274ef5b89620493f3060ce735",
     "grade": true,
     "grade_id": "cell-b0bf82f051dbe3ef",
     "locked": true,
     "points": 10,
     "schema_version": 1,
     "solution": false
    }
   },
   "outputs": [],
   "source": [
    "ia.show_gif(panning_array, width=\"80%\")\n",
    "with marks(10):\n",
    "    assert(check_hash(panning_array,((30, 100, 200, 3), 834973352307.7242)))"
   ]
  },
  {
   "cell_type": "markdown",
   "metadata": {
    "deletable": false,
    "editable": false,
    "nbgrader": {
     "checksum": "581951a8856f2e2d6199797a65e3f862",
     "grade": false,
     "grade_id": "cell-bc1c422424034704",
     "locked": true,
     "schema_version": 1,
     "solution": false
    }
   },
   "source": [
    "----\n"
   ]
  },
  {
   "cell_type": "markdown",
   "metadata": {
    "deletable": false,
    "editable": false,
    "nbgrader": {
     "checksum": "0fe4dce48273167e9119885227111c5c",
     "grade": false,
     "grade_id": "cell-a2da5441fad3880c",
     "locked": true,
     "schema_version": 1,
     "solution": false
    }
   },
   "source": [
    "# Submission on Moodle"
   ]
  },
  {
   "cell_type": "markdown",
   "metadata": {
    "deletable": false,
    "editable": false,
    "nbgrader": {
     "checksum": "7cef69c1e6aa1e1513c43d5356f71b7e",
     "grade": false,
     "grade_id": "cell-082c0f4c865526cd",
     "locked": true,
     "schema_version": 1,
     "solution": false
    }
   },
   "source": [
    "\n",
    "We will generate the **one** pdf file you'll need to submit along with the notebook:\n",
    "\n",
    "*Note*: you do not need to worry about the formatting etc (that's predetermined); just make sure all the text and explanations are readable in the pdf and your'll be fine!\n"
   ]
  },
  {
   "cell_type": "code",
   "execution_count": null,
   "metadata": {
    "deletable": false,
    "editable": false,
    "nbgrader": {
     "checksum": "28540e9768c2a9b5083d7adb5f6fee2a",
     "grade": false,
     "grade_id": "cell-ed0d483af814e8f7",
     "locked": true,
     "schema_version": 1,
     "solution": false
    }
   },
   "outputs": [],
   "source": [
    "## Report generation - YOU MUST YOU RUN THIS CELL !\n",
    "#\n",
    "# This part will generate a combined pdf of your work for the assesment (for 0 marks, but you will see a green check)\n",
    "#\n",
    "# It is your responsibility to check that the PDF version represents your answer before uploading to Moodle!\n",
    "#\n",
    "# Ignore warnings regarding fonts\n",
    "#\n",
    "\n",
    "from matplotlib.backends.backend_pdf import PdfPages\n",
    "\n",
    "# File 1: declaration of originality with system info\n",
    "try:\n",
    "    f = open('uofg_declaration_of_originality.txt','r')\n",
    "    uofg_declaration_of_originality = f.read()\n",
    "except: \n",
    "    uofg_declaration_of_originality = \"uofg_declaration_of_originality not present in cwd\"\n",
    "\n",
    "try:\n",
    "    student_id.lower()\n",
    "except: \n",
    "    student_id=\"NORESPONSE\"\n",
    "try:\n",
    "    student_typewritten_signature.lower()\n",
    "except: \n",
    "    student_typewritten_signature=\"NORESPONSE\"\n",
    "\n",
    "fn = (\"idss_lab_selfstudy_%s_declaration.pdf\" % (student_id.lower()))\n",
    "fig_dec = plt.figure(figsize=(10, 12)) \n",
    "fig_dec.text(0.1,0.1,(\"%s\\n\\n Student Id %s\\n\\n Typewritten signature: %s\\n\\n UUID System: %s\" % (uofg_declaration_of_originality,student_id, student_typewritten_signature, uuid_system)))\n",
    "\n",
    "# Combined: \n",
    "fn = (\"idss_lab_selfstudy_%s_combined.pdf.pdf\" % (student_id))\n",
    "pp = PdfPages(fn)\n",
    "pp.savefig(fig_dec)\n",
    "pp.close()\n",
    "\n",
    "with marks(0):  # have you generated the combined file...? you don't get any credit for this just confirmation that the file has been generated\n",
    "    assert(os.path.exists(fn))"
   ]
  },
  {
   "cell_type": "markdown",
   "metadata": {},
   "source": [
    "**You MUST (for full or partial marks) submit via Moodle two files:**\n",
    "\n",
    "- this notebook (completed) after \"Restart and rerun all\":\n",
    "    - `idss_lab_selfstudy_v20202021a.ipynb`\n",
    "    \n",
    "- the combined pdf (autogenerated) containing the relevant figures and answers for the manual assessment\n",
    "     - `idss_lab_selfstudy_combined_v20202021a_[YOUR STUDENT ID].pdf`)\n",
    "\n",
    "For the assessed labs, there will be an automatic 2 subband penalty if you do not submit the correct file or use incorrect formatting of the filenames (e.g. A4 will be reduced to B1)! "
   ]
  },
  {
   "cell_type": "code",
   "execution_count": null,
   "metadata": {
    "deletable": false,
    "editable": false,
    "nbgrader": {
     "checksum": "cce63a037959d27a309bcbe9eca384ba",
     "grade": true,
     "grade_id": "cell-ebcc0b17f2021cf4",
     "locked": true,
     "points": 0,
     "schema_version": 1,
     "solution": false
    }
   },
   "outputs": [],
   "source": []
  },
  {
   "cell_type": "code",
   "execution_count": null,
   "metadata": {},
   "outputs": [],
   "source": []
  }
 ],
 "metadata": {
  "kernelspec": {
   "display_name": "Python 3",
   "language": "python",
   "name": "python3"
  },
  "language_info": {
   "codemirror_mode": {
    "name": "ipython",
    "version": 3
   },
   "file_extension": ".py",
   "mimetype": "text/x-python",
   "name": "python",
   "nbconvert_exporter": "python",
   "pygments_lexer": "ipython3",
   "version": "3.8.5"
  }
 },
 "nbformat": 4,
 "nbformat_minor": 2
}
